{
  "nbformat": 4,
  "nbformat_minor": 0,
  "metadata": {
    "colab": {
      "name": "denoising_diffusion-Model-Test.ipynb",
      "provenance": [],
      "collapsed_sections": [],
      "mount_file_id": "1OM1gYaJfM18xOsftoR_XmalNzcjBkJ7K",
      "authorship_tag": "ABX9TyMuezWuy2eAaMVR+xxpBTMp",
      "include_colab_link": true
    },
    "kernelspec": {
      "name": "python3",
      "display_name": "Python 3"
    },
    "language_info": {
      "name": "python"
    },
    "accelerator": "GPU",
    "gpuClass": "standard"
  },
  "cells": [
    {
      "cell_type": "markdown",
      "metadata": {
        "id": "view-in-github",
        "colab_type": "text"
      },
      "source": [
        "<a href=\"https://colab.research.google.com/github/prodramp/DeepWorks/blob/main/DiffusionModels/denoising_diffusion_Model_Test.ipynb\" target=\"_parent\"><img src=\"https://colab.research.google.com/assets/colab-badge.svg\" alt=\"Open In Colab\"/></a>"
      ]
    },
    {
      "cell_type": "code",
      "execution_count": null,
      "metadata": {
        "colab": {
          "base_uri": "https://localhost:8080/"
        },
        "id": "EfCfItkKfaND",
        "outputId": "518d86c6-2c46-442b-f983-265f53d21fd0"
      },
      "outputs": [
        {
          "output_type": "stream",
          "name": "stdout",
          "text": [
            "Cloning into 'denoising_diffusion'...\n",
            "remote: Enumerating objects: 74, done.\u001b[K\n",
            "remote: Counting objects: 100% (74/74), done.\u001b[K\n",
            "remote: Compressing objects: 100% (74/74), done.\u001b[K\n",
            "remote: Total 74 (delta 36), reused 5 (delta 0), pack-reused 0\u001b[K\n",
            "Unpacking objects: 100% (74/74), done.\n"
          ]
        }
      ],
      "source": [
        "!git clone https://github.com/hmdolatabadi/denoising_diffusion.git"
      ]
    },
    {
      "cell_type": "code",
      "source": [
        "!pip install pytorch_lightning"
      ],
      "metadata": {
        "colab": {
          "base_uri": "https://localhost:8080/"
        },
        "id": "Mios9_-gncgr",
        "outputId": "6bb2b73f-7472-4d16-de31-e008bf93e8d1"
      },
      "execution_count": null,
      "outputs": [
        {
          "output_type": "stream",
          "name": "stdout",
          "text": [
            "Looking in indexes: https://pypi.org/simple, https://us-python.pkg.dev/colab-wheels/public/simple/\n",
            "Collecting pytorch_lightning\n",
            "  Downloading pytorch_lightning-1.6.5-py3-none-any.whl (585 kB)\n",
            "\u001b[K     |████████████████████████████████| 585 kB 27.4 MB/s \n",
            "\u001b[?25hCollecting fsspec[http]!=2021.06.0,>=2021.05.0\n",
            "  Downloading fsspec-2022.5.0-py3-none-any.whl (140 kB)\n",
            "\u001b[K     |████████████████████████████████| 140 kB 75.5 MB/s \n",
            "\u001b[?25hCollecting pyDeprecate>=0.3.1\n",
            "  Downloading pyDeprecate-0.3.2-py3-none-any.whl (10 kB)\n",
            "Requirement already satisfied: torch>=1.8.* in /usr/local/lib/python3.7/dist-packages (from pytorch_lightning) (1.12.0+cu113)\n",
            "Requirement already satisfied: typing-extensions>=4.0.0 in /usr/local/lib/python3.7/dist-packages (from pytorch_lightning) (4.1.1)\n",
            "Requirement already satisfied: numpy>=1.17.2 in /usr/local/lib/python3.7/dist-packages (from pytorch_lightning) (1.21.6)\n",
            "Requirement already satisfied: protobuf<=3.20.1 in /usr/local/lib/python3.7/dist-packages (from pytorch_lightning) (3.17.3)\n",
            "Requirement already satisfied: packaging>=17.0 in /usr/local/lib/python3.7/dist-packages (from pytorch_lightning) (21.3)\n",
            "Collecting PyYAML>=5.4\n",
            "  Downloading PyYAML-6.0-cp37-cp37m-manylinux_2_5_x86_64.manylinux1_x86_64.manylinux_2_12_x86_64.manylinux2010_x86_64.whl (596 kB)\n",
            "\u001b[K     |████████████████████████████████| 596 kB 66.1 MB/s \n",
            "\u001b[?25hRequirement already satisfied: tqdm>=4.57.0 in /usr/local/lib/python3.7/dist-packages (from pytorch_lightning) (4.64.0)\n",
            "Requirement already satisfied: tensorboard>=2.2.0 in /usr/local/lib/python3.7/dist-packages (from pytorch_lightning) (2.8.0)\n",
            "Collecting torchmetrics>=0.4.1\n",
            "  Downloading torchmetrics-0.9.2-py3-none-any.whl (419 kB)\n",
            "\u001b[K     |████████████████████████████████| 419 kB 66.4 MB/s \n",
            "\u001b[?25hRequirement already satisfied: requests in /usr/local/lib/python3.7/dist-packages (from fsspec[http]!=2021.06.0,>=2021.05.0->pytorch_lightning) (2.23.0)\n",
            "Collecting aiohttp\n",
            "  Downloading aiohttp-3.8.1-cp37-cp37m-manylinux_2_5_x86_64.manylinux1_x86_64.manylinux_2_12_x86_64.manylinux2010_x86_64.whl (1.1 MB)\n",
            "\u001b[K     |████████████████████████████████| 1.1 MB 61.2 MB/s \n",
            "\u001b[?25hRequirement already satisfied: pyparsing!=3.0.5,>=2.0.2 in /usr/local/lib/python3.7/dist-packages (from packaging>=17.0->pytorch_lightning) (3.0.9)\n",
            "Requirement already satisfied: six>=1.9 in /usr/local/lib/python3.7/dist-packages (from protobuf<=3.20.1->pytorch_lightning) (1.15.0)\n",
            "Requirement already satisfied: absl-py>=0.4 in /usr/local/lib/python3.7/dist-packages (from tensorboard>=2.2.0->pytorch_lightning) (1.2.0)\n",
            "Requirement already satisfied: setuptools>=41.0.0 in /usr/local/lib/python3.7/dist-packages (from tensorboard>=2.2.0->pytorch_lightning) (57.4.0)\n",
            "Requirement already satisfied: tensorboard-data-server<0.7.0,>=0.6.0 in /usr/local/lib/python3.7/dist-packages (from tensorboard>=2.2.0->pytorch_lightning) (0.6.1)\n",
            "Requirement already satisfied: werkzeug>=0.11.15 in /usr/local/lib/python3.7/dist-packages (from tensorboard>=2.2.0->pytorch_lightning) (1.0.1)\n",
            "Requirement already satisfied: tensorboard-plugin-wit>=1.6.0 in /usr/local/lib/python3.7/dist-packages (from tensorboard>=2.2.0->pytorch_lightning) (1.8.1)\n",
            "Requirement already satisfied: google-auth<3,>=1.6.3 in /usr/local/lib/python3.7/dist-packages (from tensorboard>=2.2.0->pytorch_lightning) (1.35.0)\n",
            "Requirement already satisfied: markdown>=2.6.8 in /usr/local/lib/python3.7/dist-packages (from tensorboard>=2.2.0->pytorch_lightning) (3.4.1)\n",
            "Requirement already satisfied: wheel>=0.26 in /usr/local/lib/python3.7/dist-packages (from tensorboard>=2.2.0->pytorch_lightning) (0.37.1)\n",
            "Requirement already satisfied: grpcio>=1.24.3 in /usr/local/lib/python3.7/dist-packages (from tensorboard>=2.2.0->pytorch_lightning) (1.47.0)\n",
            "Requirement already satisfied: google-auth-oauthlib<0.5,>=0.4.1 in /usr/local/lib/python3.7/dist-packages (from tensorboard>=2.2.0->pytorch_lightning) (0.4.6)\n",
            "Requirement already satisfied: cachetools<5.0,>=2.0.0 in /usr/local/lib/python3.7/dist-packages (from google-auth<3,>=1.6.3->tensorboard>=2.2.0->pytorch_lightning) (4.2.4)\n",
            "Requirement already satisfied: pyasn1-modules>=0.2.1 in /usr/local/lib/python3.7/dist-packages (from google-auth<3,>=1.6.3->tensorboard>=2.2.0->pytorch_lightning) (0.2.8)\n",
            "Requirement already satisfied: rsa<5,>=3.1.4 in /usr/local/lib/python3.7/dist-packages (from google-auth<3,>=1.6.3->tensorboard>=2.2.0->pytorch_lightning) (4.8)\n",
            "Requirement already satisfied: requests-oauthlib>=0.7.0 in /usr/local/lib/python3.7/dist-packages (from google-auth-oauthlib<0.5,>=0.4.1->tensorboard>=2.2.0->pytorch_lightning) (1.3.1)\n",
            "Requirement already satisfied: importlib-metadata>=4.4 in /usr/local/lib/python3.7/dist-packages (from markdown>=2.6.8->tensorboard>=2.2.0->pytorch_lightning) (4.12.0)\n",
            "Requirement already satisfied: zipp>=0.5 in /usr/local/lib/python3.7/dist-packages (from importlib-metadata>=4.4->markdown>=2.6.8->tensorboard>=2.2.0->pytorch_lightning) (3.8.1)\n",
            "Requirement already satisfied: pyasn1<0.5.0,>=0.4.6 in /usr/local/lib/python3.7/dist-packages (from pyasn1-modules>=0.2.1->google-auth<3,>=1.6.3->tensorboard>=2.2.0->pytorch_lightning) (0.4.8)\n",
            "Requirement already satisfied: chardet<4,>=3.0.2 in /usr/local/lib/python3.7/dist-packages (from requests->fsspec[http]!=2021.06.0,>=2021.05.0->pytorch_lightning) (3.0.4)\n",
            "Requirement already satisfied: urllib3!=1.25.0,!=1.25.1,<1.26,>=1.21.1 in /usr/local/lib/python3.7/dist-packages (from requests->fsspec[http]!=2021.06.0,>=2021.05.0->pytorch_lightning) (1.24.3)\n",
            "Requirement already satisfied: idna<3,>=2.5 in /usr/local/lib/python3.7/dist-packages (from requests->fsspec[http]!=2021.06.0,>=2021.05.0->pytorch_lightning) (2.10)\n",
            "Requirement already satisfied: certifi>=2017.4.17 in /usr/local/lib/python3.7/dist-packages (from requests->fsspec[http]!=2021.06.0,>=2021.05.0->pytorch_lightning) (2022.6.15)\n",
            "Requirement already satisfied: oauthlib>=3.0.0 in /usr/local/lib/python3.7/dist-packages (from requests-oauthlib>=0.7.0->google-auth-oauthlib<0.5,>=0.4.1->tensorboard>=2.2.0->pytorch_lightning) (3.2.0)\n",
            "Requirement already satisfied: attrs>=17.3.0 in /usr/local/lib/python3.7/dist-packages (from aiohttp->fsspec[http]!=2021.06.0,>=2021.05.0->pytorch_lightning) (21.4.0)\n",
            "Requirement already satisfied: charset-normalizer<3.0,>=2.0 in /usr/local/lib/python3.7/dist-packages (from aiohttp->fsspec[http]!=2021.06.0,>=2021.05.0->pytorch_lightning) (2.1.0)\n",
            "Collecting async-timeout<5.0,>=4.0.0a3\n",
            "  Downloading async_timeout-4.0.2-py3-none-any.whl (5.8 kB)\n",
            "Collecting frozenlist>=1.1.1\n",
            "  Downloading frozenlist-1.3.0-cp37-cp37m-manylinux_2_5_x86_64.manylinux1_x86_64.manylinux_2_17_x86_64.manylinux2014_x86_64.whl (144 kB)\n",
            "\u001b[K     |████████████████████████████████| 144 kB 67.4 MB/s \n",
            "\u001b[?25hCollecting yarl<2.0,>=1.0\n",
            "  Downloading yarl-1.7.2-cp37-cp37m-manylinux_2_5_x86_64.manylinux1_x86_64.manylinux_2_12_x86_64.manylinux2010_x86_64.whl (271 kB)\n",
            "\u001b[K     |████████████████████████████████| 271 kB 74.5 MB/s \n",
            "\u001b[?25hCollecting asynctest==0.13.0\n",
            "  Downloading asynctest-0.13.0-py3-none-any.whl (26 kB)\n",
            "Collecting aiosignal>=1.1.2\n",
            "  Downloading aiosignal-1.2.0-py3-none-any.whl (8.2 kB)\n",
            "Collecting multidict<7.0,>=4.5\n",
            "  Downloading multidict-6.0.2-cp37-cp37m-manylinux_2_17_x86_64.manylinux2014_x86_64.whl (94 kB)\n",
            "\u001b[K     |████████████████████████████████| 94 kB 3.8 MB/s \n",
            "\u001b[?25hInstalling collected packages: multidict, frozenlist, yarl, asynctest, async-timeout, aiosignal, fsspec, aiohttp, torchmetrics, PyYAML, pyDeprecate, pytorch-lightning\n",
            "  Attempting uninstall: PyYAML\n",
            "    Found existing installation: PyYAML 3.13\n",
            "    Uninstalling PyYAML-3.13:\n",
            "      Successfully uninstalled PyYAML-3.13\n",
            "Successfully installed PyYAML-6.0 aiohttp-3.8.1 aiosignal-1.2.0 async-timeout-4.0.2 asynctest-0.13.0 frozenlist-1.3.0 fsspec-2022.5.0 multidict-6.0.2 pyDeprecate-0.3.2 pytorch-lightning-1.6.5 torchmetrics-0.9.2 yarl-1.7.2\n"
          ]
        }
      ]
    },
    {
      "cell_type": "code",
      "source": [
        "!ls -lah"
      ],
      "metadata": {
        "colab": {
          "base_uri": "https://localhost:8080/"
        },
        "id": "zSLAum6qfcfK",
        "outputId": "11b1b969-1cc6-4666-b396-339538c5d806"
      },
      "execution_count": null,
      "outputs": [
        {
          "output_type": "stream",
          "name": "stdout",
          "text": [
            "total 24K\n",
            "drwxr-xr-x 1 root root 4.0K Jul 21 22:16 .\n",
            "drwxr-xr-x 1 root root 4.0K Jul 21 21:46 ..\n",
            "drwxr-xr-x 4 root root 4.0K Jul 13 13:42 .config\n",
            "drwxr-xr-x 6 root root 4.0K Jul 21 22:16 denoising_diffusion\n",
            "drwx------ 7 root root 4.0K Jul 21 22:10 drive\n",
            "drwxr-xr-x 1 root root 4.0K Jul 13 13:43 sample_data\n"
          ]
        }
      ]
    },
    {
      "cell_type": "markdown",
      "source": [
        "### Download Model to your Google drive and mount the Google drive\n",
        "- https://drive.google.com/file/d/1ZUOz0EqtaVweL_1iIDOVHbnL79FCOXTQ/view?usp=sharing"
      ],
      "metadata": {
        "id": "Vu2su79bftJQ"
      }
    },
    {
      "cell_type": "code",
      "source": [
        "!ls -lah '/content/drive/MyDrive/Colab Notebooks/cifar10.ckpt'"
      ],
      "metadata": {
        "colab": {
          "base_uri": "https://localhost:8080/"
        },
        "id": "2TKRl-r9fgum",
        "outputId": "c53e03d5-76f3-42d6-b0f5-6aaf6d3eb365"
      },
      "execution_count": null,
      "outputs": [
        {
          "output_type": "stream",
          "name": "stdout",
          "text": [
            "-rw------- 1 root root 264M Jul 21 16:24 '/content/drive/MyDrive/Colab Notebooks/cifar10.ckpt'\n"
          ]
        }
      ]
    },
    {
      "cell_type": "code",
      "source": [
        "!pwd"
      ],
      "metadata": {
        "id": "W5WrGJcpmrVd"
      },
      "execution_count": null,
      "outputs": []
    },
    {
      "cell_type": "code",
      "source": [
        "!python /content/denoising_diffusion/diffusion_lightning.py \\\n",
        "        --config /content/denoising_diffusion/config/diffusion_cifar10.json \\\n",
        "        --model_dir '/content/drive/MyDrive/Colab Notebooks/cifar10.ckpt' \\\n",
        "        --sample_dir /content/cifarout \\\n",
        "        --n_samples 2"
      ],
      "metadata": {
        "id": "650zsaJ4f-9e"
      },
      "execution_count": null,
      "outputs": []
    },
    {
      "cell_type": "code",
      "source": [
        "!cat /content/denoising_diffusion/config/diffusion_cifar10.json"
      ],
      "metadata": {
        "colab": {
          "base_uri": "https://localhost:8080/"
        },
        "id": "dn0GFOJdnY4I",
        "outputId": "76e5c8e3-920e-49a0-92af-d76a6d9c7a55"
      },
      "execution_count": null,
      "outputs": [
        {
          "output_type": "stream",
          "name": "stdout",
          "text": [
            "{\r\n",
            "\"dataset\": {\r\n",
            "    \"name\": \"cifar10\",\r\n",
            "    \"path\": \"/cifar10_data/\",\r\n",
            "    \"resolution\": 32\r\n",
            "}\r\n",
            ",\r\n",
            "\"model\": {\r\n",
            "    \"in_channel\": 3,\r\n",
            "    \"channel\": 128,\r\n",
            "    \"channel_multiplier\": [1, 2, 2, 2],\r\n",
            "    \"n_res_blocks\": 2,\r\n",
            "    \"attn_strides\": [16],\r\n",
            "    \"mean_type\": \"eps\",\r\n",
            "    \"var_type\": \"fixedlarge\",\r\n",
            "    \"loss_type\": \"mse\",\r\n",
            "    \"dropout\": 0.1,\r\n",
            "    \"fold\": 1,\r\n",
            "    \"schedule\": {\r\n",
            "        \"type\": \"linear\",\r\n",
            "        \"beta_start\": 1e-4,\r\n",
            "        \"beta_end\": 2e-2,\r\n",
            "        \"n_timestep\": 1000\r\n",
            "    },\r\n",
            "    \"device\": \"cuda\",\r\n",
            "    \"precision\": 32\r\n",
            "}\r\n",
            ",\r\n",
            "\"training\": {\r\n",
            "    \"n_iter\" : 1000000,\r\n",
            "    \"optimizer\": {\r\n",
            "        \"type\": \"adam\",\r\n",
            "        \"lr\": 2e-4\r\n",
            "    },\r\n",
            "    \"dataloader\": {\r\n",
            "        \"batch_size\": 128,\r\n",
            "        \"num_workers\": 4,\r\n",
            "        \"drop_last\": true\r\n",
            "    }\r\n",
            "}\r\n",
            ",\r\n",
            "\"validation\": {\r\n",
            "    \"dataloader\": {\r\n",
            "        \"batch_size\": 100,\r\n",
            "        \"num_workers\": 4,\r\n",
            "        \"drop_last\": false\r\n",
            "    }\r\n",
            "},\r\n",
            "\"evaluate\": {\r\n",
            "    \"wandb\": false,\r\n",
            "    \"log_every\": 500,\r\n",
            "    \"save_every\": 5000,\r\n",
            "    \"valid_every\": 5000\r\n",
            "}\r\n",
            "}\r\n"
          ]
        }
      ]
    },
    {
      "cell_type": "code",
      "source": [
        "!cp /content/denoising_diffusion/config/diffusion_cifar10.json \\\n",
        "    /content/denoising_diffusion/config/diffusion_cifar10_new.json"
      ],
      "metadata": {
        "id": "NeloC_J5orX5"
      },
      "execution_count": null,
      "outputs": []
    },
    {
      "cell_type": "markdown",
      "source": [
        "### Download the diffusion_cifar10_new.json to local machine, edit it and then re-upload it back to your /content/denoising_diffusion/config/ folder."
      ],
      "metadata": {
        "id": "AlZzwS0nqnqp"
      }
    },
    {
      "cell_type": "code",
      "source": [
        "!cat /content/denoising_diffusion/config/diffusion_cifar10_new.json"
      ],
      "metadata": {
        "colab": {
          "base_uri": "https://localhost:8080/"
        },
        "id": "f6_EKhCopQVV",
        "outputId": "38a3b726-abb9-4dc2-d38e-fac63186247e"
      },
      "execution_count": null,
      "outputs": [
        {
          "output_type": "stream",
          "name": "stdout",
          "text": [
            "{\r\n",
            "\"dataset\": {\r\n",
            "    \"name\": \"cifar10\",\r\n",
            "    \"path\": \"/cifar10_data/\",\r\n",
            "    \"resolution\": 256\r\n",
            "}\r\n",
            ",\r\n",
            "\"model\": {\r\n",
            "    \"in_channel\": 3,\r\n",
            "    \"channel\": 128,\r\n",
            "    \"channel_multiplier\": [1, 2, 2, 2],\r\n",
            "    \"n_res_blocks\": 2,\r\n",
            "    \"attn_strides\": [16],\r\n",
            "    \"mean_type\": \"eps\",\r\n",
            "    \"var_type\": \"fixedlarge\",\r\n",
            "    \"loss_type\": \"mse\",\r\n",
            "    \"dropout\": 0.1,\r\n",
            "    \"fold\": 1,\r\n",
            "    \"schedule\": {\r\n",
            "        \"type\": \"linear\",\r\n",
            "        \"beta_start\": 1e-4,\r\n",
            "        \"beta_end\": 2e-2,\r\n",
            "        \"n_timestep\": 1000\r\n",
            "    },\r\n",
            "    \"device\": \"cuda\",\r\n",
            "    \"precision\": 32\r\n",
            "}\r\n",
            ",\r\n",
            "\"training\": {\r\n",
            "    \"n_iter\" : 1000000,\r\n",
            "    \"optimizer\": {\r\n",
            "        \"type\": \"adam\",\r\n",
            "        \"lr\": 2e-4\r\n",
            "    },\r\n",
            "    \"dataloader\": {\r\n",
            "        \"batch_size\": 128,\r\n",
            "        \"num_workers\": 4,\r\n",
            "        \"drop_last\": true\r\n",
            "    }\r\n",
            "}\r\n",
            ",\r\n",
            "\"validation\": {\r\n",
            "    \"dataloader\": {\r\n",
            "        \"batch_size\": 100,\r\n",
            "        \"num_workers\": 4,\r\n",
            "        \"drop_last\": false\r\n",
            "    }\r\n",
            "},\r\n",
            "\"evaluate\": {\r\n",
            "    \"wandb\": false,\r\n",
            "    \"log_every\": 500,\r\n",
            "    \"save_every\": 5000,\r\n",
            "    \"valid_every\": 5000\r\n",
            "}\r\n",
            "}\r\n"
          ]
        }
      ]
    },
    {
      "cell_type": "code",
      "source": [
        "!ls -lah /content/denoising_diffusion/config/"
      ],
      "metadata": {
        "id": "ckur4PXqpVsp"
      },
      "execution_count": null,
      "outputs": []
    },
    {
      "cell_type": "code",
      "source": [
        "!python /content/denoising_diffusion/diffusion_lightning.py \\\n",
        "        --config /content/denoising_diffusion/config/diffusion_cifar10_new.json \\\n",
        "        --model_dir '/content/drive/MyDrive/Colab Notebooks/cifar10.ckpt' \\\n",
        "        --sample_dir /content/cifarout256 \\\n",
        "        --n_samples 2"
      ],
      "metadata": {
        "id": "QOitA4VLq3-r"
      },
      "execution_count": null,
      "outputs": []
    },
    {
      "cell_type": "code",
      "source": [
        ""
      ],
      "metadata": {
        "id": "B8JUJ6vT20Za"
      },
      "execution_count": null,
      "outputs": []
    }
  ]
}