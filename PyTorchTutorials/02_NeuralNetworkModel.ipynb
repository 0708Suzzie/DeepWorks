{
  "nbformat": 4,
  "nbformat_minor": 0,
  "metadata": {
    "colab": {
      "name": "02-NeuralNetworkModel.ipynb",
      "provenance": [],
      "collapsed_sections": [],
      "authorship_tag": "ABX9TyNaJJB6Lw9s4twtBQeHOdko",
      "include_colab_link": true
    },
    "kernelspec": {
      "name": "python3",
      "display_name": "Python 3"
    },
    "language_info": {
      "name": "python"
    }
  },
  "cells": [
    {
      "cell_type": "markdown",
      "metadata": {
        "id": "view-in-github",
        "colab_type": "text"
      },
      "source": [
        "<a href=\"https://colab.research.google.com/github/prodramp/DeepWorks/blob/main/PyTorchTutorials/02_NeuralNetworkModel.ipynb\" target=\"_parent\"><img src=\"https://colab.research.google.com/assets/colab-badge.svg\" alt=\"Open In Colab\"/></a>"
      ]
    },
    {
      "cell_type": "markdown",
      "source": [
        "# **What we will cover in this Notebook:**\n",
        "- Creating your very first Network Model\n",
        "- Understanding input data features to setup correct Network Model\n",
        "- Setting network model definition and forward functions \n",
        "\n",
        "Resources:\n",
        "- https://www.marktechpost.com/2021/01/09/getting-started-with-pytorch-in-google-collab-with-free-gpu/\n",
        "- https://towardsdatascience.com/optimize-pytorch-performance-for-speed-and-memory-efficiency-2022-84f453916ea6\n",
        "- https://www.kdnuggets.com/2020/09/most-complete-guide-pytorch-data-scientists.html\n",
        "- https://pytorch.org/docs/stable/index.html"
      ],
      "metadata": {
        "id": "78Wd5SwJ6BGM"
      }
    },
    {
      "cell_type": "markdown",
      "source": [
        "# **PyTorch**\n",
        "- nn.Module\n",
        "  - Base class for all neural network modules.\n",
        "  - Your models should also subclass this class.\n",
        "\n"
      ],
      "metadata": {
        "id": "jYLxfbiwsAWR"
      }
    },
    {
      "cell_type": "code",
      "source": [
        "import torch\n",
        "import torch.nn as nn"
      ],
      "metadata": {
        "id": "rkhm5-fhsW84"
      },
      "execution_count": 1,
      "outputs": []
    },
    {
      "cell_type": "markdown",
      "source": [
        "Define your Neural Network Model:\n",
        "- Class based on nn.Module\n",
        "- The __init__ part has all the layers defined in the NN model\n",
        "- The forward() method defined how the data flows from one layer to another inside the network"
      ],
      "metadata": {
        "id": "z5tiGQbvhm38"
      }
    },
    {
      "cell_type": "markdown",
      "source": [
        "# **Define your Neural network Model**"
      ],
      "metadata": {
        "id": "qwxk_DH_ruWB"
      }
    },
    {
      "cell_type": "code",
      "execution_count": 2,
      "metadata": {
        "id": "qN2EFcwdrld9"
      },
      "outputs": [],
      "source": [
        "class myFirstNeuralNetworkModel(nn.Module):\n",
        "  def __init__(self):\n",
        "    super().__init__()\n",
        "    # This model has no layers\n",
        "  def forward(self, x):\n",
        "    # This model does not forward anything\n",
        "    return x"
      ]
    },
    {
      "cell_type": "markdown",
      "source": [
        "### **Instantiate your model:**"
      ],
      "metadata": {
        "id": "YFR4s7_Kr7bA"
      }
    },
    {
      "cell_type": "code",
      "source": [
        "# creating your model object\n",
        "model = myFirstNeuralNetworkModel()"
      ],
      "metadata": {
        "id": "N-qDF7gugri9"
      },
      "execution_count": 3,
      "outputs": []
    },
    {
      "cell_type": "code",
      "source": [
        "print(model)"
      ],
      "metadata": {
        "colab": {
          "base_uri": "https://localhost:8080/"
        },
        "id": "TlLAt33qg2o2",
        "outputId": "f5f5a6d1-4531-4e7e-b6ce-1a732b8895de"
      },
      "execution_count": 4,
      "outputs": [
        {
          "output_type": "stream",
          "name": "stdout",
          "text": [
            "myFirstNeuralNetworkModel()\n"
          ]
        }
      ]
    },
    {
      "cell_type": "markdown",
      "source": [
        "# **Define your input tensor data:**"
      ],
      "metadata": {
        "id": "aBHDGn8erzaf"
      }
    },
    {
      "cell_type": "markdown",
      "source": [
        "Let's assume that our input data has:\n",
        "- Total 10 records\n",
        "  - 10 records of 5 columns or dimensions\n",
        "  - 10 x [age, income, zipcode, has_house, is_married]\n",
        "  - Outcome is purchase_house = True or False/ 1 or 0\n",
        "- Each record has 5 dimesions or fields"
      ],
      "metadata": {
        "id": "WLY6dv7Ftkxq"
      }
    },
    {
      "cell_type": "code",
      "source": [
        "t = torch.randn(10, 5)\n",
        "print(t.shape)\n",
        "print(t.dtype)\n",
        "print(t.size)\n",
        "print(t)"
      ],
      "metadata": {
        "colab": {
          "base_uri": "https://localhost:8080/"
        },
        "id": "rzLKWbznsUuz",
        "outputId": "0fc0aa6a-09e5-4e7f-c9fa-e589eb5f62ae"
      },
      "execution_count": 5,
      "outputs": [
        {
          "output_type": "stream",
          "name": "stdout",
          "text": [
            "torch.Size([10, 5])\n",
            "torch.float32\n",
            "<built-in method size of Tensor object at 0x7fdfb9bf5cb0>\n",
            "tensor([[-0.3967, -0.1011, -0.6779, -1.0791,  1.8772],\n",
            "        [ 0.5511,  0.4503,  1.9484, -1.3010, -0.5900],\n",
            "        [ 0.2392,  0.8913,  0.4005,  0.5860,  0.4417],\n",
            "        [ 1.1952, -0.8859, -0.6021,  0.1187,  0.1866],\n",
            "        [ 2.3325, -1.4756,  0.8492, -1.6600, -0.0365],\n",
            "        [ 0.3559,  0.5877, -0.6701, -1.9684, -0.9035],\n",
            "        [ 2.1713,  0.6133, -0.1365, -1.4713, -0.8349],\n",
            "        [-0.2676,  1.4372,  2.2130, -1.5017,  0.8230],\n",
            "        [ 0.1001,  0.0123, -1.6012, -0.5635,  0.5560],\n",
            "        [ 0.5800,  0.4658,  0.1531,  0.8169, -0.3353]])\n"
          ]
        }
      ]
    },
    {
      "cell_type": "markdown",
      "source": [
        "Creating an object by passing input data through the Model"
      ],
      "metadata": {
        "id": "xlp-0GK6nQm5"
      }
    },
    {
      "cell_type": "code",
      "source": [
        "nnm = model(t)"
      ],
      "metadata": {
        "id": "SJoPRIXhg6RC"
      },
      "execution_count": 6,
      "outputs": []
    },
    {
      "cell_type": "code",
      "source": [
        "print(model(t))"
      ],
      "metadata": {
        "colab": {
          "base_uri": "https://localhost:8080/"
        },
        "id": "mVh2F3f_g4Vh",
        "outputId": "e6c0dde1-d2cd-465a-c211-e583f2985cb2"
      },
      "execution_count": 7,
      "outputs": [
        {
          "output_type": "stream",
          "name": "stdout",
          "text": [
            "tensor([[-0.3967, -0.1011, -0.6779, -1.0791,  1.8772],\n",
            "        [ 0.5511,  0.4503,  1.9484, -1.3010, -0.5900],\n",
            "        [ 0.2392,  0.8913,  0.4005,  0.5860,  0.4417],\n",
            "        [ 1.1952, -0.8859, -0.6021,  0.1187,  0.1866],\n",
            "        [ 2.3325, -1.4756,  0.8492, -1.6600, -0.0365],\n",
            "        [ 0.3559,  0.5877, -0.6701, -1.9684, -0.9035],\n",
            "        [ 2.1713,  0.6133, -0.1365, -1.4713, -0.8349],\n",
            "        [-0.2676,  1.4372,  2.2130, -1.5017,  0.8230],\n",
            "        [ 0.1001,  0.0123, -1.6012, -0.5635,  0.5560],\n",
            "        [ 0.5800,  0.4658,  0.1531,  0.8169, -0.3353]])\n"
          ]
        }
      ]
    },
    {
      "cell_type": "code",
      "source": [
        "print(nnm)"
      ],
      "metadata": {
        "colab": {
          "base_uri": "https://localhost:8080/"
        },
        "id": "X__kCAcjhIhF",
        "outputId": "7a53798c-09b4-4c98-e06a-f1056b828512"
      },
      "execution_count": 8,
      "outputs": [
        {
          "output_type": "stream",
          "name": "stdout",
          "text": [
            "tensor([[-0.3967, -0.1011, -0.6779, -1.0791,  1.8772],\n",
            "        [ 0.5511,  0.4503,  1.9484, -1.3010, -0.5900],\n",
            "        [ 0.2392,  0.8913,  0.4005,  0.5860,  0.4417],\n",
            "        [ 1.1952, -0.8859, -0.6021,  0.1187,  0.1866],\n",
            "        [ 2.3325, -1.4756,  0.8492, -1.6600, -0.0365],\n",
            "        [ 0.3559,  0.5877, -0.6701, -1.9684, -0.9035],\n",
            "        [ 2.1713,  0.6133, -0.1365, -1.4713, -0.8349],\n",
            "        [-0.2676,  1.4372,  2.2130, -1.5017,  0.8230],\n",
            "        [ 0.1001,  0.0123, -1.6012, -0.5635,  0.5560],\n",
            "        [ 0.5800,  0.4658,  0.1531,  0.8169, -0.3353]])\n"
          ]
        }
      ]
    },
    {
      "cell_type": "code",
      "source": [
        "print(nnm.size)"
      ],
      "metadata": {
        "colab": {
          "base_uri": "https://localhost:8080/"
        },
        "id": "C3tfnx6KhKaj",
        "outputId": "c7229f3b-0891-48a6-c548-2707976fb7c3"
      },
      "execution_count": 9,
      "outputs": [
        {
          "output_type": "stream",
          "name": "stdout",
          "text": [
            "<built-in method size of Tensor object at 0x7fdfb9bf5cb0>\n"
          ]
        }
      ]
    },
    {
      "cell_type": "code",
      "source": [
        "print(nnm.shape)"
      ],
      "metadata": {
        "colab": {
          "base_uri": "https://localhost:8080/"
        },
        "id": "th0Pr7gihR0W",
        "outputId": "17bc6389-3644-4b3e-f644-ca0de6da518f"
      },
      "execution_count": 10,
      "outputs": [
        {
          "output_type": "stream",
          "name": "stdout",
          "text": [
            "torch.Size([10, 5])\n"
          ]
        }
      ]
    },
    {
      "cell_type": "code",
      "source": [
        "nnm"
      ],
      "metadata": {
        "id": "z3UsdtGjhTPJ"
      },
      "execution_count": null,
      "outputs": []
    },
    {
      "cell_type": "markdown",
      "source": [
        "Until now we have no relationhip between the Tensor and the Model we created.\n",
        "- The Model definition is empty, it does not handle the input as there are no layers to process the input data\n",
        "- The forward method does not pass anything \n",
        "- The model is EMPTY"
      ],
      "metadata": {
        "id": "7q44R9B_vhhV"
      }
    },
    {
      "cell_type": "markdown",
      "source": [
        "# **Lets connect the model and input data (Tensor) together**"
      ],
      "metadata": {
        "id": "OFW4lccTvzUp"
      }
    },
    {
      "cell_type": "markdown",
      "source": [
        "### **Concept:**\n",
        "- Dataset:\n",
        "  - We have 10 records of 5 dimensions\n",
        "  - We use 10 records as it is easy to visualize here\n",
        "  - Our output class has 2 values True (1) or False (0)\n",
        "- Layers\n",
        "  - We will add through experimentation"
      ],
      "metadata": {
        "id": "5djWxzJswCla"
      }
    },
    {
      "cell_type": "markdown",
      "source": [
        "A network with input and output layers:\n",
        "- First (Input and Output) Layer\n",
        "  - self.lin1 = nn.Linear(Input_dimensions, output_classes)\n"
      ],
      "metadata": {
        "id": "baeBUbJPI3fG"
      }
    },
    {
      "cell_type": "code",
      "source": [
        "class myFirstNeuralNetworkModel(nn.Module):\n",
        "  def __init__(self):\n",
        "    super().__init__()\n",
        "    self.linear0 = nn.Linear(5, 2)\n",
        "  def forward(self, x):\n",
        "    x = self.linear0(x)\n",
        "    print(x.shape)\n",
        "    return x"
      ],
      "metadata": {
        "id": "Eys87w_pIqZU"
      },
      "execution_count": 11,
      "outputs": []
    },
    {
      "cell_type": "markdown",
      "source": [
        "A Network with N hidden layer(s)\n",
        "\n",
        "- First (Input) Layer\n",
        "  - self.lin1 = nn.Linear(Input_dimensions, input_for_first_hidden_layer)\n",
        "- Middle Layers (As many as needed)\n",
        "  - Must have the matrix manipulations working... \n",
        "- Last (Output) Layer\n",
        "  - self.linX = nn.Linear(output_of_previous_layers, output_classes)"
      ],
      "metadata": {
        "id": "yuYhSx4TI8SI"
      }
    },
    {
      "cell_type": "code",
      "source": [
        "class myFirstNeuralNetworkModel(nn.Module):\n",
        "  def __init__(self):\n",
        "    super().__init__()\n",
        "    self.linear0 = nn.Linear(5, 10)\n",
        "    self.linear1 = nn.Linear(10, 2)\n",
        "  def forward(self, x):\n",
        "    x = self.linear0(x)\n",
        "    print(x.shape)\n",
        "    x = self.linear1(x)\n",
        "    print(x.shape)\n",
        "    return x"
      ],
      "metadata": {
        "id": "ukPfh7Z9I8mt"
      },
      "execution_count": 21,
      "outputs": []
    },
    {
      "cell_type": "code",
      "source": [
        "class myFirstNeuralNetworkModel(nn.Module):\n",
        "  def __init__(self):\n",
        "    super().__init__()\n",
        "    self.linear0 = nn.Linear(5, 100)\n",
        "    self.linear1 = nn.Linear(100, 10)\n",
        "    self.linear2 = nn.Linear(10, 2)\n",
        "  def forward(self, x):\n",
        "    x = self.linear0(x)\n",
        "    print(x.shape)\n",
        "    x = self.linear1(x + x)\n",
        "    print(x.shape)\n",
        "    x = self.linear2(x + x + x )\n",
        "    print(x.shape)\n",
        "    return x"
      ],
      "metadata": {
        "id": "DAyNNyaPJ-Yx"
      },
      "execution_count": 26,
      "outputs": []
    },
    {
      "cell_type": "code",
      "source": [
        "class myFirstNeuralNetworkModel(nn.Module):\n",
        "  def __init__(self):\n",
        "    super().__init__()\n",
        "    self.linear0 = nn.Linear(5, 1000)\n",
        "    self.linear1 = nn.Linear(1000, 100)\n",
        "    self.linear2 = nn.Linear(100, 10)\n",
        "    self.linear3 = nn.Linear(10, 2)\n",
        "  def forward(self, x):\n",
        "    x = self.linear0(x)\n",
        "    print(x.shape)\n",
        "    x = self.linear1(x)\n",
        "    print(x.shape)\n",
        "    x = self.linear2(x)\n",
        "    print(x.shape)\n",
        "    x = self.linear3(x)\n",
        "    print(x.shape)\n",
        "    return x"
      ],
      "metadata": {
        "id": "aZhQC4_ONrjm"
      },
      "execution_count": 70,
      "outputs": []
    },
    {
      "cell_type": "markdown",
      "source": [
        "Lets Experiment with out Neural Network with various Hidden Layers"
      ],
      "metadata": {
        "id": "5B5yUa_8IxqD"
      }
    },
    {
      "cell_type": "code",
      "source": [
        "class myFirstNeuralNetworkModel(nn.Module):\n",
        "  def __init__(self):\n",
        "    super().__init__()\n",
        "    # first layer takes the input  of size 5 and \n",
        "    ## First layer INPUT parameter shows the number of dimensions in your data as input to the network\n",
        "    self.linear1 = nn.Linear(5, 10)\n",
        "    self.linear2 = nn.Linear(10, 100)\n",
        "    self.linear3 = nn.Linear(100, 100)\n",
        "    self.linear4 = nn.Linear(100, 10)\n",
        "    self.linear5 = nn.Linear(10, 2) \n",
        "    ## Last layer OUT parameter shows the number of outputs in your nerual network\n",
        "  def forward(self, x):\n",
        "    #This model connect the layer outputs in the forward pass\n",
        "    x1 = self.linear1(x)\n",
        "    print(x.shape)\n",
        "    x = self.linear2(x1)\n",
        "    print(x.shape)\n",
        "    x = self.linear3(x) + self.linear2(x1)\n",
        "    print(x.shape)\n",
        "    x = self.linear4(x)\n",
        "    print(x.shape)\n",
        "    x = self.linear5(x) \n",
        "    print(x.shape)\n",
        "    return x"
      ],
      "metadata": {
        "id": "AVuBYKs_hXbh"
      },
      "execution_count": 73,
      "outputs": []
    },
    {
      "cell_type": "code",
      "source": [
        "# t = torch.randn(10, 5)\n",
        "#t = torch.ones(10, 5)\n",
        "t = torch.zeros(10, 5)\n",
        "\n",
        "print(t.shape)\n",
        "print(t.dtype)\n",
        "print(t.size)\n",
        "print(t)"
      ],
      "metadata": {
        "colab": {
          "base_uri": "https://localhost:8080/"
        },
        "id": "Bnu_tgtOyM4Y",
        "outputId": "6869d17f-fd01-4241-eb7b-782f325ad8e6"
      },
      "execution_count": 36,
      "outputs": [
        {
          "output_type": "stream",
          "name": "stdout",
          "text": [
            "torch.Size([10, 5])\n",
            "torch.float32\n",
            "<built-in method size of Tensor object at 0x7fdfb9b4b050>\n",
            "tensor([[0., 0., 0., 0., 0.],\n",
            "        [0., 0., 0., 0., 0.],\n",
            "        [0., 0., 0., 0., 0.],\n",
            "        [0., 0., 0., 0., 0.],\n",
            "        [0., 0., 0., 0., 0.],\n",
            "        [0., 0., 0., 0., 0.],\n",
            "        [0., 0., 0., 0., 0.],\n",
            "        [0., 0., 0., 0., 0.],\n",
            "        [0., 0., 0., 0., 0.],\n",
            "        [0., 0., 0., 0., 0.]])\n"
          ]
        }
      ]
    },
    {
      "cell_type": "code",
      "source": [
        "model = myFirstNeuralNetworkModel()\n",
        "n = model(t)"
      ],
      "metadata": {
        "colab": {
          "base_uri": "https://localhost:8080/"
        },
        "id": "A1kwx1Y1w3jR",
        "outputId": "c33d6d06-78a8-4c66-d05f-2907ae5d35ee"
      },
      "execution_count": 74,
      "outputs": [
        {
          "output_type": "stream",
          "name": "stdout",
          "text": [
            "torch.Size([10, 5])\n",
            "torch.Size([10, 100])\n",
            "torch.Size([10, 100])\n",
            "torch.Size([10, 10])\n",
            "torch.Size([10, 2])\n"
          ]
        }
      ]
    },
    {
      "cell_type": "code",
      "source": [
        "print(n.size)\n",
        "print(n.shape)\n",
        "print(n)"
      ],
      "metadata": {
        "colab": {
          "base_uri": "https://localhost:8080/"
        },
        "id": "OE78Das1-n8o",
        "outputId": "cfdf30c2-568e-4176-fb5b-0bfdb36bbd6e"
      },
      "execution_count": 34,
      "outputs": [
        {
          "output_type": "stream",
          "name": "stdout",
          "text": [
            "<built-in method size of Tensor object at 0x7fdfb9b50350>\n",
            "torch.Size([10, 2])\n",
            "tensor([[-0.4644,  0.0802],\n",
            "        [-0.4644,  0.0802],\n",
            "        [-0.4644,  0.0802],\n",
            "        [-0.4644,  0.0802],\n",
            "        [-0.4644,  0.0802],\n",
            "        [-0.4644,  0.0802],\n",
            "        [-0.4644,  0.0802],\n",
            "        [-0.4644,  0.0802],\n",
            "        [-0.4644,  0.0802],\n",
            "        [-0.4644,  0.0802]], grad_fn=<AddmmBackward0>)\n"
          ]
        }
      ]
    },
    {
      "cell_type": "markdown",
      "source": [
        "# **Importance of your model size:**\n",
        "The model object size is the important significance of your inner working of your model\n",
        "- The size must be:\n",
        "  - [The total number of the records, total number of output class]"
      ],
      "metadata": {
        "id": "PO_1ntyM0m78"
      }
    },
    {
      "cell_type": "code",
      "source": [
        "print(n.shape)"
      ],
      "metadata": {
        "id": "Rf2E1LdFyP5Y",
        "colab": {
          "base_uri": "https://localhost:8080/"
        },
        "outputId": "2f600c8d-7299-4b78-ec1d-e62580979376"
      },
      "execution_count": 75,
      "outputs": [
        {
          "output_type": "stream",
          "name": "stdout",
          "text": [
            "torch.Size([10, 2])\n"
          ]
        }
      ]
    },
    {
      "cell_type": "markdown",
      "source": [
        "# **Complex Forward Functions**\n",
        "\n",
        "```\n",
        "def forward(self, x):\n",
        "    x1 = self.linear1(x)\n",
        "    x2 = x + self.linear2(x1)\n",
        "    x2 = self.linear1(x1)\n",
        "    x = self.linear3(x2 + 1)\n",
        "    return x\n",
        "```"
      ],
      "metadata": {
        "id": "0eAjE_PsBg3Q"
      }
    },
    {
      "cell_type": "code",
      "source": [
        "class myFirstNeuralNetworkModel(nn.Module):\n",
        "  def __init__(self):\n",
        "    super().__init__()\n",
        "    # This model has 2 Linear layers\n",
        "    self.linear1 = nn.Linear(5, 100)\n",
        "    self.linear2 = nn.Linear(100, 5)\n",
        "    self.linear3 = nn.Linear(100, 2) \n",
        "    ## Last layer OUT parameter shows the number of outputs in your nerual network\n",
        "  def forward(self, x):\n",
        "    # This model connect the layer outputs in the forward pass\n",
        "    x1 = self.linear1(x) # In -> 5, 100, x1 = 5,100\n",
        "    print(x1.shape)\n",
        "    x2 = x + self.linear2(x1) #  (5,100) + ( 5, 100) > x2 = (5, 100) \n",
        "    print(x2.shape)\n",
        "    x2 = self.linear1(x2) # x2 => (5, 100)\n",
        "    print(x2.shape)\n",
        "    x = self.linear3(x2) # x2 = (5, 100), x3 => (100, 2)  >  x = output dimension: 2\n",
        "    print(x.shape)\n",
        "    return x"
      ],
      "metadata": {
        "id": "uIvzuIX6T8nS"
      },
      "execution_count": 83,
      "outputs": []
    },
    {
      "cell_type": "code",
      "source": [
        "model = myFirstNeuralNetworkModel()\n",
        "#t = torch.ones(10, 5)\n",
        "t = torch.randn(10, 5)\n",
        "n = model(t)"
      ],
      "metadata": {
        "colab": {
          "base_uri": "https://localhost:8080/"
        },
        "id": "T0dkbmwgT_lI",
        "outputId": "d056e385-6145-4a2f-de6a-689c56ea664a"
      },
      "execution_count": 84,
      "outputs": [
        {
          "output_type": "stream",
          "name": "stdout",
          "text": [
            "torch.Size([10, 100])\n",
            "torch.Size([10, 5])\n",
            "torch.Size([10, 100])\n",
            "torch.Size([10, 2])\n"
          ]
        }
      ]
    },
    {
      "cell_type": "code",
      "source": [
        "print(n.size)\n",
        "print(n.shape)\n",
        "print(n)"
      ],
      "metadata": {
        "id": "5V27oiG6BCT9"
      },
      "execution_count": null,
      "outputs": []
    },
    {
      "cell_type": "markdown",
      "source": [
        "# **Heart Disease Problem**\n",
        "\n",
        "- https://archive.ics.uci.edu/ml/datasets/heart+disease\n",
        "- 75 columns, 14 columns are most used and applicable\n",
        "- Records 303\n",
        "- Input -> (303, 14) - 13 Input features and 1 output or target\n",
        "- Output -> 2 classes -> True and False"
      ],
      "metadata": {
        "id": "e9PmupU-eiDc"
      }
    },
    {
      "cell_type": "code",
      "source": [
        "import pandas as pd\n",
        "import numpy as np"
      ],
      "metadata": {
        "id": "vH8VQqSufD7k"
      },
      "execution_count": 85,
      "outputs": []
    },
    {
      "cell_type": "code",
      "source": [
        "df = pd.read_csv('https://raw.githubusercontent.com/prodramp/publiccode/master/datasets/heart.csv')"
      ],
      "metadata": {
        "id": "7prgfIdae0EU"
      },
      "execution_count": 86,
      "outputs": []
    },
    {
      "cell_type": "code",
      "source": [
        "df_input = pd.DataFrame(df.iloc[:, 0:13])\n",
        "df_target = pd.DataFrame(df.iloc[:, 13],columns=['target'])"
      ],
      "metadata": {
        "id": "4gtzEN11fNFd"
      },
      "execution_count": 87,
      "outputs": []
    },
    {
      "cell_type": "code",
      "source": [
        "df_input.columns"
      ],
      "metadata": {
        "colab": {
          "base_uri": "https://localhost:8080/"
        },
        "id": "AP_zCxWCDItk",
        "outputId": "0d150420-a2e1-4967-ae3a-ae57cb93bb53"
      },
      "execution_count": 88,
      "outputs": [
        {
          "output_type": "execute_result",
          "data": {
            "text/plain": [
              "Index(['age', 'sex', 'cp', 'trestbps', 'chol', 'fbs', 'restecg', 'thalach',\n",
              "       'exang', 'oldpeak', 'slope', 'ca', 'thal'],\n",
              "      dtype='object')"
            ]
          },
          "metadata": {},
          "execution_count": 88
        }
      ]
    },
    {
      "cell_type": "code",
      "source": [
        "df_input"
      ],
      "metadata": {
        "colab": {
          "base_uri": "https://localhost:8080/",
          "height": 424
        },
        "id": "bY-SOWX3DbrY",
        "outputId": "083a291f-cf43-4ccc-cbad-0143a0ca76a8"
      },
      "execution_count": 89,
      "outputs": [
        {
          "output_type": "execute_result",
          "data": {
            "text/plain": [
              "     age  sex  cp  trestbps  chol  fbs  restecg  thalach  exang  oldpeak  \\\n",
              "0     63    1   3       145   233    1        0      150      0      2.3   \n",
              "1     37    1   2       130   250    0        1      187      0      3.5   \n",
              "2     41    0   1       130   204    0        0      172      0      1.4   \n",
              "3     56    1   1       120   236    0        1      178      0      0.8   \n",
              "4     57    0   0       120   354    0        1      163      1      0.6   \n",
              "..   ...  ...  ..       ...   ...  ...      ...      ...    ...      ...   \n",
              "298   57    0   0       140   241    0        1      123      1      0.2   \n",
              "299   45    1   3       110   264    0        1      132      0      1.2   \n",
              "300   68    1   0       144   193    1        1      141      0      3.4   \n",
              "301   57    1   0       130   131    0        1      115      1      1.2   \n",
              "302   57    0   1       130   236    0        0      174      0      0.0   \n",
              "\n",
              "     slope  ca  thal  \n",
              "0        0   0     1  \n",
              "1        0   0     2  \n",
              "2        2   0     2  \n",
              "3        2   0     2  \n",
              "4        2   0     2  \n",
              "..     ...  ..   ...  \n",
              "298      1   0     3  \n",
              "299      1   0     3  \n",
              "300      1   2     3  \n",
              "301      1   1     3  \n",
              "302      1   1     2  \n",
              "\n",
              "[303 rows x 13 columns]"
            ],
            "text/html": [
              "\n",
              "  <div id=\"df-36984fb5-054e-4866-a5bd-549330a5d03d\">\n",
              "    <div class=\"colab-df-container\">\n",
              "      <div>\n",
              "<style scoped>\n",
              "    .dataframe tbody tr th:only-of-type {\n",
              "        vertical-align: middle;\n",
              "    }\n",
              "\n",
              "    .dataframe tbody tr th {\n",
              "        vertical-align: top;\n",
              "    }\n",
              "\n",
              "    .dataframe thead th {\n",
              "        text-align: right;\n",
              "    }\n",
              "</style>\n",
              "<table border=\"1\" class=\"dataframe\">\n",
              "  <thead>\n",
              "    <tr style=\"text-align: right;\">\n",
              "      <th></th>\n",
              "      <th>age</th>\n",
              "      <th>sex</th>\n",
              "      <th>cp</th>\n",
              "      <th>trestbps</th>\n",
              "      <th>chol</th>\n",
              "      <th>fbs</th>\n",
              "      <th>restecg</th>\n",
              "      <th>thalach</th>\n",
              "      <th>exang</th>\n",
              "      <th>oldpeak</th>\n",
              "      <th>slope</th>\n",
              "      <th>ca</th>\n",
              "      <th>thal</th>\n",
              "    </tr>\n",
              "  </thead>\n",
              "  <tbody>\n",
              "    <tr>\n",
              "      <th>0</th>\n",
              "      <td>63</td>\n",
              "      <td>1</td>\n",
              "      <td>3</td>\n",
              "      <td>145</td>\n",
              "      <td>233</td>\n",
              "      <td>1</td>\n",
              "      <td>0</td>\n",
              "      <td>150</td>\n",
              "      <td>0</td>\n",
              "      <td>2.3</td>\n",
              "      <td>0</td>\n",
              "      <td>0</td>\n",
              "      <td>1</td>\n",
              "    </tr>\n",
              "    <tr>\n",
              "      <th>1</th>\n",
              "      <td>37</td>\n",
              "      <td>1</td>\n",
              "      <td>2</td>\n",
              "      <td>130</td>\n",
              "      <td>250</td>\n",
              "      <td>0</td>\n",
              "      <td>1</td>\n",
              "      <td>187</td>\n",
              "      <td>0</td>\n",
              "      <td>3.5</td>\n",
              "      <td>0</td>\n",
              "      <td>0</td>\n",
              "      <td>2</td>\n",
              "    </tr>\n",
              "    <tr>\n",
              "      <th>2</th>\n",
              "      <td>41</td>\n",
              "      <td>0</td>\n",
              "      <td>1</td>\n",
              "      <td>130</td>\n",
              "      <td>204</td>\n",
              "      <td>0</td>\n",
              "      <td>0</td>\n",
              "      <td>172</td>\n",
              "      <td>0</td>\n",
              "      <td>1.4</td>\n",
              "      <td>2</td>\n",
              "      <td>0</td>\n",
              "      <td>2</td>\n",
              "    </tr>\n",
              "    <tr>\n",
              "      <th>3</th>\n",
              "      <td>56</td>\n",
              "      <td>1</td>\n",
              "      <td>1</td>\n",
              "      <td>120</td>\n",
              "      <td>236</td>\n",
              "      <td>0</td>\n",
              "      <td>1</td>\n",
              "      <td>178</td>\n",
              "      <td>0</td>\n",
              "      <td>0.8</td>\n",
              "      <td>2</td>\n",
              "      <td>0</td>\n",
              "      <td>2</td>\n",
              "    </tr>\n",
              "    <tr>\n",
              "      <th>4</th>\n",
              "      <td>57</td>\n",
              "      <td>0</td>\n",
              "      <td>0</td>\n",
              "      <td>120</td>\n",
              "      <td>354</td>\n",
              "      <td>0</td>\n",
              "      <td>1</td>\n",
              "      <td>163</td>\n",
              "      <td>1</td>\n",
              "      <td>0.6</td>\n",
              "      <td>2</td>\n",
              "      <td>0</td>\n",
              "      <td>2</td>\n",
              "    </tr>\n",
              "    <tr>\n",
              "      <th>...</th>\n",
              "      <td>...</td>\n",
              "      <td>...</td>\n",
              "      <td>...</td>\n",
              "      <td>...</td>\n",
              "      <td>...</td>\n",
              "      <td>...</td>\n",
              "      <td>...</td>\n",
              "      <td>...</td>\n",
              "      <td>...</td>\n",
              "      <td>...</td>\n",
              "      <td>...</td>\n",
              "      <td>...</td>\n",
              "      <td>...</td>\n",
              "    </tr>\n",
              "    <tr>\n",
              "      <th>298</th>\n",
              "      <td>57</td>\n",
              "      <td>0</td>\n",
              "      <td>0</td>\n",
              "      <td>140</td>\n",
              "      <td>241</td>\n",
              "      <td>0</td>\n",
              "      <td>1</td>\n",
              "      <td>123</td>\n",
              "      <td>1</td>\n",
              "      <td>0.2</td>\n",
              "      <td>1</td>\n",
              "      <td>0</td>\n",
              "      <td>3</td>\n",
              "    </tr>\n",
              "    <tr>\n",
              "      <th>299</th>\n",
              "      <td>45</td>\n",
              "      <td>1</td>\n",
              "      <td>3</td>\n",
              "      <td>110</td>\n",
              "      <td>264</td>\n",
              "      <td>0</td>\n",
              "      <td>1</td>\n",
              "      <td>132</td>\n",
              "      <td>0</td>\n",
              "      <td>1.2</td>\n",
              "      <td>1</td>\n",
              "      <td>0</td>\n",
              "      <td>3</td>\n",
              "    </tr>\n",
              "    <tr>\n",
              "      <th>300</th>\n",
              "      <td>68</td>\n",
              "      <td>1</td>\n",
              "      <td>0</td>\n",
              "      <td>144</td>\n",
              "      <td>193</td>\n",
              "      <td>1</td>\n",
              "      <td>1</td>\n",
              "      <td>141</td>\n",
              "      <td>0</td>\n",
              "      <td>3.4</td>\n",
              "      <td>1</td>\n",
              "      <td>2</td>\n",
              "      <td>3</td>\n",
              "    </tr>\n",
              "    <tr>\n",
              "      <th>301</th>\n",
              "      <td>57</td>\n",
              "      <td>1</td>\n",
              "      <td>0</td>\n",
              "      <td>130</td>\n",
              "      <td>131</td>\n",
              "      <td>0</td>\n",
              "      <td>1</td>\n",
              "      <td>115</td>\n",
              "      <td>1</td>\n",
              "      <td>1.2</td>\n",
              "      <td>1</td>\n",
              "      <td>1</td>\n",
              "      <td>3</td>\n",
              "    </tr>\n",
              "    <tr>\n",
              "      <th>302</th>\n",
              "      <td>57</td>\n",
              "      <td>0</td>\n",
              "      <td>1</td>\n",
              "      <td>130</td>\n",
              "      <td>236</td>\n",
              "      <td>0</td>\n",
              "      <td>0</td>\n",
              "      <td>174</td>\n",
              "      <td>0</td>\n",
              "      <td>0.0</td>\n",
              "      <td>1</td>\n",
              "      <td>1</td>\n",
              "      <td>2</td>\n",
              "    </tr>\n",
              "  </tbody>\n",
              "</table>\n",
              "<p>303 rows × 13 columns</p>\n",
              "</div>\n",
              "      <button class=\"colab-df-convert\" onclick=\"convertToInteractive('df-36984fb5-054e-4866-a5bd-549330a5d03d')\"\n",
              "              title=\"Convert this dataframe to an interactive table.\"\n",
              "              style=\"display:none;\">\n",
              "        \n",
              "  <svg xmlns=\"http://www.w3.org/2000/svg\" height=\"24px\"viewBox=\"0 0 24 24\"\n",
              "       width=\"24px\">\n",
              "    <path d=\"M0 0h24v24H0V0z\" fill=\"none\"/>\n",
              "    <path d=\"M18.56 5.44l.94 2.06.94-2.06 2.06-.94-2.06-.94-.94-2.06-.94 2.06-2.06.94zm-11 1L8.5 8.5l.94-2.06 2.06-.94-2.06-.94L8.5 2.5l-.94 2.06-2.06.94zm10 10l.94 2.06.94-2.06 2.06-.94-2.06-.94-.94-2.06-.94 2.06-2.06.94z\"/><path d=\"M17.41 7.96l-1.37-1.37c-.4-.4-.92-.59-1.43-.59-.52 0-1.04.2-1.43.59L10.3 9.45l-7.72 7.72c-.78.78-.78 2.05 0 2.83L4 21.41c.39.39.9.59 1.41.59.51 0 1.02-.2 1.41-.59l7.78-7.78 2.81-2.81c.8-.78.8-2.07 0-2.86zM5.41 20L4 18.59l7.72-7.72 1.47 1.35L5.41 20z\"/>\n",
              "  </svg>\n",
              "      </button>\n",
              "      \n",
              "  <style>\n",
              "    .colab-df-container {\n",
              "      display:flex;\n",
              "      flex-wrap:wrap;\n",
              "      gap: 12px;\n",
              "    }\n",
              "\n",
              "    .colab-df-convert {\n",
              "      background-color: #E8F0FE;\n",
              "      border: none;\n",
              "      border-radius: 50%;\n",
              "      cursor: pointer;\n",
              "      display: none;\n",
              "      fill: #1967D2;\n",
              "      height: 32px;\n",
              "      padding: 0 0 0 0;\n",
              "      width: 32px;\n",
              "    }\n",
              "\n",
              "    .colab-df-convert:hover {\n",
              "      background-color: #E2EBFA;\n",
              "      box-shadow: 0px 1px 2px rgba(60, 64, 67, 0.3), 0px 1px 3px 1px rgba(60, 64, 67, 0.15);\n",
              "      fill: #174EA6;\n",
              "    }\n",
              "\n",
              "    [theme=dark] .colab-df-convert {\n",
              "      background-color: #3B4455;\n",
              "      fill: #D2E3FC;\n",
              "    }\n",
              "\n",
              "    [theme=dark] .colab-df-convert:hover {\n",
              "      background-color: #434B5C;\n",
              "      box-shadow: 0px 1px 3px 1px rgba(0, 0, 0, 0.15);\n",
              "      filter: drop-shadow(0px 1px 2px rgba(0, 0, 0, 0.3));\n",
              "      fill: #FFFFFF;\n",
              "    }\n",
              "  </style>\n",
              "\n",
              "      <script>\n",
              "        const buttonEl =\n",
              "          document.querySelector('#df-36984fb5-054e-4866-a5bd-549330a5d03d button.colab-df-convert');\n",
              "        buttonEl.style.display =\n",
              "          google.colab.kernel.accessAllowed ? 'block' : 'none';\n",
              "\n",
              "        async function convertToInteractive(key) {\n",
              "          const element = document.querySelector('#df-36984fb5-054e-4866-a5bd-549330a5d03d');\n",
              "          const dataTable =\n",
              "            await google.colab.kernel.invokeFunction('convertToInteractive',\n",
              "                                                     [key], {});\n",
              "          if (!dataTable) return;\n",
              "\n",
              "          const docLinkHtml = 'Like what you see? Visit the ' +\n",
              "            '<a target=\"_blank\" href=https://colab.research.google.com/notebooks/data_table.ipynb>data table notebook</a>'\n",
              "            + ' to learn more about interactive tables.';\n",
              "          element.innerHTML = '';\n",
              "          dataTable['output_type'] = 'display_data';\n",
              "          await google.colab.output.renderOutput(dataTable, element);\n",
              "          const docLink = document.createElement('div');\n",
              "          docLink.innerHTML = docLinkHtml;\n",
              "          element.appendChild(docLink);\n",
              "        }\n",
              "      </script>\n",
              "    </div>\n",
              "  </div>\n",
              "  "
            ]
          },
          "metadata": {},
          "execution_count": 89
        }
      ]
    },
    {
      "cell_type": "code",
      "source": [
        "df_target.columns"
      ],
      "metadata": {
        "colab": {
          "base_uri": "https://localhost:8080/"
        },
        "id": "GtM7iTdSDLav",
        "outputId": "31901fcf-b35e-406f-a85d-c6b235890fae"
      },
      "execution_count": 90,
      "outputs": [
        {
          "output_type": "execute_result",
          "data": {
            "text/plain": [
              "Index(['target'], dtype='object')"
            ]
          },
          "metadata": {},
          "execution_count": 90
        }
      ]
    },
    {
      "cell_type": "code",
      "source": [
        "df_target"
      ],
      "metadata": {
        "colab": {
          "base_uri": "https://localhost:8080/",
          "height": 424
        },
        "id": "5-_ogVGNwvfV",
        "outputId": "86e56f78-ef23-470f-e294-baf610f352c2"
      },
      "execution_count": 91,
      "outputs": [
        {
          "output_type": "execute_result",
          "data": {
            "text/plain": [
              "     target\n",
              "0         1\n",
              "1         1\n",
              "2         1\n",
              "3         1\n",
              "4         1\n",
              "..      ...\n",
              "298       0\n",
              "299       0\n",
              "300       0\n",
              "301       0\n",
              "302       0\n",
              "\n",
              "[303 rows x 1 columns]"
            ],
            "text/html": [
              "\n",
              "  <div id=\"df-8fc79f52-eb58-433c-85ab-e8fcf49e0638\">\n",
              "    <div class=\"colab-df-container\">\n",
              "      <div>\n",
              "<style scoped>\n",
              "    .dataframe tbody tr th:only-of-type {\n",
              "        vertical-align: middle;\n",
              "    }\n",
              "\n",
              "    .dataframe tbody tr th {\n",
              "        vertical-align: top;\n",
              "    }\n",
              "\n",
              "    .dataframe thead th {\n",
              "        text-align: right;\n",
              "    }\n",
              "</style>\n",
              "<table border=\"1\" class=\"dataframe\">\n",
              "  <thead>\n",
              "    <tr style=\"text-align: right;\">\n",
              "      <th></th>\n",
              "      <th>target</th>\n",
              "    </tr>\n",
              "  </thead>\n",
              "  <tbody>\n",
              "    <tr>\n",
              "      <th>0</th>\n",
              "      <td>1</td>\n",
              "    </tr>\n",
              "    <tr>\n",
              "      <th>1</th>\n",
              "      <td>1</td>\n",
              "    </tr>\n",
              "    <tr>\n",
              "      <th>2</th>\n",
              "      <td>1</td>\n",
              "    </tr>\n",
              "    <tr>\n",
              "      <th>3</th>\n",
              "      <td>1</td>\n",
              "    </tr>\n",
              "    <tr>\n",
              "      <th>4</th>\n",
              "      <td>1</td>\n",
              "    </tr>\n",
              "    <tr>\n",
              "      <th>...</th>\n",
              "      <td>...</td>\n",
              "    </tr>\n",
              "    <tr>\n",
              "      <th>298</th>\n",
              "      <td>0</td>\n",
              "    </tr>\n",
              "    <tr>\n",
              "      <th>299</th>\n",
              "      <td>0</td>\n",
              "    </tr>\n",
              "    <tr>\n",
              "      <th>300</th>\n",
              "      <td>0</td>\n",
              "    </tr>\n",
              "    <tr>\n",
              "      <th>301</th>\n",
              "      <td>0</td>\n",
              "    </tr>\n",
              "    <tr>\n",
              "      <th>302</th>\n",
              "      <td>0</td>\n",
              "    </tr>\n",
              "  </tbody>\n",
              "</table>\n",
              "<p>303 rows × 1 columns</p>\n",
              "</div>\n",
              "      <button class=\"colab-df-convert\" onclick=\"convertToInteractive('df-8fc79f52-eb58-433c-85ab-e8fcf49e0638')\"\n",
              "              title=\"Convert this dataframe to an interactive table.\"\n",
              "              style=\"display:none;\">\n",
              "        \n",
              "  <svg xmlns=\"http://www.w3.org/2000/svg\" height=\"24px\"viewBox=\"0 0 24 24\"\n",
              "       width=\"24px\">\n",
              "    <path d=\"M0 0h24v24H0V0z\" fill=\"none\"/>\n",
              "    <path d=\"M18.56 5.44l.94 2.06.94-2.06 2.06-.94-2.06-.94-.94-2.06-.94 2.06-2.06.94zm-11 1L8.5 8.5l.94-2.06 2.06-.94-2.06-.94L8.5 2.5l-.94 2.06-2.06.94zm10 10l.94 2.06.94-2.06 2.06-.94-2.06-.94-.94-2.06-.94 2.06-2.06.94z\"/><path d=\"M17.41 7.96l-1.37-1.37c-.4-.4-.92-.59-1.43-.59-.52 0-1.04.2-1.43.59L10.3 9.45l-7.72 7.72c-.78.78-.78 2.05 0 2.83L4 21.41c.39.39.9.59 1.41.59.51 0 1.02-.2 1.41-.59l7.78-7.78 2.81-2.81c.8-.78.8-2.07 0-2.86zM5.41 20L4 18.59l7.72-7.72 1.47 1.35L5.41 20z\"/>\n",
              "  </svg>\n",
              "      </button>\n",
              "      \n",
              "  <style>\n",
              "    .colab-df-container {\n",
              "      display:flex;\n",
              "      flex-wrap:wrap;\n",
              "      gap: 12px;\n",
              "    }\n",
              "\n",
              "    .colab-df-convert {\n",
              "      background-color: #E8F0FE;\n",
              "      border: none;\n",
              "      border-radius: 50%;\n",
              "      cursor: pointer;\n",
              "      display: none;\n",
              "      fill: #1967D2;\n",
              "      height: 32px;\n",
              "      padding: 0 0 0 0;\n",
              "      width: 32px;\n",
              "    }\n",
              "\n",
              "    .colab-df-convert:hover {\n",
              "      background-color: #E2EBFA;\n",
              "      box-shadow: 0px 1px 2px rgba(60, 64, 67, 0.3), 0px 1px 3px 1px rgba(60, 64, 67, 0.15);\n",
              "      fill: #174EA6;\n",
              "    }\n",
              "\n",
              "    [theme=dark] .colab-df-convert {\n",
              "      background-color: #3B4455;\n",
              "      fill: #D2E3FC;\n",
              "    }\n",
              "\n",
              "    [theme=dark] .colab-df-convert:hover {\n",
              "      background-color: #434B5C;\n",
              "      box-shadow: 0px 1px 3px 1px rgba(0, 0, 0, 0.15);\n",
              "      filter: drop-shadow(0px 1px 2px rgba(0, 0, 0, 0.3));\n",
              "      fill: #FFFFFF;\n",
              "    }\n",
              "  </style>\n",
              "\n",
              "      <script>\n",
              "        const buttonEl =\n",
              "          document.querySelector('#df-8fc79f52-eb58-433c-85ab-e8fcf49e0638 button.colab-df-convert');\n",
              "        buttonEl.style.display =\n",
              "          google.colab.kernel.accessAllowed ? 'block' : 'none';\n",
              "\n",
              "        async function convertToInteractive(key) {\n",
              "          const element = document.querySelector('#df-8fc79f52-eb58-433c-85ab-e8fcf49e0638');\n",
              "          const dataTable =\n",
              "            await google.colab.kernel.invokeFunction('convertToInteractive',\n",
              "                                                     [key], {});\n",
              "          if (!dataTable) return;\n",
              "\n",
              "          const docLinkHtml = 'Like what you see? Visit the ' +\n",
              "            '<a target=\"_blank\" href=https://colab.research.google.com/notebooks/data_table.ipynb>data table notebook</a>'\n",
              "            + ' to learn more about interactive tables.';\n",
              "          element.innerHTML = '';\n",
              "          dataTable['output_type'] = 'display_data';\n",
              "          await google.colab.output.renderOutput(dataTable, element);\n",
              "          const docLink = document.createElement('div');\n",
              "          docLink.innerHTML = docLinkHtml;\n",
              "          element.appendChild(docLink);\n",
              "        }\n",
              "      </script>\n",
              "    </div>\n",
              "  </div>\n",
              "  "
            ]
          },
          "metadata": {},
          "execution_count": 91
        }
      ]
    },
    {
      "cell_type": "code",
      "source": [
        "inputs_np_array = df_input.to_numpy()\n",
        "targets_np_array = df_target.to_numpy()"
      ],
      "metadata": {
        "id": "heoexD24iO9j"
      },
      "execution_count": 92,
      "outputs": []
    },
    {
      "cell_type": "code",
      "source": [
        "inputs_np_array"
      ],
      "metadata": {
        "colab": {
          "base_uri": "https://localhost:8080/"
        },
        "id": "sxJU8Dd4DQzB",
        "outputId": "49afef46-a08d-49e6-bf69-62762149635b"
      },
      "execution_count": 93,
      "outputs": [
        {
          "output_type": "execute_result",
          "data": {
            "text/plain": [
              "array([[63.,  1.,  3., ...,  0.,  0.,  1.],\n",
              "       [37.,  1.,  2., ...,  0.,  0.,  2.],\n",
              "       [41.,  0.,  1., ...,  2.,  0.,  2.],\n",
              "       ...,\n",
              "       [68.,  1.,  0., ...,  1.,  2.,  3.],\n",
              "       [57.,  1.,  0., ...,  1.,  1.,  3.],\n",
              "       [57.,  0.,  1., ...,  1.,  1.,  2.]])"
            ]
          },
          "metadata": {},
          "execution_count": 93
        }
      ]
    },
    {
      "cell_type": "code",
      "source": [
        "#targets_np_array"
      ],
      "metadata": {
        "id": "vtk3gK_xDWEx"
      },
      "execution_count": 95,
      "outputs": []
    },
    {
      "cell_type": "code",
      "source": [
        "inputs = torch.from_numpy(np.array(inputs_np_array,dtype='float32'))\n",
        "targets = torch.from_numpy(np.array(targets_np_array,dtype='float32'))"
      ],
      "metadata": {
        "id": "lFDc6pp4ijNI"
      },
      "execution_count": 96,
      "outputs": []
    },
    {
      "cell_type": "code",
      "source": [
        "print(inputs.dtype)\n",
        "inputs"
      ],
      "metadata": {
        "colab": {
          "base_uri": "https://localhost:8080/"
        },
        "id": "dnUVSPc6irdA",
        "outputId": "5b0905b9-e617-4f7d-d673-6968b9a0364f"
      },
      "execution_count": 97,
      "outputs": [
        {
          "output_type": "stream",
          "name": "stdout",
          "text": [
            "torch.float32\n"
          ]
        },
        {
          "output_type": "execute_result",
          "data": {
            "text/plain": [
              "tensor([[63.,  1.,  3.,  ...,  0.,  0.,  1.],\n",
              "        [37.,  1.,  2.,  ...,  0.,  0.,  2.],\n",
              "        [41.,  0.,  1.,  ...,  2.,  0.,  2.],\n",
              "        ...,\n",
              "        [68.,  1.,  0.,  ...,  1.,  2.,  3.],\n",
              "        [57.,  1.,  0.,  ...,  1.,  1.,  3.],\n",
              "        [57.,  0.,  1.,  ...,  1.,  1.,  2.]])"
            ]
          },
          "metadata": {},
          "execution_count": 97
        }
      ]
    },
    {
      "cell_type": "code",
      "source": [
        "print(targets.dtype)\n",
        "#targets"
      ],
      "metadata": {
        "colab": {
          "base_uri": "https://localhost:8080/"
        },
        "id": "wTaf75URDjhO",
        "outputId": "b7e370ff-9c5e-4a3a-b758-ed109302a3b0"
      },
      "execution_count": 100,
      "outputs": [
        {
          "output_type": "stream",
          "name": "stdout",
          "text": [
            "torch.float32\n"
          ]
        }
      ]
    },
    {
      "cell_type": "code",
      "source": [
        "print(len(inputs[0]))\n",
        "print(len(targets[0]))\n",
        "print(len(inputs))\n",
        "print(len(targets))"
      ],
      "metadata": {
        "colab": {
          "base_uri": "https://localhost:8080/"
        },
        "id": "4kVuiAhAiu4R",
        "outputId": "faffcd5f-54f2-4bd2-b95c-07c91a68479a"
      },
      "execution_count": 101,
      "outputs": [
        {
          "output_type": "stream",
          "name": "stdout",
          "text": [
            "13\n",
            "1\n",
            "303\n",
            "303\n"
          ]
        }
      ]
    },
    {
      "cell_type": "code",
      "source": [
        "class HeartDiseaseNeuralNetworkModel(nn.Module):\n",
        "  def __init__(self):\n",
        "    super().__init__()\n",
        "    ## 13 input fields will be used a feature, 100 is the hidden layer\n",
        "    self.linear1 = nn.Linear(13, 100)\n",
        "    self.linear2 = nn.Linear(100, 10)\n",
        "    self.linear3 = nn.Linear(10, 2) \n",
        "  def forward(self, x):\n",
        "    x = self.linear1(x)\n",
        "    print(x.shape)\n",
        "    x = self.linear2(x)\n",
        "    print(x.shape)\n",
        "    x = self.linear3(x)\n",
        "    print(x.shape)\n",
        "    return x"
      ],
      "metadata": {
        "id": "0ridp9p2fzPk"
      },
      "execution_count": 102,
      "outputs": []
    },
    {
      "cell_type": "code",
      "source": [
        "hmodel = HeartDiseaseNeuralNetworkModel()"
      ],
      "metadata": {
        "id": "A4vc7eJbgO2g"
      },
      "execution_count": 103,
      "outputs": []
    },
    {
      "cell_type": "code",
      "source": [
        "t = torch.randn(303, 13)\n",
        "print(t.size)\n",
        "print(t.shape)\n",
        "print(t)"
      ],
      "metadata": {
        "colab": {
          "base_uri": "https://localhost:8080/"
        },
        "id": "zwatvqG_mJc1",
        "outputId": "09750452-a63b-48d6-db9a-286ffefbc5c2"
      },
      "execution_count": 104,
      "outputs": [
        {
          "output_type": "stream",
          "name": "stdout",
          "text": [
            "<built-in method size of Tensor object at 0x7fdfb347bb30>\n",
            "torch.Size([303, 13])\n",
            "tensor([[-2.6896,  0.3017,  0.0757,  ..., -0.4388, -0.3902, -1.5511],\n",
            "        [-0.3087,  0.4234,  0.3790,  ...,  0.2994, -0.4438,  0.2984],\n",
            "        [-0.3291, -0.8033,  0.2888,  ...,  0.1297, -0.0402,  1.3748],\n",
            "        ...,\n",
            "        [ 0.8617,  0.3453, -2.1986,  ...,  0.4243, -0.1688, -0.4358],\n",
            "        [-1.4278, -1.2335, -0.3071,  ...,  0.5604,  0.4311,  1.8974],\n",
            "        [-1.3927, -3.1249, -1.3504,  ..., -0.0397,  1.3043,  1.3777]])\n"
          ]
        }
      ]
    },
    {
      "cell_type": "code",
      "source": [
        "hm = hmodel(t)\n",
        "#hm"
      ],
      "metadata": {
        "colab": {
          "base_uri": "https://localhost:8080/"
        },
        "id": "VNnAhhWCmj03",
        "outputId": "e7aa03d1-a309-4256-a03b-dacaed8e4e51"
      },
      "execution_count": 105,
      "outputs": [
        {
          "output_type": "stream",
          "name": "stdout",
          "text": [
            "torch.Size([303, 100])\n",
            "torch.Size([303, 10])\n",
            "torch.Size([303, 2])\n"
          ]
        }
      ]
    },
    {
      "cell_type": "code",
      "source": [
        "hm.shape"
      ],
      "metadata": {
        "colab": {
          "base_uri": "https://localhost:8080/"
        },
        "id": "4kctyhH3xzBf",
        "outputId": "c3276863-7526-467b-f046-e86b7e10e53c"
      },
      "execution_count": 106,
      "outputs": [
        {
          "output_type": "execute_result",
          "data": {
            "text/plain": [
              "torch.Size([303, 2])"
            ]
          },
          "metadata": {},
          "execution_count": 106
        }
      ]
    },
    {
      "cell_type": "markdown",
      "source": [
        "- **MNIST Problem** \n",
        "  - http://yann.lecun.com/exdb/mnist/\n",
        "  - 60000 records with 28x28 images means - 60,000 images with 784\n",
        "  - Input -> (60000, 784)\n",
        "  - Output -> 10 classes -> 0 to 9 digitas  "
      ],
      "metadata": {
        "id": "KbZf71iOngOC"
      }
    },
    {
      "cell_type": "code",
      "source": [
        "class MnistNeuralNetworkModel(nn.Module):\n",
        "  def __init__(self):\n",
        "    super().__init__()\n",
        "    ## 13 input fields will be used a feature, 100 is the hidden layer\n",
        "    self.linear1 = nn.Linear(784, 1000)\n",
        "    self.linear2 = nn.Linear(1000, 100)\n",
        "    self.linear3 = nn.Linear(100, 10)\n",
        "    self.linear4 = nn.Linear(10, 10) \n",
        "  def forward(self, x):\n",
        "    x = self.linear1(x)\n",
        "    print(x.shape)\n",
        "    x = self.linear2(x)\n",
        "    print(x.shape)\n",
        "    x = self.linear3(x)\n",
        "    print(x.shape)\n",
        "    x = self.linear4(x)\n",
        "    print(x.shape)\n",
        "    return x"
      ],
      "metadata": {
        "id": "JbdjIwQgnfY6"
      },
      "execution_count": 112,
      "outputs": []
    },
    {
      "cell_type": "code",
      "source": [
        "mnist_model = MnistNeuralNetworkModel()"
      ],
      "metadata": {
        "id": "VqP6D7JInzKj"
      },
      "execution_count": 113,
      "outputs": []
    },
    {
      "cell_type": "code",
      "source": [
        "t = torch.randn(60000, 28*28)\n",
        "print(t.size)\n",
        "print(t.shape)\n",
        "print(t)"
      ],
      "metadata": {
        "colab": {
          "base_uri": "https://localhost:8080/"
        },
        "id": "4fHMhY94n15C",
        "outputId": "3c50930f-37f4-44ac-8c59-4a073b7e3931"
      },
      "execution_count": 109,
      "outputs": [
        {
          "output_type": "stream",
          "name": "stdout",
          "text": [
            "<built-in method size of Tensor object at 0x7fdfb349b9b0>\n",
            "torch.Size([60000, 784])\n",
            "tensor([[ 0.2489, -1.1820,  0.6689,  ..., -1.1734,  1.1021,  0.0402],\n",
            "        [ 0.9568,  1.5606, -0.6954,  ...,  0.5781,  0.4220, -0.3824],\n",
            "        [ 1.2265,  0.9574,  0.6961,  ..., -1.5957, -0.7074,  1.1243],\n",
            "        ...,\n",
            "        [-0.5327,  0.1168, -0.9735,  ...,  0.4644,  1.0863,  2.9835],\n",
            "        [ 0.9745, -0.0585,  0.8191,  ...,  1.0286,  0.3149, -0.5704],\n",
            "        [ 1.1581,  0.4691, -0.6013,  ..., -0.7145,  1.5498, -0.5195]])\n"
          ]
        }
      ]
    },
    {
      "cell_type": "code",
      "source": [
        "mn = mnist_model(t)"
      ],
      "metadata": {
        "colab": {
          "base_uri": "https://localhost:8080/"
        },
        "id": "J3XcVSz3oDOb",
        "outputId": "ad7fafcf-e11e-4705-86f3-9a17b8c4f2ce"
      },
      "execution_count": 114,
      "outputs": [
        {
          "output_type": "stream",
          "name": "stdout",
          "text": [
            "torch.Size([60000, 1000])\n",
            "torch.Size([60000, 100])\n",
            "torch.Size([60000, 10])\n",
            "torch.Size([60000, 10])\n"
          ]
        }
      ]
    },
    {
      "cell_type": "code",
      "source": [
        "mn.shape"
      ],
      "metadata": {
        "colab": {
          "base_uri": "https://localhost:8080/"
        },
        "id": "8DsK0vJNyMzP",
        "outputId": "62959c81-69e3-44f5-c256-4b18d5957727"
      },
      "execution_count": 115,
      "outputs": [
        {
          "output_type": "execute_result",
          "data": {
            "text/plain": [
              "torch.Size([60000, 10])"
            ]
          },
          "metadata": {},
          "execution_count": 115
        }
      ]
    },
    {
      "cell_type": "markdown",
      "source": [
        "# **Using nn.Parameters**\n",
        "\n",
        "Parameters are Tensor subclasses, that have a very special property when used with Module - when they’re assigned as Module attributes they are automatically added to the list of its parameters, and will appear in parameters() iterator\n",
        "\n",
        "Source:\n",
        "- https://www.kdnuggets.com/2020/09/most-complete-guide-pytorch-data-scientists.html"
      ],
      "metadata": {
        "id": "o8yqR-SBMyK-"
      }
    },
    {
      "cell_type": "markdown",
      "source": [
        "# **Custom Linear Layer**"
      ],
      "metadata": {
        "id": "VwvuEeQOOal2"
      }
    },
    {
      "cell_type": "code",
      "source": [
        "class myCustomLinearLayer(nn.Module):\n",
        "    def __init__(self,in_size,out_size):\n",
        "        super().__init__()\n",
        "        self.weights = nn.Parameter(torch.randn(in_size, out_size))\n",
        "        self.bias = nn.Parameter(torch.zeros(out_size))\n",
        "    def forward(self, x):\n",
        "        print(\" Weights Shape: \", self.weights.shape)\n",
        "        print(\" Bias Shape: \", self.bias.shape)\n",
        "        return x.mm(self.weights) + self.bias"
      ],
      "metadata": {
        "id": "ShopdgHMASc2"
      },
      "execution_count": 166,
      "outputs": []
    },
    {
      "cell_type": "markdown",
      "source": [
        "# **Customer Neural Network**"
      ],
      "metadata": {
        "id": "HHp2qrGiOXfr"
      }
    },
    {
      "cell_type": "code",
      "source": [
        "class myCustomNeuralNet(nn.Module):\n",
        "    def __init__(self):\n",
        "        super().__init__()\n",
        "        # Define all Layers Here\n",
        "        self.lin1 = myCustomLinearLayer(784,10)\n",
        "        \n",
        "    def forward(self, x):\n",
        "        # Connect the layer Outputs here to define the forward pass\n",
        "        x = self.lin1(x)\n",
        "        print(x.shape)\n",
        "        return x"
      ],
      "metadata": {
        "id": "LBgm-UG6M3dk"
      },
      "execution_count": 167,
      "outputs": []
    },
    {
      "cell_type": "code",
      "source": [
        "# ----- Input records and dimensions        \n",
        "# 100 records of dimensions 784\n",
        "x = torch.randn((100,784))"
      ],
      "metadata": {
        "id": "P0P48iPcQR-M"
      },
      "execution_count": 150,
      "outputs": []
    },
    {
      "cell_type": "code",
      "source": [
        "model = myCustomNeuralNet()"
      ],
      "metadata": {
        "id": "g8__-Wv-F1QX"
      },
      "execution_count": 168,
      "outputs": []
    },
    {
      "cell_type": "code",
      "source": [
        "model"
      ],
      "metadata": {
        "colab": {
          "base_uri": "https://localhost:8080/"
        },
        "id": "HnhgYPWjzOCc",
        "outputId": "865ba380-510c-4590-d930-db0e4a5a0b34"
      },
      "execution_count": 169,
      "outputs": [
        {
          "output_type": "execute_result",
          "data": {
            "text/plain": [
              "myCustomNeuralNet(\n",
              "  (lin1): myCustomLinearLayer()\n",
              ")"
            ]
          },
          "metadata": {},
          "execution_count": 169
        }
      ]
    },
    {
      "cell_type": "code",
      "source": [
        "mm = model(x)"
      ],
      "metadata": {
        "colab": {
          "base_uri": "https://localhost:8080/"
        },
        "id": "KtGTX8vKzPdV",
        "outputId": "e40ac9f3-107d-4c50-db6b-67134257eda4"
      },
      "execution_count": 170,
      "outputs": [
        {
          "output_type": "stream",
          "name": "stdout",
          "text": [
            " Weights Shape:  torch.Size([784, 10])\n",
            " Bias Shape:  torch.Size([10])\n",
            "torch.Size([100, 10])\n"
          ]
        }
      ]
    },
    {
      "cell_type": "code",
      "source": [
        "mm.size()"
      ],
      "metadata": {
        "colab": {
          "base_uri": "https://localhost:8080/"
        },
        "id": "E4IzIIWQzUKZ",
        "outputId": "78050350-54f7-48ee-c834-20784f64eafb"
      },
      "execution_count": 154,
      "outputs": [
        {
          "output_type": "execute_result",
          "data": {
            "text/plain": [
              "torch.Size([100, 10])"
            ]
          },
          "metadata": {},
          "execution_count": 154
        }
      ]
    },
    {
      "cell_type": "code",
      "source": [
        "mm.shape"
      ],
      "metadata": {
        "colab": {
          "base_uri": "https://localhost:8080/"
        },
        "id": "1MHBxQI1zciF",
        "outputId": "08fe5b41-feba-445c-b6ed-9e3fc33b6a66"
      },
      "execution_count": 155,
      "outputs": [
        {
          "output_type": "execute_result",
          "data": {
            "text/plain": [
              "torch.Size([100, 10])"
            ]
          },
          "metadata": {},
          "execution_count": 155
        }
      ]
    },
    {
      "cell_type": "markdown",
      "source": [
        "# **Homework: Understanding Datasets and setting as input and output:**\n",
        "\n",
        "\n",
        "- Titanic \n",
        "  - https://www.kaggle.com/c/titanic\n",
        "  - Input - 12 columns including survived (output) columns\n",
        "  - Output - Survived/Not Survived -> T/F || 1/0\n",
        "  - 891 records\n",
        "- Supermarket\n",
        "- Loan Dataset\n"
      ],
      "metadata": {
        "id": "sIqDLSEeWV33"
      }
    },
    {
      "cell_type": "markdown",
      "source": [
        "# **What is next?**\n",
        "- How the data is loaded into a network?\n",
        "- How transectional data is processed with PyTorch\n",
        "- How the image data is processed with PyTorch"
      ],
      "metadata": {
        "id": "DLKGlr_CW-B-"
      }
    },
    {
      "cell_type": "markdown",
      "source": [
        "# **Supported Neural Network Architecture with PyTorch:**\n",
        "- nn.Linear\n",
        "- nn.Conv2d\n",
        "- nn.MaxPool2d\n",
        "- nn.ReLU\n",
        "- nn.BatchNorm2d\n",
        "- nn.Dropout\n",
        "- nn.Embedding\n",
        "- nn.GRU/nn.LSTM\n",
        "- nn.Softmax\n",
        "- nn.LogSoftmax\n",
        "- nn.MultiheadAttention\n",
        "- nn.TransformerEncoder\n",
        "- nn.TransformerDecoder"
      ],
      "metadata": {
        "id": "9cYWdojNOuOI"
      }
    },
    {
      "cell_type": "code",
      "source": [
        ""
      ],
      "metadata": {
        "id": "4TbcpQqlM9oN"
      },
      "execution_count": null,
      "outputs": []
    }
  ]
}