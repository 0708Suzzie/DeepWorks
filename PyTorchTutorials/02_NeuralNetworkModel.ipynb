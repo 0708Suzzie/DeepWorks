{
  "nbformat": 4,
  "nbformat_minor": 0,
  "metadata": {
    "colab": {
      "name": "02-NeuralNetworkModel.ipynb",
      "provenance": [],
      "collapsed_sections": [],
      "authorship_tag": "ABX9TyNP9kT1L0Ppqnv0HhxdKZ5g",
      "include_colab_link": true
    },
    "kernelspec": {
      "name": "python3",
      "display_name": "Python 3"
    },
    "language_info": {
      "name": "python"
    }
  },
  "cells": [
    {
      "cell_type": "markdown",
      "metadata": {
        "id": "view-in-github",
        "colab_type": "text"
      },
      "source": [
        "<a href=\"https://colab.research.google.com/github/prodramp/DeepWorks/blob/main/PyTorchTutorials/02_NeuralNetworkModel.ipynb\" target=\"_parent\"><img src=\"https://colab.research.google.com/assets/colab-badge.svg\" alt=\"Open In Colab\"/></a>"
      ]
    },
    {
      "cell_type": "markdown",
      "source": [
        "# **What we will cover in this Notebook:**\n",
        "- Creating your very first Network Model\n",
        "- Understanding input data features to setup correct Network Model\n",
        "- Setting network model definition and forward functions \n",
        "\n",
        "Resources:\n",
        "- https://www.marktechpost.com/2021/01/09/getting-started-with-pytorch-in-google-collab-with-free-gpu/\n",
        "- https://towardsdatascience.com/optimize-pytorch-performance-for-speed-and-memory-efficiency-2022-84f453916ea6\n",
        "- https://www.kdnuggets.com/2020/09/most-complete-guide-pytorch-data-scientists.html\n",
        "- https://pytorch.org/docs/stable/index.html"
      ],
      "metadata": {
        "id": "78Wd5SwJ6BGM"
      }
    },
    {
      "cell_type": "markdown",
      "source": [
        "# **PyTorch**\n",
        "- nn.Module\n",
        "  - Base class for all neural network modules.\n",
        "  - Your models should also subclass this class.\n",
        "\n"
      ],
      "metadata": {
        "id": "jYLxfbiwsAWR"
      }
    },
    {
      "cell_type": "code",
      "source": [
        "import torch\n",
        "import torch.nn as nn"
      ],
      "metadata": {
        "id": "rkhm5-fhsW84"
      },
      "execution_count": 1,
      "outputs": []
    },
    {
      "cell_type": "markdown",
      "source": [
        "Define your Neural Network Model:\n",
        "- Class based on nn.Module\n",
        "- The __init__ part has all the layers defined in the NN model\n",
        "- The forward() method defined how the data flows from one layer to another inside the network"
      ],
      "metadata": {
        "id": "z5tiGQbvhm38"
      }
    },
    {
      "cell_type": "markdown",
      "source": [
        "# **Define your Neural network Model**"
      ],
      "metadata": {
        "id": "qwxk_DH_ruWB"
      }
    },
    {
      "cell_type": "code",
      "execution_count": 2,
      "metadata": {
        "id": "qN2EFcwdrld9"
      },
      "outputs": [],
      "source": [
        "class myFirstNeuralNetworkModel(nn.Module):\n",
        "  def __init__(self):\n",
        "    super().__init__()\n",
        "    # This model has no layers\n",
        "  def forward(self, x):\n",
        "    # This model does not forward anything\n",
        "    return x"
      ]
    },
    {
      "cell_type": "markdown",
      "source": [
        "### **Instantiate your model:**"
      ],
      "metadata": {
        "id": "YFR4s7_Kr7bA"
      }
    },
    {
      "cell_type": "code",
      "source": [
        "# creating your model object\n",
        "model = myFirstNeuralNetworkModel()"
      ],
      "metadata": {
        "id": "N-qDF7gugri9"
      },
      "execution_count": 3,
      "outputs": []
    },
    {
      "cell_type": "code",
      "source": [
        "print(model)"
      ],
      "metadata": {
        "colab": {
          "base_uri": "https://localhost:8080/"
        },
        "id": "TlLAt33qg2o2",
        "outputId": "863d2982-9510-4718-db1f-954978c48a81"
      },
      "execution_count": 4,
      "outputs": [
        {
          "output_type": "stream",
          "name": "stdout",
          "text": [
            "myFirstNeuralNetworkModel()\n"
          ]
        }
      ]
    },
    {
      "cell_type": "markdown",
      "source": [
        "# **Define your input tensor data:**"
      ],
      "metadata": {
        "id": "aBHDGn8erzaf"
      }
    },
    {
      "cell_type": "markdown",
      "source": [
        "Let's assume that our input data has:\n",
        "- Total 100 records\n",
        "  - 100 records of 5 columns or dimensions\n",
        "  - 100 x [age, income, zipcode, has_house, is_married]\n",
        "  - Outcome is purchase_house = True or False/ 1 or 0\n",
        "- Each record has 5 dimesions or fields"
      ],
      "metadata": {
        "id": "WLY6dv7Ftkxq"
      }
    },
    {
      "cell_type": "code",
      "source": [
        "t = torch.randn(10, 5)\n",
        "print(t.shape)\n",
        "print(t.dtype)\n",
        "print(t.size)\n",
        "print(t)"
      ],
      "metadata": {
        "colab": {
          "base_uri": "https://localhost:8080/"
        },
        "id": "rzLKWbznsUuz",
        "outputId": "52b268c3-82fe-4322-b883-be147e9d2782"
      },
      "execution_count": 6,
      "outputs": [
        {
          "output_type": "stream",
          "name": "stdout",
          "text": [
            "torch.Size([10, 5])\n",
            "torch.float32\n",
            "<built-in method size of Tensor object at 0x7fa18b6f07d0>\n",
            "tensor([[-1.7671, -1.1936, -0.4976,  0.6211, -1.5277],\n",
            "        [ 0.8632,  0.1708,  0.0863, -1.0231,  0.1336],\n",
            "        [ 1.0158,  0.8734, -0.8509, -0.8493, -2.1544],\n",
            "        [ 0.3914, -0.4933, -0.0538,  1.7118, -1.2035],\n",
            "        [ 0.2626,  1.4175,  0.0684,  1.0486,  1.7696],\n",
            "        [-1.0415, -0.0479,  1.0422,  0.2048,  1.7533],\n",
            "        [ 0.8893, -0.4641, -0.3463, -0.9373,  1.5733],\n",
            "        [-0.0559, -1.5967, -0.0586,  0.8524,  2.0070],\n",
            "        [-1.0844,  0.3603,  0.8678, -0.8734,  0.8527],\n",
            "        [-0.5366,  1.4568, -0.2333,  0.2561, -0.9366]])\n"
          ]
        }
      ]
    },
    {
      "cell_type": "markdown",
      "source": [
        "Creating an object by passing input data through the Model"
      ],
      "metadata": {
        "id": "xlp-0GK6nQm5"
      }
    },
    {
      "cell_type": "code",
      "source": [
        "nnm = model(t)"
      ],
      "metadata": {
        "id": "SJoPRIXhg6RC"
      },
      "execution_count": 7,
      "outputs": []
    },
    {
      "cell_type": "code",
      "source": [
        "print(model(t))"
      ],
      "metadata": {
        "colab": {
          "base_uri": "https://localhost:8080/"
        },
        "id": "mVh2F3f_g4Vh",
        "outputId": "cd494da5-8685-4914-894d-4f948c9f8f81"
      },
      "execution_count": 8,
      "outputs": [
        {
          "output_type": "stream",
          "name": "stdout",
          "text": [
            "tensor([[-1.7671, -1.1936, -0.4976,  0.6211, -1.5277],\n",
            "        [ 0.8632,  0.1708,  0.0863, -1.0231,  0.1336],\n",
            "        [ 1.0158,  0.8734, -0.8509, -0.8493, -2.1544],\n",
            "        [ 0.3914, -0.4933, -0.0538,  1.7118, -1.2035],\n",
            "        [ 0.2626,  1.4175,  0.0684,  1.0486,  1.7696],\n",
            "        [-1.0415, -0.0479,  1.0422,  0.2048,  1.7533],\n",
            "        [ 0.8893, -0.4641, -0.3463, -0.9373,  1.5733],\n",
            "        [-0.0559, -1.5967, -0.0586,  0.8524,  2.0070],\n",
            "        [-1.0844,  0.3603,  0.8678, -0.8734,  0.8527],\n",
            "        [-0.5366,  1.4568, -0.2333,  0.2561, -0.9366]])\n"
          ]
        }
      ]
    },
    {
      "cell_type": "code",
      "source": [
        "print(nnm)"
      ],
      "metadata": {
        "colab": {
          "base_uri": "https://localhost:8080/"
        },
        "id": "X__kCAcjhIhF",
        "outputId": "af34f241-14be-448d-fcc4-04e72408b0a1"
      },
      "execution_count": 9,
      "outputs": [
        {
          "output_type": "stream",
          "name": "stdout",
          "text": [
            "tensor([[-1.7671, -1.1936, -0.4976,  0.6211, -1.5277],\n",
            "        [ 0.8632,  0.1708,  0.0863, -1.0231,  0.1336],\n",
            "        [ 1.0158,  0.8734, -0.8509, -0.8493, -2.1544],\n",
            "        [ 0.3914, -0.4933, -0.0538,  1.7118, -1.2035],\n",
            "        [ 0.2626,  1.4175,  0.0684,  1.0486,  1.7696],\n",
            "        [-1.0415, -0.0479,  1.0422,  0.2048,  1.7533],\n",
            "        [ 0.8893, -0.4641, -0.3463, -0.9373,  1.5733],\n",
            "        [-0.0559, -1.5967, -0.0586,  0.8524,  2.0070],\n",
            "        [-1.0844,  0.3603,  0.8678, -0.8734,  0.8527],\n",
            "        [-0.5366,  1.4568, -0.2333,  0.2561, -0.9366]])\n"
          ]
        }
      ]
    },
    {
      "cell_type": "code",
      "source": [
        "print(nnm.size)"
      ],
      "metadata": {
        "colab": {
          "base_uri": "https://localhost:8080/"
        },
        "id": "C3tfnx6KhKaj",
        "outputId": "cd56f682-d584-48d5-97ce-9ac6cb002e13"
      },
      "execution_count": 10,
      "outputs": [
        {
          "output_type": "stream",
          "name": "stdout",
          "text": [
            "<built-in method size of Tensor object at 0x7fa18b6f07d0>\n"
          ]
        }
      ]
    },
    {
      "cell_type": "code",
      "source": [
        "print(nnm.shape)"
      ],
      "metadata": {
        "colab": {
          "base_uri": "https://localhost:8080/"
        },
        "id": "th0Pr7gihR0W",
        "outputId": "36e5f2fb-d54f-4296-90bf-dde5c005201d"
      },
      "execution_count": 11,
      "outputs": [
        {
          "output_type": "stream",
          "name": "stdout",
          "text": [
            "torch.Size([10, 5])\n"
          ]
        }
      ]
    },
    {
      "cell_type": "code",
      "source": [
        "nnm"
      ],
      "metadata": {
        "id": "z3UsdtGjhTPJ"
      },
      "execution_count": null,
      "outputs": []
    },
    {
      "cell_type": "markdown",
      "source": [
        "Until now we have no relationhip between the Tensor and the Model we created.\n",
        "- The Model definition is empty, it does not handle the input as there are no layers to process the input data\n",
        "- The forward method does not pass anything \n",
        "- The model is EMPTY"
      ],
      "metadata": {
        "id": "7q44R9B_vhhV"
      }
    },
    {
      "cell_type": "markdown",
      "source": [
        "# **Lets connect the model and input data (Tensor) together**"
      ],
      "metadata": {
        "id": "OFW4lccTvzUp"
      }
    },
    {
      "cell_type": "markdown",
      "source": [
        "### **Concept:**\n",
        "- Dataset:\n",
        "  - We have 100 records of 5 dimensions\n",
        "  - Our output class has 2 values True (1) or False (0)\n",
        "- First (Input) Layer\n",
        "  - self.lin1 = nn.Linear(Input_dimensions, input_for_first_hidden_layer)\n",
        "- Middle Layers (As many as needed)\n",
        "  - Must have the matrix manipulations working... \n",
        "- Last (Output) Layer\n",
        "  - self.linX = nn.Linear(output_of_previous_layers, output_classes)"
      ],
      "metadata": {
        "id": "5djWxzJswCla"
      }
    },
    {
      "cell_type": "code",
      "source": [
        "class myFirstNeuralNetworkModel(nn.Module):\n",
        "  def __init__(self):\n",
        "    super().__init__()\n",
        "    # This model has 2 Linear layers\n",
        "    # first layer takes the input  of size 5 and \n",
        "    ## First layer INPUT parameter shows the number of dimensions in your data as input to the network\n",
        "    self.linear1 = nn.Linear(5, 10)\n",
        "    self.linear2 = nn.Linear(10, 100)\n",
        "    self.linear3 = nn.Linear(100, 1000)\n",
        "    self.linear4 = nn.Linear(1000, 10)\n",
        "    self.linear5 = nn.Linear(10, 2) \n",
        "    ## Last layer OUT parameter shows the number of outputs in your nerual network\n",
        "  def forward(self, x):\n",
        "    # This model connect the layer outputs in the forward pass\n",
        "    x = self.linear1(x)\n",
        "    print(x.shape)\n",
        "    x = self.linear2(x)\n",
        "    print(x.shape)\n",
        "    x = self.linear3(x)\n",
        "    print(x.shape)\n",
        "    x = self.linear4(x * x)\n",
        "    print(x.shape)\n",
        "    x = self.linear5(x) \n",
        "    print(x.shape)\n",
        "    return x"
      ],
      "metadata": {
        "id": "AVuBYKs_hXbh"
      },
      "execution_count": 43,
      "outputs": []
    },
    {
      "cell_type": "code",
      "source": [
        "# t = torch.randn(10, 5)\n",
        "#t = torch.ones(10, 5)\n",
        "t = torch.zeros(10, 5)\n",
        "\n",
        "print(t.shape)\n",
        "print(t.dtype)\n",
        "print(t.size)\n",
        "print(t)"
      ],
      "metadata": {
        "colab": {
          "base_uri": "https://localhost:8080/"
        },
        "id": "Bnu_tgtOyM4Y",
        "outputId": "36a1dbb8-c278-4fdc-8dca-9df7fcfea869"
      },
      "execution_count": 35,
      "outputs": [
        {
          "output_type": "stream",
          "name": "stdout",
          "text": [
            "torch.Size([10, 5])\n",
            "torch.float32\n",
            "<built-in method size of Tensor object at 0x7fa18b6548f0>\n",
            "tensor([[0., 0., 0., 0., 0.],\n",
            "        [0., 0., 0., 0., 0.],\n",
            "        [0., 0., 0., 0., 0.],\n",
            "        [0., 0., 0., 0., 0.],\n",
            "        [0., 0., 0., 0., 0.],\n",
            "        [0., 0., 0., 0., 0.],\n",
            "        [0., 0., 0., 0., 0.],\n",
            "        [0., 0., 0., 0., 0.],\n",
            "        [0., 0., 0., 0., 0.],\n",
            "        [0., 0., 0., 0., 0.]])\n"
          ]
        }
      ]
    },
    {
      "cell_type": "code",
      "source": [
        "model = myFirstNeuralNetworkModel()\n",
        "n = model(t)"
      ],
      "metadata": {
        "colab": {
          "base_uri": "https://localhost:8080/"
        },
        "id": "A1kwx1Y1w3jR",
        "outputId": "433642a7-b4a8-4275-d5be-1812313e54a8"
      },
      "execution_count": 44,
      "outputs": [
        {
          "output_type": "stream",
          "name": "stdout",
          "text": [
            "torch.Size([10, 10])\n",
            "torch.Size([10, 100])\n",
            "torch.Size([10, 1000])\n",
            "torch.Size([10, 10])\n",
            "torch.Size([10, 2])\n"
          ]
        }
      ]
    },
    {
      "cell_type": "code",
      "source": [
        "print(n.size)\n",
        "print(n.shape)\n",
        "print(n)"
      ],
      "metadata": {
        "colab": {
          "base_uri": "https://localhost:8080/"
        },
        "id": "OE78Das1-n8o",
        "outputId": "b919ad7f-252d-4ae3-9924-b413f9a61a20"
      },
      "execution_count": 37,
      "outputs": [
        {
          "output_type": "stream",
          "name": "stdout",
          "text": [
            "<built-in method size of Tensor object at 0x7fa18b694290>\n",
            "torch.Size([10, 2])\n",
            "tensor([[ 0.0067, -0.2816],\n",
            "        [ 0.0067, -0.2816],\n",
            "        [ 0.0067, -0.2816],\n",
            "        [ 0.0067, -0.2816],\n",
            "        [ 0.0067, -0.2816],\n",
            "        [ 0.0067, -0.2816],\n",
            "        [ 0.0067, -0.2816],\n",
            "        [ 0.0067, -0.2816],\n",
            "        [ 0.0067, -0.2816],\n",
            "        [ 0.0067, -0.2816]], grad_fn=<AddmmBackward0>)\n"
          ]
        }
      ]
    },
    {
      "cell_type": "markdown",
      "source": [
        "# **Importance of your model size:**\n",
        "The model object size is the important significance of your inner working of your model\n",
        "- The size must be:\n",
        "  - [The total number of the records, total number of output class]"
      ],
      "metadata": {
        "id": "PO_1ntyM0m78"
      }
    },
    {
      "cell_type": "code",
      "source": [
        "print(n.shape)"
      ],
      "metadata": {
        "id": "Rf2E1LdFyP5Y"
      },
      "execution_count": null,
      "outputs": []
    },
    {
      "cell_type": "markdown",
      "source": [
        "# **Complex Forward Functions**\n",
        "\n",
        "```\n",
        "def forward(self, x):\n",
        "    x1 = self.linear1(x)\n",
        "    x2 = x + self.linear2(x1)\n",
        "    x2 = self.linear1(x1)\n",
        "    x = self.linear3(x2 + 1)\n",
        "    return x\n",
        "```"
      ],
      "metadata": {
        "id": "0eAjE_PsBg3Q"
      }
    },
    {
      "cell_type": "code",
      "source": [
        "class myFirstNeuralNetworkModel(nn.Module):\n",
        "  def __init__(self):\n",
        "    super().__init__()\n",
        "    # This model has 2 Linear layers\n",
        "    self.linear1 = nn.Linear(5, 100)\n",
        "    self.linear2 = nn.Linear(100, 5)\n",
        "    self.linear3 = nn.Linear(100, 2) \n",
        "    ## Last layer OUT parameter shows the number of outputs in your nerual network\n",
        "  def forward(self, x):\n",
        "    # This model connect the layer outputs in the forward pass\n",
        "    x1 = self.linear1(x) # In -> 5, 100, x1 = 5,100\n",
        "    print(x1.shape)\n",
        "    x2 = x + self.linear2(x1) #  (5,100) + ( 5, 100) > x2 = (5, 100) \n",
        "    print(x2.shape)\n",
        "    x2 = self.linear1(x2) # x2 => (5, 100)\n",
        "    print(x2.shape)\n",
        "    x = self.linear3(x2) # x2 = (5, 100), x3 => (100, 2)  >  x = output dimension: 2\n",
        "    print(x.shape)\n",
        "    return x"
      ],
      "metadata": {
        "id": "uIvzuIX6T8nS"
      },
      "execution_count": 45,
      "outputs": []
    },
    {
      "cell_type": "code",
      "source": [
        "model = myFirstNeuralNetworkModel()\n",
        "#t = torch.ones(10, 5)\n",
        "t = torch.randn(10, 5)\n",
        "n = model(t)"
      ],
      "metadata": {
        "colab": {
          "base_uri": "https://localhost:8080/"
        },
        "id": "T0dkbmwgT_lI",
        "outputId": "a96c1a5b-79a4-4873-e1be-d755dfae177f"
      },
      "execution_count": 47,
      "outputs": [
        {
          "output_type": "stream",
          "name": "stdout",
          "text": [
            "torch.Size([10, 100])\n",
            "torch.Size([10, 5])\n",
            "torch.Size([10, 100])\n",
            "torch.Size([10, 2])\n"
          ]
        }
      ]
    },
    {
      "cell_type": "code",
      "source": [
        "print(n.size)\n",
        "print(n.shape)\n",
        "print(n)"
      ],
      "metadata": {
        "colab": {
          "base_uri": "https://localhost:8080/"
        },
        "id": "5V27oiG6BCT9",
        "outputId": "6b0db737-51d8-4bfd-fbda-08ebbffc43ad"
      },
      "execution_count": 48,
      "outputs": [
        {
          "output_type": "stream",
          "name": "stdout",
          "text": [
            "<built-in method size of Tensor object at 0x7fa18b5e27d0>\n",
            "torch.Size([10, 2])\n",
            "tensor([[-0.3378,  0.2793],\n",
            "        [ 0.2274,  0.2114],\n",
            "        [-0.1512, -0.0526],\n",
            "        [ 0.7120, -0.1346],\n",
            "        [-0.6158,  0.4603],\n",
            "        [-0.4163, -0.4962],\n",
            "        [ 0.3068, -0.0445],\n",
            "        [-0.2392,  0.1978],\n",
            "        [ 0.1622, -0.1470],\n",
            "        [ 1.1603, -0.5346]], grad_fn=<AddmmBackward0>)\n"
          ]
        }
      ]
    },
    {
      "cell_type": "markdown",
      "source": [
        "# **Heart Disease Problem**\n",
        "\n",
        "- https://archive.ics.uci.edu/ml/datasets/heart+disease\n",
        "- 75 columns, 14 columns are most used and applicable\n",
        "- Records 303\n",
        "- Input -> (303, 14)\n",
        "- Output -> 2 classes -> True and False"
      ],
      "metadata": {
        "id": "e9PmupU-eiDc"
      }
    },
    {
      "cell_type": "code",
      "source": [
        "import pandas as pd\n",
        "import numpy as np"
      ],
      "metadata": {
        "id": "vH8VQqSufD7k"
      },
      "execution_count": 49,
      "outputs": []
    },
    {
      "cell_type": "code",
      "source": [
        "df = pd.read_csv('https://raw.githubusercontent.com/prodramp/publiccode/master/datasets/heart.csv')"
      ],
      "metadata": {
        "id": "7prgfIdae0EU"
      },
      "execution_count": 50,
      "outputs": []
    },
    {
      "cell_type": "code",
      "source": [
        "df_input = pd.DataFrame(df.iloc[:, 0:13])\n",
        "df_target = pd.DataFrame(df.iloc[:, 13],columns=['target'])"
      ],
      "metadata": {
        "id": "4gtzEN11fNFd"
      },
      "execution_count": 51,
      "outputs": []
    },
    {
      "cell_type": "code",
      "source": [
        "df_input.columns"
      ],
      "metadata": {
        "colab": {
          "base_uri": "https://localhost:8080/"
        },
        "id": "AP_zCxWCDItk",
        "outputId": "099ce926-b50f-48d6-e26a-ac8b53211e9f"
      },
      "execution_count": 53,
      "outputs": [
        {
          "output_type": "execute_result",
          "data": {
            "text/plain": [
              "Index(['age', 'sex', 'cp', 'trestbps', 'chol', 'fbs', 'restecg', 'thalach',\n",
              "       'exang', 'oldpeak', 'slope', 'ca', 'thal'],\n",
              "      dtype='object')"
            ]
          },
          "metadata": {},
          "execution_count": 53
        }
      ]
    },
    {
      "cell_type": "code",
      "source": [
        "df_input"
      ],
      "metadata": {
        "colab": {
          "base_uri": "https://localhost:8080/",
          "height": 424
        },
        "id": "bY-SOWX3DbrY",
        "outputId": "860ec1e8-4f4d-4565-c2e5-867a92318b9b"
      },
      "execution_count": 61,
      "outputs": [
        {
          "output_type": "execute_result",
          "data": {
            "text/plain": [
              "     age  sex  cp  trestbps  chol  fbs  restecg  thalach  exang  oldpeak  \\\n",
              "0     63    1   3       145   233    1        0      150      0      2.3   \n",
              "1     37    1   2       130   250    0        1      187      0      3.5   \n",
              "2     41    0   1       130   204    0        0      172      0      1.4   \n",
              "3     56    1   1       120   236    0        1      178      0      0.8   \n",
              "4     57    0   0       120   354    0        1      163      1      0.6   \n",
              "..   ...  ...  ..       ...   ...  ...      ...      ...    ...      ...   \n",
              "298   57    0   0       140   241    0        1      123      1      0.2   \n",
              "299   45    1   3       110   264    0        1      132      0      1.2   \n",
              "300   68    1   0       144   193    1        1      141      0      3.4   \n",
              "301   57    1   0       130   131    0        1      115      1      1.2   \n",
              "302   57    0   1       130   236    0        0      174      0      0.0   \n",
              "\n",
              "     slope  ca  thal  \n",
              "0        0   0     1  \n",
              "1        0   0     2  \n",
              "2        2   0     2  \n",
              "3        2   0     2  \n",
              "4        2   0     2  \n",
              "..     ...  ..   ...  \n",
              "298      1   0     3  \n",
              "299      1   0     3  \n",
              "300      1   2     3  \n",
              "301      1   1     3  \n",
              "302      1   1     2  \n",
              "\n",
              "[303 rows x 13 columns]"
            ],
            "text/html": [
              "\n",
              "  <div id=\"df-d7e9709f-6b9b-4b12-bc16-e0a3126771d6\">\n",
              "    <div class=\"colab-df-container\">\n",
              "      <div>\n",
              "<style scoped>\n",
              "    .dataframe tbody tr th:only-of-type {\n",
              "        vertical-align: middle;\n",
              "    }\n",
              "\n",
              "    .dataframe tbody tr th {\n",
              "        vertical-align: top;\n",
              "    }\n",
              "\n",
              "    .dataframe thead th {\n",
              "        text-align: right;\n",
              "    }\n",
              "</style>\n",
              "<table border=\"1\" class=\"dataframe\">\n",
              "  <thead>\n",
              "    <tr style=\"text-align: right;\">\n",
              "      <th></th>\n",
              "      <th>age</th>\n",
              "      <th>sex</th>\n",
              "      <th>cp</th>\n",
              "      <th>trestbps</th>\n",
              "      <th>chol</th>\n",
              "      <th>fbs</th>\n",
              "      <th>restecg</th>\n",
              "      <th>thalach</th>\n",
              "      <th>exang</th>\n",
              "      <th>oldpeak</th>\n",
              "      <th>slope</th>\n",
              "      <th>ca</th>\n",
              "      <th>thal</th>\n",
              "    </tr>\n",
              "  </thead>\n",
              "  <tbody>\n",
              "    <tr>\n",
              "      <th>0</th>\n",
              "      <td>63</td>\n",
              "      <td>1</td>\n",
              "      <td>3</td>\n",
              "      <td>145</td>\n",
              "      <td>233</td>\n",
              "      <td>1</td>\n",
              "      <td>0</td>\n",
              "      <td>150</td>\n",
              "      <td>0</td>\n",
              "      <td>2.3</td>\n",
              "      <td>0</td>\n",
              "      <td>0</td>\n",
              "      <td>1</td>\n",
              "    </tr>\n",
              "    <tr>\n",
              "      <th>1</th>\n",
              "      <td>37</td>\n",
              "      <td>1</td>\n",
              "      <td>2</td>\n",
              "      <td>130</td>\n",
              "      <td>250</td>\n",
              "      <td>0</td>\n",
              "      <td>1</td>\n",
              "      <td>187</td>\n",
              "      <td>0</td>\n",
              "      <td>3.5</td>\n",
              "      <td>0</td>\n",
              "      <td>0</td>\n",
              "      <td>2</td>\n",
              "    </tr>\n",
              "    <tr>\n",
              "      <th>2</th>\n",
              "      <td>41</td>\n",
              "      <td>0</td>\n",
              "      <td>1</td>\n",
              "      <td>130</td>\n",
              "      <td>204</td>\n",
              "      <td>0</td>\n",
              "      <td>0</td>\n",
              "      <td>172</td>\n",
              "      <td>0</td>\n",
              "      <td>1.4</td>\n",
              "      <td>2</td>\n",
              "      <td>0</td>\n",
              "      <td>2</td>\n",
              "    </tr>\n",
              "    <tr>\n",
              "      <th>3</th>\n",
              "      <td>56</td>\n",
              "      <td>1</td>\n",
              "      <td>1</td>\n",
              "      <td>120</td>\n",
              "      <td>236</td>\n",
              "      <td>0</td>\n",
              "      <td>1</td>\n",
              "      <td>178</td>\n",
              "      <td>0</td>\n",
              "      <td>0.8</td>\n",
              "      <td>2</td>\n",
              "      <td>0</td>\n",
              "      <td>2</td>\n",
              "    </tr>\n",
              "    <tr>\n",
              "      <th>4</th>\n",
              "      <td>57</td>\n",
              "      <td>0</td>\n",
              "      <td>0</td>\n",
              "      <td>120</td>\n",
              "      <td>354</td>\n",
              "      <td>0</td>\n",
              "      <td>1</td>\n",
              "      <td>163</td>\n",
              "      <td>1</td>\n",
              "      <td>0.6</td>\n",
              "      <td>2</td>\n",
              "      <td>0</td>\n",
              "      <td>2</td>\n",
              "    </tr>\n",
              "    <tr>\n",
              "      <th>...</th>\n",
              "      <td>...</td>\n",
              "      <td>...</td>\n",
              "      <td>...</td>\n",
              "      <td>...</td>\n",
              "      <td>...</td>\n",
              "      <td>...</td>\n",
              "      <td>...</td>\n",
              "      <td>...</td>\n",
              "      <td>...</td>\n",
              "      <td>...</td>\n",
              "      <td>...</td>\n",
              "      <td>...</td>\n",
              "      <td>...</td>\n",
              "    </tr>\n",
              "    <tr>\n",
              "      <th>298</th>\n",
              "      <td>57</td>\n",
              "      <td>0</td>\n",
              "      <td>0</td>\n",
              "      <td>140</td>\n",
              "      <td>241</td>\n",
              "      <td>0</td>\n",
              "      <td>1</td>\n",
              "      <td>123</td>\n",
              "      <td>1</td>\n",
              "      <td>0.2</td>\n",
              "      <td>1</td>\n",
              "      <td>0</td>\n",
              "      <td>3</td>\n",
              "    </tr>\n",
              "    <tr>\n",
              "      <th>299</th>\n",
              "      <td>45</td>\n",
              "      <td>1</td>\n",
              "      <td>3</td>\n",
              "      <td>110</td>\n",
              "      <td>264</td>\n",
              "      <td>0</td>\n",
              "      <td>1</td>\n",
              "      <td>132</td>\n",
              "      <td>0</td>\n",
              "      <td>1.2</td>\n",
              "      <td>1</td>\n",
              "      <td>0</td>\n",
              "      <td>3</td>\n",
              "    </tr>\n",
              "    <tr>\n",
              "      <th>300</th>\n",
              "      <td>68</td>\n",
              "      <td>1</td>\n",
              "      <td>0</td>\n",
              "      <td>144</td>\n",
              "      <td>193</td>\n",
              "      <td>1</td>\n",
              "      <td>1</td>\n",
              "      <td>141</td>\n",
              "      <td>0</td>\n",
              "      <td>3.4</td>\n",
              "      <td>1</td>\n",
              "      <td>2</td>\n",
              "      <td>3</td>\n",
              "    </tr>\n",
              "    <tr>\n",
              "      <th>301</th>\n",
              "      <td>57</td>\n",
              "      <td>1</td>\n",
              "      <td>0</td>\n",
              "      <td>130</td>\n",
              "      <td>131</td>\n",
              "      <td>0</td>\n",
              "      <td>1</td>\n",
              "      <td>115</td>\n",
              "      <td>1</td>\n",
              "      <td>1.2</td>\n",
              "      <td>1</td>\n",
              "      <td>1</td>\n",
              "      <td>3</td>\n",
              "    </tr>\n",
              "    <tr>\n",
              "      <th>302</th>\n",
              "      <td>57</td>\n",
              "      <td>0</td>\n",
              "      <td>1</td>\n",
              "      <td>130</td>\n",
              "      <td>236</td>\n",
              "      <td>0</td>\n",
              "      <td>0</td>\n",
              "      <td>174</td>\n",
              "      <td>0</td>\n",
              "      <td>0.0</td>\n",
              "      <td>1</td>\n",
              "      <td>1</td>\n",
              "      <td>2</td>\n",
              "    </tr>\n",
              "  </tbody>\n",
              "</table>\n",
              "<p>303 rows × 13 columns</p>\n",
              "</div>\n",
              "      <button class=\"colab-df-convert\" onclick=\"convertToInteractive('df-d7e9709f-6b9b-4b12-bc16-e0a3126771d6')\"\n",
              "              title=\"Convert this dataframe to an interactive table.\"\n",
              "              style=\"display:none;\">\n",
              "        \n",
              "  <svg xmlns=\"http://www.w3.org/2000/svg\" height=\"24px\"viewBox=\"0 0 24 24\"\n",
              "       width=\"24px\">\n",
              "    <path d=\"M0 0h24v24H0V0z\" fill=\"none\"/>\n",
              "    <path d=\"M18.56 5.44l.94 2.06.94-2.06 2.06-.94-2.06-.94-.94-2.06-.94 2.06-2.06.94zm-11 1L8.5 8.5l.94-2.06 2.06-.94-2.06-.94L8.5 2.5l-.94 2.06-2.06.94zm10 10l.94 2.06.94-2.06 2.06-.94-2.06-.94-.94-2.06-.94 2.06-2.06.94z\"/><path d=\"M17.41 7.96l-1.37-1.37c-.4-.4-.92-.59-1.43-.59-.52 0-1.04.2-1.43.59L10.3 9.45l-7.72 7.72c-.78.78-.78 2.05 0 2.83L4 21.41c.39.39.9.59 1.41.59.51 0 1.02-.2 1.41-.59l7.78-7.78 2.81-2.81c.8-.78.8-2.07 0-2.86zM5.41 20L4 18.59l7.72-7.72 1.47 1.35L5.41 20z\"/>\n",
              "  </svg>\n",
              "      </button>\n",
              "      \n",
              "  <style>\n",
              "    .colab-df-container {\n",
              "      display:flex;\n",
              "      flex-wrap:wrap;\n",
              "      gap: 12px;\n",
              "    }\n",
              "\n",
              "    .colab-df-convert {\n",
              "      background-color: #E8F0FE;\n",
              "      border: none;\n",
              "      border-radius: 50%;\n",
              "      cursor: pointer;\n",
              "      display: none;\n",
              "      fill: #1967D2;\n",
              "      height: 32px;\n",
              "      padding: 0 0 0 0;\n",
              "      width: 32px;\n",
              "    }\n",
              "\n",
              "    .colab-df-convert:hover {\n",
              "      background-color: #E2EBFA;\n",
              "      box-shadow: 0px 1px 2px rgba(60, 64, 67, 0.3), 0px 1px 3px 1px rgba(60, 64, 67, 0.15);\n",
              "      fill: #174EA6;\n",
              "    }\n",
              "\n",
              "    [theme=dark] .colab-df-convert {\n",
              "      background-color: #3B4455;\n",
              "      fill: #D2E3FC;\n",
              "    }\n",
              "\n",
              "    [theme=dark] .colab-df-convert:hover {\n",
              "      background-color: #434B5C;\n",
              "      box-shadow: 0px 1px 3px 1px rgba(0, 0, 0, 0.15);\n",
              "      filter: drop-shadow(0px 1px 2px rgba(0, 0, 0, 0.3));\n",
              "      fill: #FFFFFF;\n",
              "    }\n",
              "  </style>\n",
              "\n",
              "      <script>\n",
              "        const buttonEl =\n",
              "          document.querySelector('#df-d7e9709f-6b9b-4b12-bc16-e0a3126771d6 button.colab-df-convert');\n",
              "        buttonEl.style.display =\n",
              "          google.colab.kernel.accessAllowed ? 'block' : 'none';\n",
              "\n",
              "        async function convertToInteractive(key) {\n",
              "          const element = document.querySelector('#df-d7e9709f-6b9b-4b12-bc16-e0a3126771d6');\n",
              "          const dataTable =\n",
              "            await google.colab.kernel.invokeFunction('convertToInteractive',\n",
              "                                                     [key], {});\n",
              "          if (!dataTable) return;\n",
              "\n",
              "          const docLinkHtml = 'Like what you see? Visit the ' +\n",
              "            '<a target=\"_blank\" href=https://colab.research.google.com/notebooks/data_table.ipynb>data table notebook</a>'\n",
              "            + ' to learn more about interactive tables.';\n",
              "          element.innerHTML = '';\n",
              "          dataTable['output_type'] = 'display_data';\n",
              "          await google.colab.output.renderOutput(dataTable, element);\n",
              "          const docLink = document.createElement('div');\n",
              "          docLink.innerHTML = docLinkHtml;\n",
              "          element.appendChild(docLink);\n",
              "        }\n",
              "      </script>\n",
              "    </div>\n",
              "  </div>\n",
              "  "
            ]
          },
          "metadata": {},
          "execution_count": 61
        }
      ]
    },
    {
      "cell_type": "code",
      "source": [
        "df_target.columns"
      ],
      "metadata": {
        "colab": {
          "base_uri": "https://localhost:8080/"
        },
        "id": "GtM7iTdSDLav",
        "outputId": "f4614ad8-5597-4e5a-96e9-5b839297e3bf"
      },
      "execution_count": 55,
      "outputs": [
        {
          "output_type": "execute_result",
          "data": {
            "text/plain": [
              "Index(['target'], dtype='object')"
            ]
          },
          "metadata": {},
          "execution_count": 55
        }
      ]
    },
    {
      "cell_type": "code",
      "source": [
        "inputs_np_array = df_input.to_numpy()\n",
        "targets_np_array = df_target.to_numpy()"
      ],
      "metadata": {
        "id": "heoexD24iO9j"
      },
      "execution_count": 56,
      "outputs": []
    },
    {
      "cell_type": "code",
      "source": [
        "inputs_np_array"
      ],
      "metadata": {
        "colab": {
          "base_uri": "https://localhost:8080/"
        },
        "id": "sxJU8Dd4DQzB",
        "outputId": "e79d0003-d04b-45e5-d16c-66b594bceb2a"
      },
      "execution_count": 57,
      "outputs": [
        {
          "output_type": "execute_result",
          "data": {
            "text/plain": [
              "array([[63.,  1.,  3., ...,  0.,  0.,  1.],\n",
              "       [37.,  1.,  2., ...,  0.,  0.,  2.],\n",
              "       [41.,  0.,  1., ...,  2.,  0.,  2.],\n",
              "       ...,\n",
              "       [68.,  1.,  0., ...,  1.,  2.,  3.],\n",
              "       [57.,  1.,  0., ...,  1.,  1.,  3.],\n",
              "       [57.,  0.,  1., ...,  1.,  1.,  2.]])"
            ]
          },
          "metadata": {},
          "execution_count": 57
        }
      ]
    },
    {
      "cell_type": "code",
      "source": [
        "##targets_np_array"
      ],
      "metadata": {
        "id": "vtk3gK_xDWEx"
      },
      "execution_count": 60,
      "outputs": []
    },
    {
      "cell_type": "code",
      "source": [
        "inputs = torch.from_numpy(np.array(inputs_np_array,dtype='float32'))\n",
        "targets = torch.from_numpy(np.array(targets_np_array,dtype='float32'))"
      ],
      "metadata": {
        "id": "lFDc6pp4ijNI"
      },
      "execution_count": 62,
      "outputs": []
    },
    {
      "cell_type": "code",
      "source": [
        "print(inputs.dtype)\n",
        "inputs"
      ],
      "metadata": {
        "colab": {
          "base_uri": "https://localhost:8080/"
        },
        "id": "dnUVSPc6irdA",
        "outputId": "a3b76d21-47c0-4e16-e681-71f66ab861bb"
      },
      "execution_count": 63,
      "outputs": [
        {
          "output_type": "stream",
          "name": "stdout",
          "text": [
            "torch.float32\n"
          ]
        },
        {
          "output_type": "execute_result",
          "data": {
            "text/plain": [
              "tensor([[63.,  1.,  3.,  ...,  0.,  0.,  1.],\n",
              "        [37.,  1.,  2.,  ...,  0.,  0.,  2.],\n",
              "        [41.,  0.,  1.,  ...,  2.,  0.,  2.],\n",
              "        ...,\n",
              "        [68.,  1.,  0.,  ...,  1.,  2.,  3.],\n",
              "        [57.,  1.,  0.,  ...,  1.,  1.,  3.],\n",
              "        [57.,  0.,  1.,  ...,  1.,  1.,  2.]])"
            ]
          },
          "metadata": {},
          "execution_count": 63
        }
      ]
    },
    {
      "cell_type": "code",
      "source": [
        "print(targets.dtype)\n",
        "#targets"
      ],
      "metadata": {
        "colab": {
          "base_uri": "https://localhost:8080/"
        },
        "id": "wTaf75URDjhO",
        "outputId": "1148cdb2-4b2f-4a07-83bb-d44df09c3394"
      },
      "execution_count": 66,
      "outputs": [
        {
          "output_type": "stream",
          "name": "stdout",
          "text": [
            "torch.float32\n"
          ]
        }
      ]
    },
    {
      "cell_type": "code",
      "source": [
        "print(len(inputs[0]))\n",
        "print(len(targets[0]))\n",
        "print(len(inputs))\n",
        "print(len(targets))"
      ],
      "metadata": {
        "colab": {
          "base_uri": "https://localhost:8080/"
        },
        "id": "4kVuiAhAiu4R",
        "outputId": "51dce852-5674-4e8c-e4e4-68007f99ce2b"
      },
      "execution_count": 64,
      "outputs": [
        {
          "output_type": "stream",
          "name": "stdout",
          "text": [
            "13\n",
            "1\n",
            "303\n",
            "303\n"
          ]
        }
      ]
    },
    {
      "cell_type": "code",
      "source": [
        "class HeartDiseaseNeuralNetworkModel(nn.Module):\n",
        "  def __init__(self):\n",
        "    super().__init__()\n",
        "    ## 13 input fields will be used a feature, 100 is the hidden layer\n",
        "    self.linear1 = nn.Linear(13, 100)\n",
        "    self.linear2 = nn.Linear(100, 10)\n",
        "    self.linear3 = nn.Linear(10, 2) \n",
        "  def forward(self, x):\n",
        "    x = self.linear1(x)\n",
        "    print(x.shape)\n",
        "    x = self.linear2(x)\n",
        "    print(x.shape)\n",
        "    x = self.linear3(x)\n",
        "    print(x.shape)\n",
        "    return x"
      ],
      "metadata": {
        "id": "0ridp9p2fzPk"
      },
      "execution_count": 67,
      "outputs": []
    },
    {
      "cell_type": "code",
      "source": [
        "hmodel = HeartDiseaseNeuralNetworkModel()"
      ],
      "metadata": {
        "id": "A4vc7eJbgO2g"
      },
      "execution_count": 68,
      "outputs": []
    },
    {
      "cell_type": "code",
      "source": [
        "t = torch.randn(303, 13)\n",
        "print(t.size)\n",
        "print(t.shape)\n",
        "print(t)"
      ],
      "metadata": {
        "colab": {
          "base_uri": "https://localhost:8080/"
        },
        "id": "zwatvqG_mJc1",
        "outputId": "bd56e972-e594-4e91-fee0-0762ef7b5312"
      },
      "execution_count": 69,
      "outputs": [
        {
          "output_type": "stream",
          "name": "stdout",
          "text": [
            "<built-in method size of Tensor object at 0x7fa18456ad10>\n",
            "torch.Size([303, 13])\n",
            "tensor([[-0.0127,  0.1864, -0.8771,  ...,  0.0701,  1.1519,  0.1037],\n",
            "        [-1.0126, -0.9164,  1.9987,  ...,  0.5491, -0.1197, -1.4073],\n",
            "        [-1.5335,  2.2798,  0.8377,  ...,  0.5426,  0.5104,  0.0813],\n",
            "        ...,\n",
            "        [ 0.4558,  0.8224, -0.2392,  ..., -1.0076,  0.4439,  1.5869],\n",
            "        [-0.4692,  2.6232,  0.4714,  ...,  1.2742, -2.0115,  1.4356],\n",
            "        [-0.7731, -0.1559, -1.1514,  ...,  0.3757,  0.3336, -0.5567]])\n"
          ]
        }
      ]
    },
    {
      "cell_type": "code",
      "source": [
        "hm = hmodel(t)\n",
        "#hm"
      ],
      "metadata": {
        "colab": {
          "base_uri": "https://localhost:8080/"
        },
        "id": "VNnAhhWCmj03",
        "outputId": "6309c826-cb3b-471b-a383-f5556b53fba1"
      },
      "execution_count": 71,
      "outputs": [
        {
          "output_type": "stream",
          "name": "stdout",
          "text": [
            "torch.Size([303, 100])\n",
            "torch.Size([303, 10])\n",
            "torch.Size([303, 2])\n"
          ]
        }
      ]
    },
    {
      "cell_type": "markdown",
      "source": [
        "- **MNIST Problem** \n",
        "  - http://yann.lecun.com/exdb/mnist/\n",
        "  - 60000 records with 28x28 images means - 60,000 images with 784\n",
        "  - Input -> (60000, 784)\n",
        "  - Output -> 10 classes -> 0 to 9 digitas  "
      ],
      "metadata": {
        "id": "KbZf71iOngOC"
      }
    },
    {
      "cell_type": "code",
      "source": [
        "class MnistNeuralNetworkModel(nn.Module):\n",
        "  def __init__(self):\n",
        "    super().__init__()\n",
        "    ## 13 input fields will be used a feature, 100 is the hidden layer\n",
        "    self.linear1 = nn.Linear(784, 1000)\n",
        "    self.linear2 = nn.Linear(1000, 100)\n",
        "    self.linear3 = nn.Linear(100, 10)\n",
        "    # self.linear4 = nn.Linear(10, 10) \n",
        "  def forward(self, x):\n",
        "    x = self.linear1(x)\n",
        "    print(x.shape)\n",
        "    x = self.linear2(x)\n",
        "    print(x.shape)\n",
        "    x = self.linear3(x)\n",
        "    print(x.shape)\n",
        "    # x = self.linear4(x)\n",
        "    # print(x.shape)\n",
        "    return x"
      ],
      "metadata": {
        "id": "JbdjIwQgnfY6"
      },
      "execution_count": 72,
      "outputs": []
    },
    {
      "cell_type": "code",
      "source": [
        "mnist_model = MnistNeuralNetworkModel()"
      ],
      "metadata": {
        "id": "VqP6D7JInzKj"
      },
      "execution_count": 73,
      "outputs": []
    },
    {
      "cell_type": "code",
      "source": [
        "t = torch.randn(60000, 28*28)\n",
        "print(t.size)\n",
        "print(t.shape)\n",
        "print(t)"
      ],
      "metadata": {
        "colab": {
          "base_uri": "https://localhost:8080/"
        },
        "id": "4fHMhY94n15C",
        "outputId": "bf610107-28dc-442b-aeec-962dd411883b"
      },
      "execution_count": 74,
      "outputs": [
        {
          "output_type": "stream",
          "name": "stdout",
          "text": [
            "<built-in method size of Tensor object at 0x7fa184512ef0>\n",
            "torch.Size([60000, 784])\n",
            "tensor([[-0.5316,  0.8239,  0.1507,  ..., -1.5605, -0.1413,  1.4407],\n",
            "        [-0.1634, -2.5075,  1.4369,  ..., -0.6939,  0.2214, -0.7600],\n",
            "        [ 0.3102,  0.8649,  1.3184,  ...,  0.1262,  0.1938, -1.0319],\n",
            "        ...,\n",
            "        [-1.9664,  0.9541, -0.0611,  ...,  0.4118, -0.3367,  1.4187],\n",
            "        [-1.1042, -0.0286, -0.5741,  ...,  0.2508,  1.0949,  0.2436],\n",
            "        [ 0.3921,  1.9291,  0.2720,  ..., -0.6574, -0.4779, -0.9592]])\n"
          ]
        }
      ]
    },
    {
      "cell_type": "code",
      "source": [
        "mn = mnist_model(t)"
      ],
      "metadata": {
        "colab": {
          "base_uri": "https://localhost:8080/"
        },
        "id": "J3XcVSz3oDOb",
        "outputId": "1c7a4cbe-40fb-4038-aaaf-ff097eddad3d"
      },
      "execution_count": 75,
      "outputs": [
        {
          "output_type": "stream",
          "name": "stdout",
          "text": [
            "torch.Size([60000, 1000])\n",
            "torch.Size([60000, 100])\n",
            "torch.Size([60000, 10])\n"
          ]
        }
      ]
    },
    {
      "cell_type": "markdown",
      "source": [
        "# **Using nn.Parameters**\n",
        "\n",
        "Parameters are Tensor subclasses, that have a very special property when used with Module - when they’re assigned as Module attributes they are automatically added to the list of its parameters, and will appear in parameters() iterator\n",
        "\n",
        "Source:\n",
        "- https://www.kdnuggets.com/2020/09/most-complete-guide-pytorch-data-scientists.html"
      ],
      "metadata": {
        "id": "o8yqR-SBMyK-"
      }
    },
    {
      "cell_type": "markdown",
      "source": [
        "# **Custom Linear Layer**"
      ],
      "metadata": {
        "id": "VwvuEeQOOal2"
      }
    },
    {
      "cell_type": "code",
      "source": [
        "class myCustomLinearLayer(nn.Module):\n",
        "    def __init__(self,in_size,out_size):\n",
        "        super().__init__()\n",
        "        self.weights = nn.Parameter(torch.randn(in_size, out_size))\n",
        "        self.bias = nn.Parameter(torch.zeros(out_size))\n",
        "    def forward(self, x):\n",
        "        return x.mm(self.weights) + self.bias"
      ],
      "metadata": {
        "id": "ShopdgHMASc2"
      },
      "execution_count": 76,
      "outputs": []
    },
    {
      "cell_type": "markdown",
      "source": [
        "# **Customer Neural Network**"
      ],
      "metadata": {
        "id": "HHp2qrGiOXfr"
      }
    },
    {
      "cell_type": "code",
      "source": [
        "class myCustomNeuralNet(nn.Module):\n",
        "    def __init__(self):\n",
        "        super().__init__()\n",
        "        # Define all Layers Here\n",
        "        self.lin1 = myCustomLinearLayer(784,10)\n",
        "        \n",
        "    def forward(self, x):\n",
        "        # Connect the layer Outputs here to define the forward pass\n",
        "        x = self.lin1(x)\n",
        "        print(x.shape)\n",
        "        return x"
      ],
      "metadata": {
        "id": "LBgm-UG6M3dk"
      },
      "execution_count": 77,
      "outputs": []
    },
    {
      "cell_type": "code",
      "source": [
        "# ----- Input records and dimensions        \n",
        "# 100 records of dimensions 784\n",
        "x = torch.randn((100,784))"
      ],
      "metadata": {
        "id": "P0P48iPcQR-M"
      },
      "execution_count": 78,
      "outputs": []
    },
    {
      "cell_type": "code",
      "source": [
        "model = myCustomNeuralNet()\n",
        "model(x).size()"
      ],
      "metadata": {
        "colab": {
          "base_uri": "https://localhost:8080/"
        },
        "id": "g8__-Wv-F1QX",
        "outputId": "2833a827-4785-4093-e1d1-a64777eca7a2"
      },
      "execution_count": 79,
      "outputs": [
        {
          "output_type": "stream",
          "name": "stdout",
          "text": [
            "torch.Size([100, 10])\n"
          ]
        },
        {
          "output_type": "execute_result",
          "data": {
            "text/plain": [
              "torch.Size([100, 10])"
            ]
          },
          "metadata": {},
          "execution_count": 79
        }
      ]
    },
    {
      "cell_type": "code",
      "source": [
        "class myCrazyNeuralNet(nn.Module):\n",
        "    def __init__(self):\n",
        "        super().__init__()\n",
        "        # Define all Layers Here\n",
        "        self.lin1 = nn.Linear(784, 30)\n",
        "        self.lin2 = nn.Linear(30, 784)\n",
        "        self.lin3 = nn.Linear(30, 10)\n",
        "        \n",
        "    def forward(self, x):\n",
        "        # Connect the layer Outputs here to define the forward pass\n",
        "        x_lin1 = self.lin1(x)\n",
        "        print(x_lin1.shape)\n",
        "        x_lin2 = x + self.lin2(x_lin1)\n",
        "        print(x_lin2.shape)\n",
        "        x_lin2 = self.lin1(x_lin2)\n",
        "        print(x_lin2.shape)\n",
        "        x = self.lin3(x_lin2)\n",
        "        print(x.shape)\n",
        "        return x"
      ],
      "metadata": {
        "id": "TGyMn-JxoqnT"
      },
      "execution_count": 81,
      "outputs": []
    },
    {
      "cell_type": "code",
      "source": [
        "crazy_model = myCrazyNeuralNet()"
      ],
      "metadata": {
        "id": "qe8U6P2Yos2A"
      },
      "execution_count": 82,
      "outputs": []
    },
    {
      "cell_type": "code",
      "source": [
        "cm = crazy_model(t)"
      ],
      "metadata": {
        "colab": {
          "base_uri": "https://localhost:8080/"
        },
        "id": "Tkg_8l6pov2d",
        "outputId": "f0327ab7-2e23-4235-a5c9-9c6e1c067562"
      },
      "execution_count": 83,
      "outputs": [
        {
          "output_type": "stream",
          "name": "stdout",
          "text": [
            "torch.Size([60000, 30])\n",
            "torch.Size([60000, 784])\n",
            "torch.Size([60000, 30])\n",
            "torch.Size([60000, 10])\n"
          ]
        }
      ]
    },
    {
      "cell_type": "markdown",
      "source": [
        "# **Homework: Understanding Datasets and setting as input and output:**\n",
        "\n",
        "\n",
        "- Titanic \n",
        "  - https://www.kaggle.com/c/titanic\n",
        "  - Input - 12 columns including survived (output) columns\n",
        "  - Output - Survived/Not Survived -> T/F || 1/0\n",
        "  - 891 records\n",
        "- Supermarket\n",
        "- Loan Dataset\n"
      ],
      "metadata": {
        "id": "sIqDLSEeWV33"
      }
    },
    {
      "cell_type": "markdown",
      "source": [
        "# **What is next?**\n",
        "- How the data is loaded into a network?\n",
        "- How transectional data is processed with PyTorch\n",
        "- How the image data is processed with PyTorch"
      ],
      "metadata": {
        "id": "DLKGlr_CW-B-"
      }
    },
    {
      "cell_type": "markdown",
      "source": [
        "# **Supported Neural Network Architecture with PyTorch:**\n",
        "- nn.Linear\n",
        "- nn.Conv2d\n",
        "- nn.MaxPool2d\n",
        "- nn.ReLU\n",
        "- nn.BatchNorm2d\n",
        "- nn.Dropout\n",
        "- nn.Embedding\n",
        "- nn.GRU/nn.LSTM\n",
        "- nn.Softmax\n",
        "- nn.LogSoftmax\n",
        "- nn.MultiheadAttention\n",
        "- nn.TransformerEncoder\n",
        "- nn.TransformerDecoder"
      ],
      "metadata": {
        "id": "9cYWdojNOuOI"
      }
    },
    {
      "cell_type": "code",
      "source": [
        ""
      ],
      "metadata": {
        "id": "4TbcpQqlM9oN"
      },
      "execution_count": null,
      "outputs": []
    }
  ]
}