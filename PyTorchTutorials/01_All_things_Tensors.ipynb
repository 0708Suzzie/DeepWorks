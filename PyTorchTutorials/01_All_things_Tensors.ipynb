{
  "nbformat": 4,
  "nbformat_minor": 0,
  "metadata": {
    "colab": {
      "name": "01-Tensors-Operators.ipynb",
      "provenance": [],
      "collapsed_sections": [],
      "authorship_tag": "ABX9TyMAdkVtlMmeFg6RfYnbZ1kF",
      "include_colab_link": true
    },
    "kernelspec": {
      "name": "python3",
      "display_name": "Python 3"
    },
    "language_info": {
      "name": "python"
    },
    "accelerator": "GPU"
  },
  "cells": [
    {
      "cell_type": "markdown",
      "metadata": {
        "id": "view-in-github",
        "colab_type": "text"
      },
      "source": [
        "<a href=\"https://colab.research.google.com/github/prodramp/DeepWorks/blob/main/PyTorchTutorials/01_All_things_Tensors.ipynb\" target=\"_parent\"><img src=\"https://colab.research.google.com/assets/colab-badge.svg\" alt=\"Open In Colab\"/></a>"
      ]
    },
    {
      "cell_type": "markdown",
      "source": [
        "# **All Things Tensor:**\n",
        "- Building blocks of Deep Learning\n",
        "- Data i.e. shopping card, logs, images, texts all can be represented as Tensor\n",
        "- All deep learning libraries supports Tensor as data input and operations\n",
        "- Tensors are generalized vector and/or matrix\n",
        "- Tensors are kind of Matrix but still have lots of difference between them\n",
        "- A matrix is just a 2-D grid of numbers represented a [N x M]\n",
        "- A tensor is A tensor is generalized matrix. \n",
        "  - Can also be a 0-D matrix (a single number), \n",
        "  - Can be a 1-D matrix (a vector is actually such a tensor), \n",
        "  - Can be 3-D matrix (something like a cube of numbers), \n",
        "  - Can also be a higher dimensional structure that is harder to visualize. \n",
        "- The dimension of the tensor is called its rank.\n",
        "- A definitive Tensor is a multi-dimensional array of minimum 3 or more dimensions \n",
        "- In Python a tensor is represented as N-Dimensional array (ndarray)\n",
        "\n",
        "Resources:\n",
        "- https://www.kdnuggets.com/2018/05/wtf-tensor.html\n",
        "- https://machinelearningmastery.com/introduction-to-tensors-for-machine-learning/\n",
        "- https://medium.com/@quantumsteinke/whats-the-difference-between-a-matrix-and-a-tensor-4505fbdc576c\n",
        "- https://www.marktechpost.com/2021/01/09/getting-started-with-pytorch-in-google-collab-with-free-gpu/\n"
      ],
      "metadata": {
        "id": "FeVvvXiDR2Ze"
      }
    },
    {
      "cell_type": "code",
      "execution_count": 1,
      "metadata": {
        "id": "2cSJzwJPQ6XK"
      },
      "outputs": [],
      "source": [
        "import torch"
      ]
    },
    {
      "cell_type": "code",
      "source": [
        "torch.Tensor([[1,2,3],[3,4,5]])\n",
        "#torch.Tensor([[1,2,3],[4,5,6]])"
      ],
      "metadata": {
        "colab": {
          "base_uri": "https://localhost:8080/"
        },
        "id": "pw5rxzF2SNNt",
        "outputId": "5517e3b8-b66b-4e38-a47d-4f94060dc3f2"
      },
      "execution_count": 7,
      "outputs": [
        {
          "output_type": "execute_result",
          "data": {
            "text/plain": [
              "tensor([[1., 2., 3.],\n",
              "        [3., 4., 5.]])"
            ]
          },
          "metadata": {},
          "execution_count": 7
        }
      ]
    },
    {
      "cell_type": "code",
      "source": [
        "t = torch.Tensor([1,2,3])\n",
        "print(t)\n",
        "print(t.shape)\n",
        "print(type(t))\n",
        "print(t.dtype)"
      ],
      "metadata": {
        "colab": {
          "base_uri": "https://localhost:8080/"
        },
        "id": "f3nQ5SyIyW11",
        "outputId": "1fae407c-f724-4d2b-9368-856cb11c04e0"
      },
      "execution_count": 26,
      "outputs": [
        {
          "output_type": "stream",
          "name": "stdout",
          "text": [
            "tensor([1., 2., 3.])\n",
            "torch.Size([3])\n",
            "<class 'torch.Tensor'>\n",
            "torch.float32\n"
          ]
        }
      ]
    },
    {
      "cell_type": "code",
      "source": [
        "t = torch.Tensor([ [[0,1,2,5],[4,5,6, 9], [7,8,9, 8]] , [[0,1,2,5],[4,5,6, 9], [7,8,9, 8]]  ])\n",
        "print(t)\n",
        "print(t.shape)\n",
        "print(type(t))\n",
        "print(t.dtype)"
      ],
      "metadata": {
        "colab": {
          "base_uri": "https://localhost:8080/"
        },
        "id": "iroyJdEtSg6F",
        "outputId": "df76725a-4af5-4b3c-b1c6-3fdbe76bf4f9"
      },
      "execution_count": 17,
      "outputs": [
        {
          "output_type": "stream",
          "name": "stdout",
          "text": [
            "tensor([[[0., 1., 2., 5.],\n",
            "         [4., 5., 6., 9.],\n",
            "         [7., 8., 9., 8.]],\n",
            "\n",
            "        [[0., 1., 2., 5.],\n",
            "         [4., 5., 6., 9.],\n",
            "         [7., 8., 9., 8.]]])\n",
            "torch.Size([2, 3, 4])\n",
            "<class 'torch.Tensor'>\n",
            "torch.float32\n"
          ]
        }
      ]
    },
    {
      "cell_type": "code",
      "source": [
        "#t = torch.zeros(1,5, dtype=torch.int)\n",
        "t = torch.ones(50,1,50, dtype=torch.float)\n",
        "print(type(t))\n",
        "print(t)\n",
        "print(t.shape)\n",
        "print(t.dtype)\n"
      ],
      "metadata": {
        "colab": {
          "base_uri": "https://localhost:8080/"
        },
        "id": "ukPmzsjmx7RA",
        "outputId": "e31abab7-78f1-4589-9a9e-c72342e5dbb4"
      },
      "execution_count": 29,
      "outputs": [
        {
          "output_type": "stream",
          "name": "stdout",
          "text": [
            "<class 'torch.Tensor'>\n",
            "tensor([[[1., 1., 1.,  ..., 1., 1., 1.]],\n",
            "\n",
            "        [[1., 1., 1.,  ..., 1., 1., 1.]],\n",
            "\n",
            "        [[1., 1., 1.,  ..., 1., 1., 1.]],\n",
            "\n",
            "        ...,\n",
            "\n",
            "        [[1., 1., 1.,  ..., 1., 1., 1.]],\n",
            "\n",
            "        [[1., 1., 1.,  ..., 1., 1., 1.]],\n",
            "\n",
            "        [[1., 1., 1.,  ..., 1., 1., 1.]]])\n",
            "torch.Size([50, 1, 50])\n",
            "torch.float32\n"
          ]
        }
      ]
    },
    {
      "cell_type": "code",
      "source": [
        "# Randonly \n",
        "t = torch.rand(1,1,5) #  dtype=torch.float (not needed, all random values will be float by default)\n",
        "# random tensor operartion does not support int type\n",
        "#t = torch.rand(1,5, dtype=torch.int)\n",
        "print(type(t))\n",
        "print(t)\n",
        "print(t.shape)\n",
        "print(t.dtype)"
      ],
      "metadata": {
        "colab": {
          "base_uri": "https://localhost:8080/"
        },
        "id": "74XZhBNMoMSP",
        "outputId": "61a91f23-3ea1-4fb7-b721-fefa65f76348"
      },
      "execution_count": 36,
      "outputs": [
        {
          "output_type": "stream",
          "name": "stdout",
          "text": [
            "<class 'torch.Tensor'>\n",
            "tensor([[[0.8990, 0.7541, 0.4115, 0.9595, 0.7595]]])\n",
            "torch.Size([1, 1, 5])\n",
            "torch.float32\n"
          ]
        }
      ]
    },
    {
      "cell_type": "code",
      "source": [
        "# Randonly for normal distribution\n",
        "# with this the numbers generated will have mean values is 0 and variance as 1 (Gaussian white noise)\n",
        "t = torch.randn(2,5)\n",
        "print(type(t))\n",
        "print(t)\n",
        "print(t.shape)\n",
        "print(t.dtype)"
      ],
      "metadata": {
        "colab": {
          "base_uri": "https://localhost:8080/"
        },
        "id": "pUDOxQo9SqJN",
        "outputId": "45983602-09a4-45a5-9fee-924fde2aa711"
      },
      "execution_count": 46,
      "outputs": [
        {
          "output_type": "stream",
          "name": "stdout",
          "text": [
            "<class 'torch.Tensor'>\n",
            "tensor([[-0.3740,  0.8155,  0.5971, -0.6809, -0.3245],\n",
            "        [-0.7502, -1.0066,  0.5070,  0.5352, -1.5914]])\n",
            "torch.Size([2, 5])\n",
            "torch.float32\n"
          ]
        }
      ]
    },
    {
      "cell_type": "code",
      "source": [
        "t[0][1][4]"
      ],
      "metadata": {
        "colab": {
          "base_uri": "https://localhost:8080/"
        },
        "id": "2OzaofyrGxxO",
        "outputId": "ea996c92-f04a-4b8c-c5c2-70bfd0ec0901"
      },
      "execution_count": 44,
      "outputs": [
        {
          "output_type": "execute_result",
          "data": {
            "text/plain": [
              "tensor(0.6127)"
            ]
          },
          "metadata": {},
          "execution_count": 44
        }
      ]
    },
    {
      "cell_type": "code",
      "source": [
        "# Conversion of tensor to Pandas Dataframe\n",
        "# Note: If Tensor has more then 2 dimensions then you would need to process it differently\n",
        "a = t.tolist()\n",
        "import pandas as pd\n",
        "df = pd.DataFrame(a)\n",
        "df"
      ],
      "metadata": {
        "colab": {
          "base_uri": "https://localhost:8080/",
          "height": 112
        },
        "id": "-vjJNIE4sGD3",
        "outputId": "68f37df0-9086-4b09-ff52-0c0e81f38979"
      },
      "execution_count": 47,
      "outputs": [
        {
          "output_type": "execute_result",
          "data": {
            "text/plain": [
              "          0         1         2         3         4\n",
              "0 -0.374029  0.815549  0.597108 -0.680906 -0.324526\n",
              "1 -0.750211 -1.006602  0.507031  0.535242 -1.591417"
            ],
            "text/html": [
              "\n",
              "  <div id=\"df-46f44cee-8476-4e44-a7e2-306a04787a49\">\n",
              "    <div class=\"colab-df-container\">\n",
              "      <div>\n",
              "<style scoped>\n",
              "    .dataframe tbody tr th:only-of-type {\n",
              "        vertical-align: middle;\n",
              "    }\n",
              "\n",
              "    .dataframe tbody tr th {\n",
              "        vertical-align: top;\n",
              "    }\n",
              "\n",
              "    .dataframe thead th {\n",
              "        text-align: right;\n",
              "    }\n",
              "</style>\n",
              "<table border=\"1\" class=\"dataframe\">\n",
              "  <thead>\n",
              "    <tr style=\"text-align: right;\">\n",
              "      <th></th>\n",
              "      <th>0</th>\n",
              "      <th>1</th>\n",
              "      <th>2</th>\n",
              "      <th>3</th>\n",
              "      <th>4</th>\n",
              "    </tr>\n",
              "  </thead>\n",
              "  <tbody>\n",
              "    <tr>\n",
              "      <th>0</th>\n",
              "      <td>-0.374029</td>\n",
              "      <td>0.815549</td>\n",
              "      <td>0.597108</td>\n",
              "      <td>-0.680906</td>\n",
              "      <td>-0.324526</td>\n",
              "    </tr>\n",
              "    <tr>\n",
              "      <th>1</th>\n",
              "      <td>-0.750211</td>\n",
              "      <td>-1.006602</td>\n",
              "      <td>0.507031</td>\n",
              "      <td>0.535242</td>\n",
              "      <td>-1.591417</td>\n",
              "    </tr>\n",
              "  </tbody>\n",
              "</table>\n",
              "</div>\n",
              "      <button class=\"colab-df-convert\" onclick=\"convertToInteractive('df-46f44cee-8476-4e44-a7e2-306a04787a49')\"\n",
              "              title=\"Convert this dataframe to an interactive table.\"\n",
              "              style=\"display:none;\">\n",
              "        \n",
              "  <svg xmlns=\"http://www.w3.org/2000/svg\" height=\"24px\"viewBox=\"0 0 24 24\"\n",
              "       width=\"24px\">\n",
              "    <path d=\"M0 0h24v24H0V0z\" fill=\"none\"/>\n",
              "    <path d=\"M18.56 5.44l.94 2.06.94-2.06 2.06-.94-2.06-.94-.94-2.06-.94 2.06-2.06.94zm-11 1L8.5 8.5l.94-2.06 2.06-.94-2.06-.94L8.5 2.5l-.94 2.06-2.06.94zm10 10l.94 2.06.94-2.06 2.06-.94-2.06-.94-.94-2.06-.94 2.06-2.06.94z\"/><path d=\"M17.41 7.96l-1.37-1.37c-.4-.4-.92-.59-1.43-.59-.52 0-1.04.2-1.43.59L10.3 9.45l-7.72 7.72c-.78.78-.78 2.05 0 2.83L4 21.41c.39.39.9.59 1.41.59.51 0 1.02-.2 1.41-.59l7.78-7.78 2.81-2.81c.8-.78.8-2.07 0-2.86zM5.41 20L4 18.59l7.72-7.72 1.47 1.35L5.41 20z\"/>\n",
              "  </svg>\n",
              "      </button>\n",
              "      \n",
              "  <style>\n",
              "    .colab-df-container {\n",
              "      display:flex;\n",
              "      flex-wrap:wrap;\n",
              "      gap: 12px;\n",
              "    }\n",
              "\n",
              "    .colab-df-convert {\n",
              "      background-color: #E8F0FE;\n",
              "      border: none;\n",
              "      border-radius: 50%;\n",
              "      cursor: pointer;\n",
              "      display: none;\n",
              "      fill: #1967D2;\n",
              "      height: 32px;\n",
              "      padding: 0 0 0 0;\n",
              "      width: 32px;\n",
              "    }\n",
              "\n",
              "    .colab-df-convert:hover {\n",
              "      background-color: #E2EBFA;\n",
              "      box-shadow: 0px 1px 2px rgba(60, 64, 67, 0.3), 0px 1px 3px 1px rgba(60, 64, 67, 0.15);\n",
              "      fill: #174EA6;\n",
              "    }\n",
              "\n",
              "    [theme=dark] .colab-df-convert {\n",
              "      background-color: #3B4455;\n",
              "      fill: #D2E3FC;\n",
              "    }\n",
              "\n",
              "    [theme=dark] .colab-df-convert:hover {\n",
              "      background-color: #434B5C;\n",
              "      box-shadow: 0px 1px 3px 1px rgba(0, 0, 0, 0.15);\n",
              "      filter: drop-shadow(0px 1px 2px rgba(0, 0, 0, 0.3));\n",
              "      fill: #FFFFFF;\n",
              "    }\n",
              "  </style>\n",
              "\n",
              "      <script>\n",
              "        const buttonEl =\n",
              "          document.querySelector('#df-46f44cee-8476-4e44-a7e2-306a04787a49 button.colab-df-convert');\n",
              "        buttonEl.style.display =\n",
              "          google.colab.kernel.accessAllowed ? 'block' : 'none';\n",
              "\n",
              "        async function convertToInteractive(key) {\n",
              "          const element = document.querySelector('#df-46f44cee-8476-4e44-a7e2-306a04787a49');\n",
              "          const dataTable =\n",
              "            await google.colab.kernel.invokeFunction('convertToInteractive',\n",
              "                                                     [key], {});\n",
              "          if (!dataTable) return;\n",
              "\n",
              "          const docLinkHtml = 'Like what you see? Visit the ' +\n",
              "            '<a target=\"_blank\" href=https://colab.research.google.com/notebooks/data_table.ipynb>data table notebook</a>'\n",
              "            + ' to learn more about interactive tables.';\n",
              "          element.innerHTML = '';\n",
              "          dataTable['output_type'] = 'display_data';\n",
              "          await google.colab.output.renderOutput(dataTable, element);\n",
              "          const docLink = document.createElement('div');\n",
              "          docLink.innerHTML = docLinkHtml;\n",
              "          element.appendChild(docLink);\n",
              "        }\n",
              "      </script>\n",
              "    </div>\n",
              "  </div>\n",
              "  "
            ]
          },
          "metadata": {},
          "execution_count": 47
        }
      ]
    },
    {
      "cell_type": "code",
      "source": [
        "from numpy import array\n",
        "nm = array([\n",
        "  [[1,2,3],    [4,5,6.1],    [7,8,9]],\n",
        "  [[11,12,13], [14,15,16], [17,18,19]],\n",
        "  [[21,22,23], [24,25,26], [27,28,29]],\n",
        "  ])\n",
        "print(nm.shape)\n",
        "print(nm)\n",
        "print(type(nm))\n",
        "print(nm.dtype)"
      ],
      "metadata": {
        "colab": {
          "base_uri": "https://localhost:8080/"
        },
        "id": "e7cV1ag4Sx4Y",
        "outputId": "17d0ce44-4a56-4e43-c3cd-764acc18d267"
      },
      "execution_count": 56,
      "outputs": [
        {
          "output_type": "stream",
          "name": "stdout",
          "text": [
            "(3, 3, 3)\n",
            "[[[ 1.   2.   3. ]\n",
            "  [ 4.   5.   6.1]\n",
            "  [ 7.   8.   9. ]]\n",
            "\n",
            " [[11.  12.  13. ]\n",
            "  [14.  15.  16. ]\n",
            "  [17.  18.  19. ]]\n",
            "\n",
            " [[21.  22.  23. ]\n",
            "  [24.  25.  26. ]\n",
            "  [27.  28.  29. ]]]\n",
            "<class 'numpy.ndarray'>\n",
            "float64\n"
          ]
        }
      ]
    },
    {
      "cell_type": "code",
      "source": [
        "t = torch.from_numpy(nm)\n",
        "print(t.shape)\n",
        "print(t)\n",
        "print(type(t))\n",
        "print(t.dtype)"
      ],
      "metadata": {
        "colab": {
          "base_uri": "https://localhost:8080/"
        },
        "id": "UkyuqtGQWqCq",
        "outputId": "84209b29-bac8-4fb4-c71b-9ec67b720801"
      },
      "execution_count": 57,
      "outputs": [
        {
          "output_type": "stream",
          "name": "stdout",
          "text": [
            "torch.Size([3, 3, 3])\n",
            "tensor([[[ 1.0000,  2.0000,  3.0000],\n",
            "         [ 4.0000,  5.0000,  6.1000],\n",
            "         [ 7.0000,  8.0000,  9.0000]],\n",
            "\n",
            "        [[11.0000, 12.0000, 13.0000],\n",
            "         [14.0000, 15.0000, 16.0000],\n",
            "         [17.0000, 18.0000, 19.0000]],\n",
            "\n",
            "        [[21.0000, 22.0000, 23.0000],\n",
            "         [24.0000, 25.0000, 26.0000],\n",
            "         [27.0000, 28.0000, 29.0000]]], dtype=torch.float64)\n",
            "<class 'torch.Tensor'>\n",
            "torch.float64\n"
          ]
        }
      ]
    },
    {
      "cell_type": "markdown",
      "source": [
        "### **Using torch.ones**"
      ],
      "metadata": {
        "id": "9cQwSH3Vtcb3"
      }
    },
    {
      "cell_type": "code",
      "source": [
        "t = torch.ones(5, 5) # 4,4 - 3,5\n",
        "print(t.shape)\n",
        "print(t)\n",
        "print(type(t))\n",
        "print(t.dtype)"
      ],
      "metadata": {
        "colab": {
          "base_uri": "https://localhost:8080/"
        },
        "id": "2gv5AHmkZ3Co",
        "outputId": "91d2176e-6d29-4596-feb7-37fb38aad720"
      },
      "execution_count": 58,
      "outputs": [
        {
          "output_type": "stream",
          "name": "stdout",
          "text": [
            "torch.Size([5, 5])\n",
            "tensor([[1., 1., 1., 1., 1.],\n",
            "        [1., 1., 1., 1., 1.],\n",
            "        [1., 1., 1., 1., 1.],\n",
            "        [1., 1., 1., 1., 1.],\n",
            "        [1., 1., 1., 1., 1.]])\n",
            "<class 'torch.Tensor'>\n",
            "torch.float32\n"
          ]
        }
      ]
    },
    {
      "cell_type": "markdown",
      "source": [
        "### **Using torch.zeros**"
      ],
      "metadata": {
        "id": "wHzWrTIgtgz5"
      }
    },
    {
      "cell_type": "code",
      "source": [
        "t = torch.zeros(5, 5)\n",
        "print(t.shape)\n",
        "print(t)\n",
        "print(type(t))\n",
        "print(t.dtype)"
      ],
      "metadata": {
        "colab": {
          "base_uri": "https://localhost:8080/"
        },
        "id": "0jrfklibbKFf",
        "outputId": "81b9177e-7f75-4a57-db1c-57882b67cce7"
      },
      "execution_count": 59,
      "outputs": [
        {
          "output_type": "stream",
          "name": "stdout",
          "text": [
            "torch.Size([5, 5])\n",
            "tensor([[0., 0., 0., 0., 0.],\n",
            "        [0., 0., 0., 0., 0.],\n",
            "        [0., 0., 0., 0., 0.],\n",
            "        [0., 0., 0., 0., 0.],\n",
            "        [0., 0., 0., 0., 0.]])\n",
            "<class 'torch.Tensor'>\n",
            "torch.float32\n"
          ]
        }
      ]
    },
    {
      "cell_type": "markdown",
      "source": [
        "### **Using torch.ones_like**"
      ],
      "metadata": {
        "id": "oalxTio4ttM9"
      }
    },
    {
      "cell_type": "code",
      "source": [
        "t = torch.rand(5, 3)\n",
        "print(t)\n",
        "# Keeping the source tensor shape and type but filling requested data\n",
        "t_ones = torch.ones_like(t) \n",
        "print(f\"Ones Tensor: \\n {t_ones} \\n\")\n",
        "print(t_ones)\n",
        "print(type(t_ones))\n",
        "print(t_ones.dtype)"
      ],
      "metadata": {
        "colab": {
          "base_uri": "https://localhost:8080/"
        },
        "id": "TDJcFoyCtz07",
        "outputId": "8226b95d-2911-475b-9afd-228bfa99ac75"
      },
      "execution_count": 61,
      "outputs": [
        {
          "output_type": "stream",
          "name": "stdout",
          "text": [
            "tensor([[0.6045, 0.0166, 0.5515],\n",
            "        [0.8679, 0.1401, 0.3168],\n",
            "        [0.0536, 0.0477, 0.0411],\n",
            "        [0.8044, 0.5896, 0.9260],\n",
            "        [0.4078, 0.8985, 0.1927]])\n",
            "Ones Tensor: \n",
            " tensor([[1., 1., 1.],\n",
            "        [1., 1., 1.],\n",
            "        [1., 1., 1.],\n",
            "        [1., 1., 1.],\n",
            "        [1., 1., 1.]]) \n",
            "\n",
            "tensor([[1., 1., 1.],\n",
            "        [1., 1., 1.],\n",
            "        [1., 1., 1.],\n",
            "        [1., 1., 1.],\n",
            "        [1., 1., 1.]])\n",
            "<class 'torch.Tensor'>\n",
            "torch.float32\n"
          ]
        }
      ]
    },
    {
      "cell_type": "markdown",
      "source": [
        "### **Using torch.zeros_like:**"
      ],
      "metadata": {
        "id": "nxHbWocuu2IA"
      }
    },
    {
      "cell_type": "code",
      "source": [
        "t = torch.rand(5, 4)\n",
        "print(t)\n",
        "# Keeping the source tensor shape and type but filling requested data\n",
        "t_zeros = torch.zeros_like(t) \n",
        "#print(f\"Zeros Tensor: \\n {t_zeros} \\n\")\n",
        "print(t_zeros)\n",
        "print(type(t_zeros))\n",
        "print(t_zeros.dtype)"
      ],
      "metadata": {
        "colab": {
          "base_uri": "https://localhost:8080/"
        },
        "id": "coeOlIizuayv",
        "outputId": "27de3700-d144-490a-98ba-ca704b521e50"
      },
      "execution_count": 66,
      "outputs": [
        {
          "output_type": "stream",
          "name": "stdout",
          "text": [
            "tensor([[0.9761, 0.4466, 0.3771, 0.3334],\n",
            "        [0.9026, 0.9910, 0.5035, 0.4342],\n",
            "        [0.4799, 0.4875, 0.8521, 0.4814],\n",
            "        [0.8896, 0.1712, 0.6240, 0.4646],\n",
            "        [0.5475, 0.5115, 0.0107, 0.9115]])\n",
            "tensor([[0., 0., 0., 0.],\n",
            "        [0., 0., 0., 0.],\n",
            "        [0., 0., 0., 0.],\n",
            "        [0., 0., 0., 0.],\n",
            "        [0., 0., 0., 0.]])\n",
            "<class 'torch.Tensor'>\n",
            "torch.float32\n"
          ]
        }
      ]
    },
    {
      "cell_type": "code",
      "source": [
        "t = torch.ones(5, 5, dtype=torch.int)\n",
        "print(t)\n",
        "print(type(t))\n",
        "print(t.dtype)\n",
        "t_rand = torch.rand_like(t, dtype=torch.float)\n",
        "print(t_rand)\n",
        "print(type(t_rand))\n",
        "print(t_rand.dtype)"
      ],
      "metadata": {
        "colab": {
          "base_uri": "https://localhost:8080/"
        },
        "id": "nWnce60sxHzp",
        "outputId": "d8b970c1-357d-432b-be67-a11b270cb1d2"
      },
      "execution_count": 67,
      "outputs": [
        {
          "output_type": "stream",
          "name": "stdout",
          "text": [
            "tensor([[1, 1, 1, 1, 1],\n",
            "        [1, 1, 1, 1, 1],\n",
            "        [1, 1, 1, 1, 1],\n",
            "        [1, 1, 1, 1, 1],\n",
            "        [1, 1, 1, 1, 1]], dtype=torch.int32)\n",
            "<class 'torch.Tensor'>\n",
            "torch.int32\n",
            "tensor([[0.9703, 0.6034, 0.6545, 0.9659, 0.7510],\n",
            "        [0.8728, 0.3161, 0.9348, 0.4785, 0.7939],\n",
            "        [0.9256, 0.1844, 0.4914, 0.3556, 0.1348],\n",
            "        [0.2862, 0.6055, 0.1826, 0.5339, 0.4031],\n",
            "        [0.3730, 0.4582, 0.9659, 0.2865, 0.5095]])\n",
            "<class 'torch.Tensor'>\n",
            "torch.float32\n"
          ]
        }
      ]
    },
    {
      "cell_type": "markdown",
      "source": [
        "## **Converting torch tensor to Numpy ndarry**"
      ],
      "metadata": {
        "id": "suTyrhnDtkdD"
      }
    },
    {
      "cell_type": "code",
      "source": [
        "t = t.numpy()\n",
        "print(t.shape)\n",
        "print(t)\n",
        "print(type(t))\n",
        "print(t.dtype)"
      ],
      "metadata": {
        "colab": {
          "base_uri": "https://localhost:8080/"
        },
        "id": "jYE9mdRpbSbO",
        "outputId": "07d9aed8-3dcf-4fe2-970e-7eed0d6c7149"
      },
      "execution_count": 68,
      "outputs": [
        {
          "output_type": "stream",
          "name": "stdout",
          "text": [
            "(5, 5)\n",
            "[[1 1 1 1 1]\n",
            " [1 1 1 1 1]\n",
            " [1 1 1 1 1]\n",
            " [1 1 1 1 1]\n",
            " [1 1 1 1 1]]\n",
            "<class 'numpy.ndarray'>\n",
            "int32\n"
          ]
        }
      ]
    },
    {
      "cell_type": "markdown",
      "source": [
        "# **Tensor Operations**"
      ],
      "metadata": {
        "id": "gRcVnRdycETh"
      }
    },
    {
      "cell_type": "markdown",
      "source": [
        "## **Matrix Multiplication:**\n",
        " - T1 of (n x m) dimensions can only be multiplicable with other Tensor of  (m x p). \n",
        " - A x B is not equal to B x A unless both the (n x n) matrix\n"
      ],
      "metadata": {
        "id": "lUJwXgdXcLUe"
      }
    },
    {
      "cell_type": "code",
      "source": [
        "A = torch.randn(3,4)\n",
        "B = torch.randn(4,2)\n",
        "# We are multipling Matrix A with B\n",
        "result = A.mm(B)\n",
        "#result = torch.matmul(A, B)\n",
        "print(result.shape)\n",
        "print(result)\n",
        "print(type(result))\n",
        "print(result.dtype)"
      ],
      "metadata": {
        "colab": {
          "base_uri": "https://localhost:8080/"
        },
        "id": "O_kyGSllbhOc",
        "outputId": "05166aa9-6f97-4a58-ae7f-843e1b45a683"
      },
      "execution_count": 76,
      "outputs": [
        {
          "output_type": "stream",
          "name": "stdout",
          "text": [
            "torch.Size([3, 2])\n",
            "tensor([[-3.1766,  1.4652],\n",
            "        [ 1.3369, -2.0232],\n",
            "        [-0.7672, -3.8553]])\n",
            "<class 'torch.Tensor'>\n",
            "torch.float32\n"
          ]
        }
      ]
    },
    {
      "cell_type": "code",
      "source": [
        "## Following will generate the error \n",
        "## as it does not follow the - A (n x m) with B (m x p) notation \n",
        "## ----- Will generation the exception\n",
        "A = torch.randn(3,4)\n",
        "B = torch.randn(4,2)\n",
        "# We are multipling Matrix A with B\n",
        "result = B.mm(A)\n",
        "print(result.shape)\n",
        "print(result)\n",
        "print(type(result))\n",
        "print(result.dtype)"
      ],
      "metadata": {
        "colab": {
          "base_uri": "https://localhost:8080/",
          "height": 239
        },
        "id": "1X0TJgTNcsCQ",
        "outputId": "95cc5145-373c-4fc9-89b6-aa74bb2fbfd3"
      },
      "execution_count": 72,
      "outputs": [
        {
          "output_type": "error",
          "ename": "RuntimeError",
          "evalue": "ignored",
          "traceback": [
            "\u001b[0;31m---------------------------------------------------------------------------\u001b[0m",
            "\u001b[0;31mRuntimeError\u001b[0m                              Traceback (most recent call last)",
            "\u001b[0;32m<ipython-input-72-dc733f6a3e71>\u001b[0m in \u001b[0;36m<module>\u001b[0;34m()\u001b[0m\n\u001b[1;32m      5\u001b[0m \u001b[0mB\u001b[0m \u001b[0;34m=\u001b[0m \u001b[0mtorch\u001b[0m\u001b[0;34m.\u001b[0m\u001b[0mrandn\u001b[0m\u001b[0;34m(\u001b[0m\u001b[0;36m4\u001b[0m\u001b[0;34m,\u001b[0m\u001b[0;36m2\u001b[0m\u001b[0;34m)\u001b[0m\u001b[0;34m\u001b[0m\u001b[0;34m\u001b[0m\u001b[0m\n\u001b[1;32m      6\u001b[0m \u001b[0;31m# We are multipling Matrix A with B\u001b[0m\u001b[0;34m\u001b[0m\u001b[0;34m\u001b[0m\u001b[0;34m\u001b[0m\u001b[0m\n\u001b[0;32m----> 7\u001b[0;31m \u001b[0mresult\u001b[0m \u001b[0;34m=\u001b[0m \u001b[0mB\u001b[0m\u001b[0;34m.\u001b[0m\u001b[0mmm\u001b[0m\u001b[0;34m(\u001b[0m\u001b[0mA\u001b[0m\u001b[0;34m)\u001b[0m\u001b[0;34m\u001b[0m\u001b[0;34m\u001b[0m\u001b[0m\n\u001b[0m\u001b[1;32m      8\u001b[0m \u001b[0mprint\u001b[0m\u001b[0;34m(\u001b[0m\u001b[0mresult\u001b[0m\u001b[0;34m.\u001b[0m\u001b[0mshape\u001b[0m\u001b[0;34m)\u001b[0m\u001b[0;34m\u001b[0m\u001b[0;34m\u001b[0m\u001b[0m\n\u001b[1;32m      9\u001b[0m \u001b[0mprint\u001b[0m\u001b[0;34m(\u001b[0m\u001b[0mresult\u001b[0m\u001b[0;34m)\u001b[0m\u001b[0;34m\u001b[0m\u001b[0;34m\u001b[0m\u001b[0m\n",
            "\u001b[0;31mRuntimeError\u001b[0m: mat1 and mat2 shapes cannot be multiplied (4x2 and 3x4)"
          ]
        }
      ]
    },
    {
      "cell_type": "markdown",
      "source": [
        "# **Transpose:**\n",
        "- Transpose changes matrix rows to columns and columns to rows"
      ],
      "metadata": {
        "id": "25PLzsA_dUDP"
      }
    },
    {
      "cell_type": "code",
      "source": [
        "A = torch.randn(4,4)\n",
        "t = A.t()\n",
        "print(t.shape)\n",
        "print(A)\n",
        "print(\"-------------\")\n",
        "print(t)\n",
        "print(type(t))\n",
        "print(t.dtype)"
      ],
      "metadata": {
        "colab": {
          "base_uri": "https://localhost:8080/"
        },
        "id": "lyFr3cEncKZo",
        "outputId": "97cb49af-a69a-408a-924b-890085a19d71"
      },
      "execution_count": 73,
      "outputs": [
        {
          "output_type": "stream",
          "name": "stdout",
          "text": [
            "torch.Size([4, 4])\n",
            "tensor([[-0.3669, -1.0673, -0.9142,  0.1216],\n",
            "        [-0.0885,  1.0181,  1.0415,  0.0914],\n",
            "        [ 0.7694, -0.6141, -0.4084, -0.2934],\n",
            "        [ 0.8024,  0.7341, -1.3598, -0.8646]])\n",
            "-------------\n",
            "tensor([[-0.3669, -0.0885,  0.7694,  0.8024],\n",
            "        [-1.0673,  1.0181, -0.6141,  0.7341],\n",
            "        [-0.9142,  1.0415, -0.4084, -1.3598],\n",
            "        [ 0.1216,  0.0914, -0.2934, -0.8646]])\n",
            "<class 'torch.Tensor'>\n",
            "torch.float32\n"
          ]
        }
      ]
    },
    {
      "cell_type": "markdown",
      "source": [
        "# **Airthmatic Element-wise Operations:**\n"
      ],
      "metadata": {
        "id": "hxgx14ySeB1g"
      }
    },
    {
      "cell_type": "markdown",
      "source": [
        "## **multiplication by a number**"
      ],
      "metadata": {
        "id": "FPKcK2jIfVaS"
      }
    },
    {
      "cell_type": "code",
      "source": [
        "#A = torch.randn(4,4)\n",
        "#A = torch.zeros(4,4)\n",
        "A = torch.ones(4,4)\n",
        "print(A)\n",
        "t = A*5\n",
        "print(t)\n",
        "print(type(t))\n",
        "print(t.shape)\n",
        "print(t.size())\n",
        "print(t.dtype)"
      ],
      "metadata": {
        "colab": {
          "base_uri": "https://localhost:8080/"
        },
        "id": "PT7zv8ULddFG",
        "outputId": "bdc7062e-d914-48f6-941f-da0a94e3bc55"
      },
      "execution_count": 74,
      "outputs": [
        {
          "output_type": "stream",
          "name": "stdout",
          "text": [
            "tensor([[1., 1., 1., 1.],\n",
            "        [1., 1., 1., 1.],\n",
            "        [1., 1., 1., 1.],\n",
            "        [1., 1., 1., 1.]])\n",
            "tensor([[5., 5., 5., 5.],\n",
            "        [5., 5., 5., 5.],\n",
            "        [5., 5., 5., 5.],\n",
            "        [5., 5., 5., 5.]])\n",
            "<class 'torch.Tensor'>\n",
            "torch.Size([4, 4])\n",
            "torch.Size([4, 4])\n",
            "torch.float32\n"
          ]
        }
      ]
    },
    {
      "cell_type": "code",
      "source": [
        "A = torch.ones(4,4)\n",
        "print(A)\n",
        "B = torch.rand(4,5)\n",
        "print(B)\n",
        "t = torch.matmul(A, B)\n",
        "#t = A.matmul(B)\n",
        "print(t)\n",
        "print(type(t))\n",
        "print(t.shape)\n",
        "print(t.size())\n",
        "print(t.dtype)"
      ],
      "metadata": {
        "colab": {
          "base_uri": "https://localhost:8080/"
        },
        "id": "o0zP7RMc-h6z",
        "outputId": "ec4fdf72-9893-4e09-fee7-92430a88ef56"
      },
      "execution_count": 77,
      "outputs": [
        {
          "output_type": "stream",
          "name": "stdout",
          "text": [
            "tensor([[1., 1., 1., 1.],\n",
            "        [1., 1., 1., 1.],\n",
            "        [1., 1., 1., 1.],\n",
            "        [1., 1., 1., 1.]])\n",
            "tensor([[0.9552, 0.5150, 0.9607, 0.4660, 0.8536],\n",
            "        [0.5186, 0.6494, 0.9207, 0.7565, 0.9486],\n",
            "        [0.3585, 0.9718, 0.0369, 0.4048, 0.7341],\n",
            "        [0.6917, 0.0766, 0.1418, 0.1856, 0.5546]])\n",
            "tensor([[2.5241, 2.2127, 2.0602, 1.8129, 3.0909],\n",
            "        [2.5241, 2.2127, 2.0602, 1.8129, 3.0909],\n",
            "        [2.5241, 2.2127, 2.0602, 1.8129, 3.0909],\n",
            "        [2.5241, 2.2127, 2.0602, 1.8129, 3.0909]])\n",
            "<class 'torch.Tensor'>\n",
            "torch.Size([4, 5])\n",
            "torch.Size([4, 5])\n",
            "torch.float32\n"
          ]
        }
      ]
    },
    {
      "cell_type": "code",
      "source": [
        "A = torch.rand(3,3)\n",
        "B = torch.rand(3,5)\n",
        "out1 = torch.rand_like(A)\n",
        "#print(A)\n",
        "print(out1)\n",
        "torch.matmul(A, B, out=out1) ## Add 'out=out' and check the result \n",
        "print(out1)\n"
      ],
      "metadata": {
        "colab": {
          "base_uri": "https://localhost:8080/"
        },
        "id": "5utFQ9uplpNA",
        "outputId": "cf3cd862-24d0-4e67-9fe4-679e886258d9"
      },
      "execution_count": 85,
      "outputs": [
        {
          "output_type": "stream",
          "name": "stdout",
          "text": [
            "tensor([[0.4112, 0.2995, 0.1816],\n",
            "        [0.1086, 0.2312, 0.9298],\n",
            "        [0.2656, 0.6965, 0.3944]])\n",
            "tensor([[0.8442, 0.5833, 0.5509, 1.0535, 1.1035],\n",
            "        [0.5261, 0.4825, 0.7151, 0.6258, 0.6990],\n",
            "        [0.7580, 0.7570, 0.3462, 1.0048, 1.0968]])\n"
          ]
        },
        {
          "output_type": "stream",
          "name": "stderr",
          "text": [
            "/usr/local/lib/python3.7/dist-packages/ipykernel_launcher.py:6: UserWarning: An output with one or more elements was resized since it had shape [3, 3], which does not match the required output shape [3, 5].This behavior is deprecated, and in a future PyTorch release outputs will not be resized unless they have zero elements. You can explicitly reuse an out tensor t by resizing it, inplace, to zero elements with t.resize_(0). (Triggered internally at  ../aten/src/ATen/native/Resize.cpp:24.)\n",
            "  \n"
          ]
        }
      ]
    },
    {
      "cell_type": "markdown",
      "source": [
        "## **Division**"
      ],
      "metadata": {
        "id": "kXh0KVLrfzs2"
      }
    },
    {
      "cell_type": "code",
      "source": [
        "A = torch.randn(4,4)\n",
        "#A = torch.zeros(4,4)\n",
        "#A = torch.ones(4,4)\n",
        "print(A)\n",
        "t = A/2.0\n",
        "print(t)\n",
        "print(type(t))\n",
        "print(t.shape)\n",
        "print(t.size())\n",
        "print(t.dtype)"
      ],
      "metadata": {
        "colab": {
          "base_uri": "https://localhost:8080/"
        },
        "id": "BeL0-OLLe2UZ",
        "outputId": "48ffa1e0-9513-4e90-c6ae-0caad36feb88"
      },
      "execution_count": 88,
      "outputs": [
        {
          "output_type": "stream",
          "name": "stdout",
          "text": [
            "tensor([[ 2.0710,  0.6421,  0.6936, -0.7469],\n",
            "        [ 2.9741, -1.0179,  0.8612, -1.2130],\n",
            "        [ 0.1052,  0.4806,  0.6378,  0.3920],\n",
            "        [ 1.0115, -0.9665, -0.7306, -0.5000]])\n",
            "tensor([[ 1.0355,  0.3211,  0.3468, -0.3734],\n",
            "        [ 1.4871, -0.5089,  0.4306, -0.6065],\n",
            "        [ 0.0526,  0.2403,  0.3189,  0.1960],\n",
            "        [ 0.5058, -0.4832, -0.3653, -0.2500]])\n",
            "<class 'torch.Tensor'>\n",
            "torch.Size([4, 4])\n",
            "torch.Size([4, 4])\n",
            "torch.float32\n"
          ]
        }
      ]
    },
    {
      "cell_type": "markdown",
      "source": [
        "## **Addition**"
      ],
      "metadata": {
        "id": "NVnrF4Ekf4Ao"
      }
    },
    {
      "cell_type": "code",
      "source": [
        "#A = torch.randn(4,4)\n",
        "#A = torch.zeros(4,4)\n",
        "A = torch.ones(4,4)\n",
        "print(A)\n",
        "t = A + 8\n",
        "#t = A + 8 * A\n",
        "print(t)\n",
        "print(type(t))\n",
        "print(t.shape)\n",
        "print(t.size())\n",
        "print(t.dtype)"
      ],
      "metadata": {
        "colab": {
          "base_uri": "https://localhost:8080/"
        },
        "id": "mrv-p4Ccf3r6",
        "outputId": "37f82a48-9cc5-42ac-c999-a8a365eff9a0"
      },
      "execution_count": 92,
      "outputs": [
        {
          "output_type": "stream",
          "name": "stdout",
          "text": [
            "tensor([[1., 1., 1., 1.],\n",
            "        [1., 1., 1., 1.],\n",
            "        [1., 1., 1., 1.],\n",
            "        [1., 1., 1., 1.]])\n",
            "tensor([[9., 9., 9., 9.],\n",
            "        [9., 9., 9., 9.],\n",
            "        [9., 9., 9., 9.],\n",
            "        [9., 9., 9., 9.]])\n",
            "<class 'torch.Tensor'>\n",
            "torch.Size([4, 4])\n",
            "torch.Size([4, 4])\n",
            "torch.float32\n"
          ]
        }
      ]
    },
    {
      "cell_type": "markdown",
      "source": [
        "## **Substraction:**"
      ],
      "metadata": {
        "id": "oTecP8vVgCWH"
      }
    },
    {
      "cell_type": "code",
      "source": [
        "#A = torch.randn(4,4)\n",
        "#A = torch.zeros(4,4)\n",
        "A = torch.ones(4,4)\n",
        "print(A)\n",
        "t = A - 0.1\n",
        "print(t)\n",
        "print(type(t))\n",
        "print(t.shape)\n",
        "print(t.size())\n",
        "print(t.dtype)"
      ],
      "metadata": {
        "colab": {
          "base_uri": "https://localhost:8080/"
        },
        "id": "5OCqcLwcfyJX",
        "outputId": "5e622571-b6d2-4d0b-8836-a863905ff4bb"
      },
      "execution_count": 94,
      "outputs": [
        {
          "output_type": "stream",
          "name": "stdout",
          "text": [
            "tensor([[1., 1., 1., 1.],\n",
            "        [1., 1., 1., 1.],\n",
            "        [1., 1., 1., 1.],\n",
            "        [1., 1., 1., 1.]])\n",
            "tensor([[0.9000, 0.9000, 0.9000, 0.9000],\n",
            "        [0.9000, 0.9000, 0.9000, 0.9000],\n",
            "        [0.9000, 0.9000, 0.9000, 0.9000],\n",
            "        [0.9000, 0.9000, 0.9000, 0.9000]])\n",
            "<class 'torch.Tensor'>\n",
            "torch.Size([4, 4])\n",
            "torch.Size([4, 4])\n",
            "torch.float32\n"
          ]
        }
      ]
    },
    {
      "cell_type": "markdown",
      "source": [
        "## **Division**"
      ],
      "metadata": {
        "id": "c8g_ZIEhgK7l"
      }
    },
    {
      "cell_type": "code",
      "source": [
        "#A = torch.randn(4,4)\n",
        "#A = torch.zeros(4,4)\n",
        "A = torch.ones(4,4)\n",
        "print(A)\n",
        "t = A / 0\n",
        "print(t)\n",
        "print(type(t))\n",
        "print(t.shape)\n",
        "print(t.size())\n",
        "print(t.dtype)"
      ],
      "metadata": {
        "colab": {
          "base_uri": "https://localhost:8080/"
        },
        "id": "125Ojlb8gG4X",
        "outputId": "580908a2-daa7-416e-e9c6-f5dc9715feab"
      },
      "execution_count": 95,
      "outputs": [
        {
          "output_type": "stream",
          "name": "stdout",
          "text": [
            "tensor([[1., 1., 1., 1.],\n",
            "        [1., 1., 1., 1.],\n",
            "        [1., 1., 1., 1.],\n",
            "        [1., 1., 1., 1.]])\n",
            "tensor([[inf, inf, inf, inf],\n",
            "        [inf, inf, inf, inf],\n",
            "        [inf, inf, inf, inf],\n",
            "        [inf, inf, inf, inf]])\n",
            "<class 'torch.Tensor'>\n",
            "torch.Size([4, 4])\n",
            "torch.Size([4, 4])\n",
            "torch.float32\n"
          ]
        }
      ]
    },
    {
      "cell_type": "markdown",
      "source": [
        "## **Square Root:**"
      ],
      "metadata": {
        "id": "FB8LaSzffatF"
      }
    },
    {
      "cell_type": "code",
      "source": [
        "#A = torch.randn(4,4)\n",
        "#A = torch.zeros(4,4)\n",
        "A = torch.ones(4,4)\n",
        "print(A)\n",
        "t = A**2\n",
        "print(t)\n",
        "print(type(t))\n",
        "print(t.shape)\n",
        "print(t.size())\n",
        "print(t.dtype)"
      ],
      "metadata": {
        "colab": {
          "base_uri": "https://localhost:8080/"
        },
        "id": "JfZ4cWWcfbEQ",
        "outputId": "831eb9f3-43a5-4ac9-b61b-231204f6c331"
      },
      "execution_count": 97,
      "outputs": [
        {
          "output_type": "stream",
          "name": "stdout",
          "text": [
            "tensor([[1., 1., 1., 1.],\n",
            "        [1., 1., 1., 1.],\n",
            "        [1., 1., 1., 1.],\n",
            "        [1., 1., 1., 1.]])\n",
            "tensor([[1., 1., 1., 1.],\n",
            "        [1., 1., 1., 1.],\n",
            "        [1., 1., 1., 1.],\n",
            "        [1., 1., 1., 1.]])\n",
            "<class 'torch.Tensor'>\n",
            "torch.Size([4, 4])\n",
            "torch.Size([4, 4])\n",
            "torch.float32\n"
          ]
        }
      ]
    },
    {
      "cell_type": "markdown",
      "source": [
        "# **Aggregation**"
      ],
      "metadata": {
        "id": "RqZ6xzbgkCyv"
      }
    },
    {
      "cell_type": "code",
      "source": [
        "# Summing of all values in the tensor to a single value\n",
        "#tensor = torch.ones(2,2)\n",
        "#tensor = torch.zeros(2,2)\n",
        "tensor = torch.rand(2,2)\n",
        "print(tensor)\n",
        "agg = tensor.sum()\n",
        "agg_item = agg.item()\n",
        "print(agg_item, type(agg_item))"
      ],
      "metadata": {
        "colab": {
          "base_uri": "https://localhost:8080/"
        },
        "id": "Nc86Fvq4kCil",
        "outputId": "2e54da6a-3a19-445b-ff62-d2ac722e8cbb"
      },
      "execution_count": 100,
      "outputs": [
        {
          "output_type": "stream",
          "name": "stdout",
          "text": [
            "tensor([[0.6234, 0.9916],\n",
            "        [0.2838, 0.4061]])\n",
            "2.304842948913574 <class 'float'>\n"
          ]
        }
      ]
    },
    {
      "cell_type": "markdown",
      "source": [
        "# **In-place operations**"
      ],
      "metadata": {
        "id": "qKKX3roNkk0U"
      }
    },
    {
      "cell_type": "code",
      "source": [
        "tensor = torch.ones(2,2)\n",
        "#tensor = torch.zeros(2,2)\n",
        "tensor = torch.rand(2,2)\n",
        "print(f\"{tensor} \\n\")\n",
        "#tensor.add_(5)\n",
        "#tensor.sub_(5)\n",
        "#tensor.div_(5)\n",
        "tensor.mul_(5)\n",
        "print(tensor)"
      ],
      "metadata": {
        "colab": {
          "base_uri": "https://localhost:8080/"
        },
        "id": "BGdhDzWVkkKo",
        "outputId": "dd7389ab-04d9-4e4e-8f8a-2b2cf94ee5a3"
      },
      "execution_count": 105,
      "outputs": [
        {
          "output_type": "stream",
          "name": "stdout",
          "text": [
            "tensor([[0.6219, 0.9041],\n",
            "        [0.1879, 0.1192]]) \n",
            "\n",
            "tensor([[3.1097, 4.5206],\n",
            "        [0.9393, 0.5961]])\n"
          ]
        }
      ]
    },
    {
      "cell_type": "markdown",
      "source": [
        "# **Logical Operation**"
      ],
      "metadata": {
        "id": "Vunel_AZgai0"
      }
    },
    {
      "cell_type": "markdown",
      "source": [
        "- Comparision ( >, <, ==, != , >=, <=  )"
      ],
      "metadata": {
        "id": "vyEIl-iOgeF8"
      }
    },
    {
      "cell_type": "code",
      "source": [
        "A = torch.Tensor([[1,2,3], [4,5,6]])\n",
        "#A = torch.randn(4,4)\n",
        "#A = torch.zeros(4,4)\n",
        "#A = torch.ones(4,4)\n",
        "print(A)\n",
        "t = A >=5 \n",
        "print(t)\n",
        "print(type(t))\n",
        "print(t.shape)\n",
        "print(t.size())\n",
        "print(t.dtype)"
      ],
      "metadata": {
        "colab": {
          "base_uri": "https://localhost:8080/"
        },
        "id": "Oz8uTubVgPMo",
        "outputId": "12c9166b-77b5-44c0-8895-d1a4e805560b"
      },
      "execution_count": 110,
      "outputs": [
        {
          "output_type": "stream",
          "name": "stdout",
          "text": [
            "tensor([[1., 2., 3.],\n",
            "        [4., 5., 6.]])\n",
            "tensor([[False, False, False],\n",
            "        [False,  True,  True]])\n",
            "<class 'torch.Tensor'>\n",
            "torch.Size([2, 3])\n",
            "torch.Size([2, 3])\n",
            "torch.bool\n"
          ]
        }
      ]
    },
    {
      "cell_type": "markdown",
      "source": [
        "# **Bitwise or Shift Operator**\n",
        "- Left Shift (<<)\n",
        "- Right shift (>>)"
      ],
      "metadata": {
        "id": "HJvkVphpiYec"
      }
    },
    {
      "cell_type": "code",
      "source": [
        "#A = torch.randn(4,4)\n",
        "A = torch.zeros(4,4)\n",
        "#A = torch.ones(4,4)\n",
        "print(A)\n",
        "t = A << 5\n",
        "print(t)\n",
        "print(type(t))\n",
        "print(t.shape)\n",
        "print(t.size())\n",
        "print(t.dtype)"
      ],
      "metadata": {
        "colab": {
          "base_uri": "https://localhost:8080/"
        },
        "id": "l77kmt2mgVGP",
        "outputId": "5737959b-9488-40c6-f780-198d44f62722"
      },
      "execution_count": 122,
      "outputs": [
        {
          "output_type": "stream",
          "name": "stdout",
          "text": [
            "tensor([[0., 0., 0., 0.],\n",
            "        [0., 0., 0., 0.],\n",
            "        [0., 0., 0., 0.],\n",
            "        [0., 0., 0., 0.]])\n",
            "tensor([[0., 0., 0., 0.],\n",
            "        [0., 0., 0., 0.],\n",
            "        [0., 0., 0., 0.],\n",
            "        [0., 0., 0., 0.]])\n",
            "<class 'torch.Tensor'>\n",
            "torch.Size([4, 4])\n",
            "torch.Size([4, 4])\n",
            "torch.float32\n"
          ]
        }
      ]
    },
    {
      "cell_type": "code",
      "source": [
        "#x = torch.tensor([32, 16, 8])\n",
        "x = torch.tensor([32.32, 16.16, 8.8])\n",
        "#y = torch.tensor([1, 1, 1])\n",
        "y = torch.tensor([1, 2, 3])\n",
        "z = x << y\n",
        "p = x >> y\n",
        "print(z)\n",
        "print(\"-------\")\n",
        "print(p)\n",
        "print(p.dtype)"
      ],
      "metadata": {
        "colab": {
          "base_uri": "https://localhost:8080/"
        },
        "id": "m7P6sIzmhspN",
        "outputId": "ca5f97dc-139e-4b5e-865c-ff72a929b266"
      },
      "execution_count": 125,
      "outputs": [
        {
          "output_type": "stream",
          "name": "stdout",
          "text": [
            "tensor([64.6400, 64.6400, 70.4000])\n",
            "-------\n",
            "tensor([16.1600,  4.0400,  1.1000])\n",
            "torch.float32\n"
          ]
        }
      ]
    },
    {
      "cell_type": "markdown",
      "source": [
        "# **Standard numpy-like indexing and slicing:**"
      ],
      "metadata": {
        "id": "1SGkGUbr8ExN"
      }
    },
    {
      "cell_type": "code",
      "source": [
        "#tensor = torch.ones(4, 4)\n",
        "tensor = torch.rand(4, 4)\n",
        "print(f\"Full Tensor:\\n {tensor}\")\n",
        "print(f\"First row: {tensor[0]}\")\n",
        "print(f\"First column: {tensor[:, 0]}\")\n",
        "print(f\"Second column: {tensor[:, 1]}\")\n",
        "print(f\"Last column: {tensor[..., -1]}\")\n",
        "# assignment to tensor slice\n",
        "tensor[:,1] = 0\n",
        "print(tensor)"
      ],
      "metadata": {
        "colab": {
          "base_uri": "https://localhost:8080/"
        },
        "id": "_qZ3noGQ196b",
        "outputId": "dae6a9c7-1779-4c04-b8d7-7aa89a8dff9d"
      },
      "execution_count": 130,
      "outputs": [
        {
          "output_type": "stream",
          "name": "stdout",
          "text": [
            "Full Tensor:\n",
            " tensor([[0.9841, 0.3721, 0.8911, 0.7945],\n",
            "        [0.8968, 0.3479, 0.1619, 0.5238],\n",
            "        [0.1645, 0.7888, 0.2040, 0.6947],\n",
            "        [0.8139, 0.3582, 0.8062, 0.0221]])\n",
            "First row: tensor([0.9841, 0.3721, 0.8911, 0.7945])\n",
            "First column: tensor([0.9841, 0.8968, 0.1645, 0.8139])\n",
            "Second column: tensor([0.3721, 0.3479, 0.7888, 0.3582])\n",
            "Last column: tensor([0.7945, 0.5238, 0.6947, 0.0221])\n",
            "tensor([[0.9841, 0.0000, 0.8911, 0.7945],\n",
            "        [0.8968, 0.0000, 0.1619, 0.5238],\n",
            "        [0.1645, 0.0000, 0.2040, 0.6947],\n",
            "        [0.8139, 0.0000, 0.8062, 0.0221]])\n"
          ]
        }
      ]
    },
    {
      "cell_type": "markdown",
      "source": [
        "# **Tensor Reshape Operation**"
      ],
      "metadata": {
        "id": "zUKBuLK5oiFo"
      }
    },
    {
      "cell_type": "code",
      "source": [
        "# Note: Reshaping the Tensor must be a valid reshape\n",
        "t = torch.tensor([[1, 2], [3, 4], [5, 6]])\n",
        "print(t)\n",
        "print(t.shape)\n",
        "# Reshape Tensor to 2 rows and 3 columns\n",
        "print(t.view(2, 3))\n",
        "# Reshape Tensor to 6 rows and -1 columns\n",
        "print(t.view(6,-1))\n",
        "# Reshape Tensor to 2/3 rows and adjustable columns\n",
        "print(t.view(2,-1))\n",
        "print(t.view(3,-1))\n",
        "# Reshape Tensor to adjustable rows and  2/3 columns\n",
        "print(t.view(-1, 2))\n",
        "print(t.view(-1, 3))\n",
        "# The following will return an error\n",
        "#print(t.view(10,-1))\n",
        "# RuntimeError: shape '[10, -1]' is invalid for input of size 6\n"
      ],
      "metadata": {
        "colab": {
          "base_uri": "https://localhost:8080/"
        },
        "id": "lQU4Ajr9oiaP",
        "outputId": "e116cb80-52dd-43b4-d1b1-4f491d99b1dd"
      },
      "execution_count": 136,
      "outputs": [
        {
          "output_type": "stream",
          "name": "stdout",
          "text": [
            "tensor([[1, 2],\n",
            "        [3, 4],\n",
            "        [5, 6]])\n",
            "torch.Size([3, 2])\n",
            "tensor([[1, 2, 3],\n",
            "        [4, 5, 6]])\n",
            "tensor([[1],\n",
            "        [2],\n",
            "        [3],\n",
            "        [4],\n",
            "        [5],\n",
            "        [6]])\n",
            "tensor([[1, 2, 3],\n",
            "        [4, 5, 6]])\n",
            "tensor([[1, 2],\n",
            "        [3, 4],\n",
            "        [5, 6]])\n",
            "tensor([[1, 2],\n",
            "        [3, 4],\n",
            "        [5, 6]])\n",
            "tensor([[1, 2, 3],\n",
            "        [4, 5, 6]])\n"
          ]
        }
      ]
    },
    {
      "cell_type": "markdown",
      "source": [
        "# **Tensor Concatnation:**\n"
      ],
      "metadata": {
        "id": "qVE3nZQN8PVa"
      }
    },
    {
      "cell_type": "code",
      "source": [
        "t = torch.ones(2,2,)\n",
        "t0 = torch.rand(2,2)\n",
        "print(t)\n",
        "print(t0)\n",
        "\n",
        "t1 = torch.cat([t, t, t0])\n",
        "t2 = torch.cat([t, t, t0], dim=1)\n",
        "print(t1)\n",
        "print(t1.shape)\n",
        "print(t2)\n",
        "print(t2.shape)\n"
      ],
      "metadata": {
        "colab": {
          "base_uri": "https://localhost:8080/"
        },
        "id": "-lGibd117r7C",
        "outputId": "7549cd68-ac3b-4286-b27d-24a376d38d61"
      },
      "execution_count": 141,
      "outputs": [
        {
          "output_type": "stream",
          "name": "stdout",
          "text": [
            "tensor([[1., 1.],\n",
            "        [1., 1.]])\n",
            "tensor([[0.6846, 0.3654],\n",
            "        [0.1466, 0.7399]])\n",
            "tensor([[1.0000, 1.0000],\n",
            "        [1.0000, 1.0000],\n",
            "        [1.0000, 1.0000],\n",
            "        [1.0000, 1.0000],\n",
            "        [0.6846, 0.3654],\n",
            "        [0.1466, 0.7399]])\n",
            "torch.Size([6, 2])\n",
            "tensor([[1.0000, 1.0000, 1.0000, 1.0000, 0.6846, 0.3654],\n",
            "        [1.0000, 1.0000, 1.0000, 1.0000, 0.1466, 0.7399]])\n",
            "torch.Size([2, 6])\n"
          ]
        }
      ]
    },
    {
      "cell_type": "markdown",
      "source": [
        "# **Device for the Tensor**"
      ],
      "metadata": {
        "id": "JQy9lTRT0RXe"
      }
    },
    {
      "cell_type": "code",
      "source": [
        "shape = (2,3,)\n",
        "t = torch.ones(shape)\n",
        "print(t)\n",
        "print(f\"Device tensor is stored on: {t.device}\")"
      ],
      "metadata": {
        "colab": {
          "base_uri": "https://localhost:8080/"
        },
        "id": "tYfViYGMikUS",
        "outputId": "3d8c529c-a703-4587-edaa-86291a691448"
      },
      "execution_count": 3,
      "outputs": [
        {
          "output_type": "stream",
          "name": "stdout",
          "text": [
            "tensor([[1., 1., 1.],\n",
            "        [1., 1., 1.]])\n",
            "Device tensor is stored on: cpu\n"
          ]
        }
      ]
    },
    {
      "cell_type": "markdown",
      "source": [
        "# **Supporting GPU with PyTorch**"
      ],
      "metadata": {
        "id": "HiGDoQx511K_"
      }
    },
    {
      "cell_type": "code",
      "source": [
        "if torch.cuda.is_available():\n",
        "  print(torch.cuda.device_count())"
      ],
      "metadata": {
        "colab": {
          "base_uri": "https://localhost:8080/"
        },
        "id": "ytIYdaRU4Wmc",
        "outputId": "df5e1c93-8a34-411b-835e-ac27857570e8"
      },
      "execution_count": 4,
      "outputs": [
        {
          "output_type": "stream",
          "name": "stdout",
          "text": [
            "1\n"
          ]
        }
      ]
    },
    {
      "cell_type": "code",
      "source": [
        "torch.cuda.get_device_name(0)"
      ],
      "metadata": {
        "colab": {
          "base_uri": "https://localhost:8080/",
          "height": 35
        },
        "id": "Gyo3W8sf2kRs",
        "outputId": "8a8c9ef4-2983-4f50-fcfb-fe06feecc71b"
      },
      "execution_count": 5,
      "outputs": [
        {
          "output_type": "execute_result",
          "data": {
            "text/plain": [
              "'Tesla T4'"
            ],
            "application/vnd.google.colaboratory.intrinsic+json": {
              "type": "string"
            }
          },
          "metadata": {},
          "execution_count": 5
        }
      ]
    },
    {
      "cell_type": "code",
      "source": [
        "print(torch.cuda.device_count())"
      ],
      "metadata": {
        "colab": {
          "base_uri": "https://localhost:8080/"
        },
        "id": "M93gUXZL2gTt",
        "outputId": "76dcc51c-3447-4a32-e29e-96fd48ec1daf"
      },
      "execution_count": 6,
      "outputs": [
        {
          "output_type": "stream",
          "name": "stdout",
          "text": [
            "1\n"
          ]
        }
      ]
    },
    {
      "cell_type": "code",
      "source": [
        "if torch.cuda.is_available():\n",
        "  for i in range(torch.cuda.device_count()):\n",
        "    print(torch.cuda.get_device_name(i))"
      ],
      "metadata": {
        "colab": {
          "base_uri": "https://localhost:8080/"
        },
        "id": "3qw4fTw46Trj",
        "outputId": "28921d9e-9e15-4000-e160-3275984da3a8"
      },
      "execution_count": 7,
      "outputs": [
        {
          "output_type": "stream",
          "name": "stdout",
          "text": [
            "Tesla T4\n"
          ]
        }
      ]
    },
    {
      "cell_type": "code",
      "source": [
        "device=torch.device('cuda:0')\n",
        "print(device)"
      ],
      "metadata": {
        "colab": {
          "base_uri": "https://localhost:8080/"
        },
        "id": "7j_06Rrc0HQ1",
        "outputId": "4554b033-20e1-4bce-f070-e32a1e559efc"
      },
      "execution_count": 7,
      "outputs": [
        {
          "output_type": "stream",
          "name": "stdout",
          "text": [
            "cuda:0\n"
          ]
        }
      ]
    },
    {
      "cell_type": "code",
      "source": [
        "cuda0 = torch.device('cuda:0')"
      ],
      "metadata": {
        "id": "ZOgGsoNk3Q55"
      },
      "execution_count": 8,
      "outputs": []
    },
    {
      "cell_type": "code",
      "source": [
        "shape = (2,3,)\n",
        "t = torch.ones(shape, device=torch.device('cuda:0'))\n",
        "#t = torch.ones(shape, device=torch.device(cuda0))\n",
        "#t = torch.zeros(shape, device=torch.device(cuda0))\n",
        "print(t)\n",
        "print(f\"Device tensor is stored on: {t.device}\")"
      ],
      "metadata": {
        "colab": {
          "base_uri": "https://localhost:8080/"
        },
        "id": "SDDdjC6S15sl",
        "outputId": "832117ea-b877-42a0-b8bf-8a899d9e602a"
      },
      "execution_count": 11,
      "outputs": [
        {
          "output_type": "stream",
          "name": "stdout",
          "text": [
            "tensor([[1., 1., 1.],\n",
            "        [1., 1., 1.]], device='cuda:0')\n",
            "Device tensor is stored on: cuda:0\n"
          ]
        }
      ]
    },
    {
      "cell_type": "code",
      "source": [
        "t = torch.rand(shape, device=torch.device(cuda0))\n",
        "print(t)\n",
        "print(f\"Device tensor is stored on: {t.device}\")"
      ],
      "metadata": {
        "colab": {
          "base_uri": "https://localhost:8080/"
        },
        "id": "YbDEJBX2nF0b",
        "outputId": "f1713474-6e1f-4860-f470-4efd4920e370"
      },
      "execution_count": 12,
      "outputs": [
        {
          "output_type": "stream",
          "name": "stdout",
          "text": [
            "tensor([[0.5803, 0.2415, 0.9138],\n",
            "        [0.5907, 0.1959, 0.9873]], device='cuda:0')\n",
            "Device tensor is stored on: cuda:0\n"
          ]
        }
      ]
    },
    {
      "cell_type": "code",
      "source": [
        "t = torch.randn(shape, device=torch.device(cuda0))\n",
        "print(t)\n",
        "print(f\"Device tensor is stored on: {t.device}\")"
      ],
      "metadata": {
        "colab": {
          "base_uri": "https://localhost:8080/"
        },
        "id": "hWKuPm2Ten6g",
        "outputId": "7425880d-6352-4011-b47b-6b99522abf86"
      },
      "execution_count": 13,
      "outputs": [
        {
          "output_type": "stream",
          "name": "stdout",
          "text": [
            "tensor([[ 0.3855,  0.5297, -0.0430],\n",
            "        [ 1.0148,  1.2021,  0.4993]], device='cuda:0')\n",
            "Device tensor is stored on: cuda:0\n"
          ]
        }
      ]
    },
    {
      "cell_type": "code",
      "source": [
        "import torch"
      ],
      "metadata": {
        "id": "dFr0COoYQ8Ss"
      },
      "execution_count": 6,
      "outputs": []
    },
    {
      "cell_type": "code",
      "source": [
        "t = torch.Tensor(100000, 1000,1000)\n",
        "print(t.shape)"
      ],
      "metadata": {
        "colab": {
          "base_uri": "https://localhost:8080/"
        },
        "id": "E2As5CgsQjdn",
        "outputId": "48e028e4-2490-4f1d-9ef4-14dc6c12e6f0"
      },
      "execution_count": 5,
      "outputs": [
        {
          "output_type": "stream",
          "name": "stdout",
          "text": [
            "torch.Size([100000, 1000, 1000])\n"
          ]
        }
      ]
    },
    {
      "cell_type": "markdown",
      "source": [
        "# **Operation directly on GPU**\n",
        "\n",
        "\n",
        "\n"
      ],
      "metadata": {
        "id": "JBe1j5Pye4Hl"
      }
    },
    {
      "cell_type": "code",
      "source": [
        "m1 = torch.ones(3, 2, device=cuda0)\n",
        "m2 = torch.ones(3, 2, device=cuda0)\n",
        "print(m1)\n",
        "print(m2)\n",
        "m0 = m1 + m2 \n",
        "m0 = m0 * m0\n",
        "print(m0)"
      ],
      "metadata": {
        "colab": {
          "base_uri": "https://localhost:8080/"
        },
        "id": "HaHbMKbteqB3",
        "outputId": "6618109e-aaac-465a-8137-89f24559c17f"
      },
      "execution_count": 10,
      "outputs": [
        {
          "output_type": "stream",
          "name": "stdout",
          "text": [
            "tensor([[1., 1.],\n",
            "        [1., 1.],\n",
            "        [1., 1.]], device='cuda:0')\n",
            "tensor([[1., 1.],\n",
            "        [1., 1.],\n",
            "        [1., 1.]], device='cuda:0')\n",
            "tensor([[4., 4.],\n",
            "        [4., 4.],\n",
            "        [4., 4.]], device='cuda:0')\n"
          ]
        }
      ]
    },
    {
      "cell_type": "markdown",
      "source": [
        "# **Moving tensor from GPU to CPU**"
      ],
      "metadata": {
        "id": "yt3lPH8ofVsp"
      }
    },
    {
      "cell_type": "code",
      "source": [
        "m00 = m0.cpu()\n",
        "print(m0)\n",
        "print(m00)\n",
        "print(\"-------------\")\n",
        "m0.cpu()\n",
        "print(m0)\n",
        "m0 = m0.cpu()\n",
        "print(m0)"
      ],
      "metadata": {
        "colab": {
          "base_uri": "https://localhost:8080/"
        },
        "id": "ahcI-ctVfLql",
        "outputId": "6eee93f5-edf9-4ee4-d022-a2c615b217a3"
      },
      "execution_count": 11,
      "outputs": [
        {
          "output_type": "stream",
          "name": "stdout",
          "text": [
            "tensor([[4., 4.],\n",
            "        [4., 4.],\n",
            "        [4., 4.]], device='cuda:0')\n",
            "tensor([[4., 4.],\n",
            "        [4., 4.],\n",
            "        [4., 4.]])\n",
            "-------------\n",
            "tensor([[4., 4.],\n",
            "        [4., 4.],\n",
            "        [4., 4.]], device='cuda:0')\n",
            "tensor([[4., 4.],\n",
            "        [4., 4.],\n",
            "        [4., 4.]])\n"
          ]
        }
      ]
    },
    {
      "cell_type": "code",
      "source": [
        ""
      ],
      "metadata": {
        "id": "ZW-jpfiUfg6a"
      },
      "execution_count": null,
      "outputs": []
    },
    {
      "cell_type": "markdown",
      "source": [
        "# **Bridge with NumPy:**\n",
        "\n",
        "Tensors on the CPU and NumPy arrays can share their underlying memory locations, and changing one will change the other.\n",
        "\n"
      ],
      "metadata": {
        "id": "0bOKbGBBm6uH"
      }
    },
    {
      "cell_type": "code",
      "source": [
        "t = torch.ones(5)\n",
        "print(f\"t: {t}\")\n",
        "\n",
        "\n",
        "n = t.numpy()\n",
        "print(f\"n: {n}\")"
      ],
      "metadata": {
        "colab": {
          "base_uri": "https://localhost:8080/"
        },
        "id": "kVbLAmi48YJC",
        "outputId": "fe983956-d639-44f5-8ca1-0f12a83418a2"
      },
      "execution_count": 14,
      "outputs": [
        {
          "output_type": "stream",
          "name": "stdout",
          "text": [
            "t: tensor([1., 1., 1., 1., 1.])\n",
            "n: [1. 1. 1. 1. 1.]\n"
          ]
        }
      ]
    },
    {
      "cell_type": "code",
      "source": [
        "t.add_(1)\n",
        "\n",
        "print(f\"t: {t}\")\n",
        "print(f\"n: {n}\")"
      ],
      "metadata": {
        "colab": {
          "base_uri": "https://localhost:8080/"
        },
        "id": "zIsKmQaunDAI",
        "outputId": "271df570-0013-41fe-e031-7555d07b4bd4"
      },
      "execution_count": 15,
      "outputs": [
        {
          "output_type": "stream",
          "name": "stdout",
          "text": [
            "t: tensor([2., 2., 2., 2., 2.])\n",
            "n: [2. 2. 2. 2. 2.]\n"
          ]
        }
      ]
    },
    {
      "cell_type": "code",
      "source": [
        "# the following will give the error as add_ is only the Tensor operation now the ndarray specific function\n",
        "#n.add_(1)"
      ],
      "metadata": {
        "id": "zgeQOn9ASA9e"
      },
      "execution_count": 17,
      "outputs": []
    },
    {
      "cell_type": "code",
      "source": [
        ""
      ],
      "metadata": {
        "id": "umM5v2xGSb_9"
      },
      "execution_count": null,
      "outputs": []
    }
  ]
}